{
  "nbformat": 4,
  "nbformat_minor": 0,
  "metadata": {
    "colab": {
      "name": "Abacate.ipynb",
      "provenance": [],
      "collapsed_sections": [
        "K1swFkiMo2JS",
        "Y5BXgcwmoGT6",
        "aEAs18VOIVWP",
        "Ydzof62PJQ_4",
        "wGipaH6yYxsF",
        "sOUOghO_imbu",
        "05ksXapUt_-y",
        "gho--k2-rlMk",
        "roJ0BzYYthL0",
        "G9dU2q8Pqt0o",
        "sgdK-iJaBJXz",
        "4ic1mrk_7hzV"
      ]
    },
    "kernelspec": {
      "name": "python3",
      "display_name": "Python 3"
    },
    "language_info": {
      "name": "python"
    }
  },
  "cells": [
    {
      "cell_type": "markdown",
      "metadata": {
        "id": "-FxeOA8mUTI9"
      },
      "source": [
        "Informações do CSV retiradas do site https://www.kaggle.com/neuromusic/avocado-prices\n",
        "##Introdução aos Dados\n",
        "Esses dados foram baixados do site da Hass Avocado Board em maio de 2018 e compilados em um único CSV. Veja como o Hass Avocado Board descreve os dados em seu site:\n",
        "\n",
        "\"A tabela abaixo representa os dados de varredura de varejo semanais de 2018 para o volume (unidades) e preço do varejo nacional. Os dados de varredura de varejo vêm diretamente das caixas registradoras dos varejistas com base nas vendas reais de abacates Hass no varejo. A partir de 2013, a tabela abaixo reflete um conjunto de dados de varejo expandido e com vários pontos de venda. Os relatórios de vários pontos de venda incluem uma agregação dos seguintes canais: mercearia, missa, clube, droga, dólar e militar. O Preço Médio (de abacates) na tabela reflete um custo por unidade (por abacate), mesmo quando várias unidades (abacates) são vendidas em sacos. Os códigos de pesquisa de produto (PLU's) na tabela são apenas para abacates Hass. Outras variedades de abacates (por exemplo, peles verdes) não estão incluídas nesta tabela.\"\n",
        "\n",
        "##Algumas colunas relevantes no conjunto de dados:\n",
        "\n",
        "Date - The date of the observation\n",
        "\n",
        "AveragePrice - the average price of a single avocado\n",
        "\n",
        "type - conventional or organic\n",
        "\n",
        "year - the year\n",
        "\n",
        "Region - the city or region of the observation\n",
        "\n",
        "Total Volume - Total number of avocados sold\n",
        "\n",
        "4046 - Total number of avocados with PLU 4046 sold\n",
        "\n",
        "4225 - Total number of avocados with PLU 4225 sold\n",
        "\n",
        "4770 - Total number of avocados with PLU 4770 sold"
      ]
    },
    {
      "cell_type": "markdown",
      "metadata": {
        "id": "fU6UrbWuoULC"
      },
      "source": [
        "## Imports e definição do DF"
      ]
    },
    {
      "cell_type": "code",
      "metadata": {
        "id": "G9gUvZgx8omd"
      },
      "source": [
        "% matplotlib inline\n",
        "import numpy as np\n",
        "import pandas as pd\n",
        "from matplotlib import pyplot as plt\n",
        "import seaborn as sns"
      ],
      "execution_count": 2076,
      "outputs": []
    },
    {
      "cell_type": "code",
      "metadata": {
        "id": "e6WFpVRcCUm4"
      },
      "source": [
        "avocado_df=pd.read_csv(\"https://raw.githubusercontent.com/badeca/Avocado-Dataset/main/Avocado/avocado.csv\",encoding = \"ISO-8859-1\")"
      ],
      "execution_count": 2077,
      "outputs": []
    },
    {
      "cell_type": "code",
      "metadata": {
        "id": "p6P_AF5dCWIf",
        "colab": {
          "base_uri": "https://localhost:8080/",
          "height": 195
        },
        "outputId": "4dffb0c9-6c7d-4856-98c9-4e39e8a4ef1d"
      },
      "source": [
        "avocado_df.head()"
      ],
      "execution_count": 2078,
      "outputs": [
        {
          "output_type": "execute_result",
          "data": {
            "text/html": [
              "<div>\n",
              "<style scoped>\n",
              "    .dataframe tbody tr th:only-of-type {\n",
              "        vertical-align: middle;\n",
              "    }\n",
              "\n",
              "    .dataframe tbody tr th {\n",
              "        vertical-align: top;\n",
              "    }\n",
              "\n",
              "    .dataframe thead th {\n",
              "        text-align: right;\n",
              "    }\n",
              "</style>\n",
              "<table border=\"1\" class=\"dataframe\">\n",
              "  <thead>\n",
              "    <tr style=\"text-align: right;\">\n",
              "      <th></th>\n",
              "      <th>Unnamed: 0</th>\n",
              "      <th>Date</th>\n",
              "      <th>AveragePrice</th>\n",
              "      <th>Total Volume</th>\n",
              "      <th>4046</th>\n",
              "      <th>4225</th>\n",
              "      <th>4770</th>\n",
              "      <th>Total Bags</th>\n",
              "      <th>Small Bags</th>\n",
              "      <th>Large Bags</th>\n",
              "      <th>XLarge Bags</th>\n",
              "      <th>type</th>\n",
              "      <th>year</th>\n",
              "      <th>region</th>\n",
              "    </tr>\n",
              "  </thead>\n",
              "  <tbody>\n",
              "    <tr>\n",
              "      <th>0</th>\n",
              "      <td>0</td>\n",
              "      <td>2015-12-27</td>\n",
              "      <td>1.33</td>\n",
              "      <td>64236.62</td>\n",
              "      <td>1036.74</td>\n",
              "      <td>54454.85</td>\n",
              "      <td>48.16</td>\n",
              "      <td>8696.87</td>\n",
              "      <td>8603.62</td>\n",
              "      <td>93.25</td>\n",
              "      <td>0.0</td>\n",
              "      <td>conventional</td>\n",
              "      <td>2015</td>\n",
              "      <td>Albany</td>\n",
              "    </tr>\n",
              "    <tr>\n",
              "      <th>1</th>\n",
              "      <td>1</td>\n",
              "      <td>2015-12-20</td>\n",
              "      <td>1.35</td>\n",
              "      <td>54876.98</td>\n",
              "      <td>674.28</td>\n",
              "      <td>44638.81</td>\n",
              "      <td>58.33</td>\n",
              "      <td>9505.56</td>\n",
              "      <td>9408.07</td>\n",
              "      <td>97.49</td>\n",
              "      <td>0.0</td>\n",
              "      <td>conventional</td>\n",
              "      <td>2015</td>\n",
              "      <td>Albany</td>\n",
              "    </tr>\n",
              "    <tr>\n",
              "      <th>2</th>\n",
              "      <td>2</td>\n",
              "      <td>2015-12-13</td>\n",
              "      <td>0.93</td>\n",
              "      <td>118220.22</td>\n",
              "      <td>794.70</td>\n",
              "      <td>109149.67</td>\n",
              "      <td>130.50</td>\n",
              "      <td>8145.35</td>\n",
              "      <td>8042.21</td>\n",
              "      <td>103.14</td>\n",
              "      <td>0.0</td>\n",
              "      <td>conventional</td>\n",
              "      <td>2015</td>\n",
              "      <td>Albany</td>\n",
              "    </tr>\n",
              "    <tr>\n",
              "      <th>3</th>\n",
              "      <td>3</td>\n",
              "      <td>2015-12-06</td>\n",
              "      <td>1.08</td>\n",
              "      <td>78992.15</td>\n",
              "      <td>1132.00</td>\n",
              "      <td>71976.41</td>\n",
              "      <td>72.58</td>\n",
              "      <td>5811.16</td>\n",
              "      <td>5677.40</td>\n",
              "      <td>133.76</td>\n",
              "      <td>0.0</td>\n",
              "      <td>conventional</td>\n",
              "      <td>2015</td>\n",
              "      <td>Albany</td>\n",
              "    </tr>\n",
              "    <tr>\n",
              "      <th>4</th>\n",
              "      <td>4</td>\n",
              "      <td>2015-11-29</td>\n",
              "      <td>1.28</td>\n",
              "      <td>51039.60</td>\n",
              "      <td>941.48</td>\n",
              "      <td>43838.39</td>\n",
              "      <td>75.78</td>\n",
              "      <td>6183.95</td>\n",
              "      <td>5986.26</td>\n",
              "      <td>197.69</td>\n",
              "      <td>0.0</td>\n",
              "      <td>conventional</td>\n",
              "      <td>2015</td>\n",
              "      <td>Albany</td>\n",
              "    </tr>\n",
              "  </tbody>\n",
              "</table>\n",
              "</div>"
            ],
            "text/plain": [
              "   Unnamed: 0        Date  AveragePrice  ...          type  year  region\n",
              "0           0  2015-12-27          1.33  ...  conventional  2015  Albany\n",
              "1           1  2015-12-20          1.35  ...  conventional  2015  Albany\n",
              "2           2  2015-12-13          0.93  ...  conventional  2015  Albany\n",
              "3           3  2015-12-06          1.08  ...  conventional  2015  Albany\n",
              "4           4  2015-11-29          1.28  ...  conventional  2015  Albany\n",
              "\n",
              "[5 rows x 14 columns]"
            ]
          },
          "metadata": {
            "tags": []
          },
          "execution_count": 2078
        }
      ]
    },
    {
      "cell_type": "markdown",
      "metadata": {
        "id": "x9OGZhDZoezC"
      },
      "source": [
        "##Removendo colunas desnecessárias e criando cópia do DF\n",
        "#####4046 = Número de avocados vendidos com PLU 4046\n",
        "#####4225 = Número de avocados vendidos com PLU 4225\n",
        "#####4770 = Número de avocados vendidos com PLU 4770"
      ]
    },
    {
      "cell_type": "code",
      "metadata": {
        "colab": {
          "base_uri": "https://localhost:8080/",
          "height": 195
        },
        "id": "q5HQVMhQNEZl",
        "outputId": "37ed0b21-a07a-4f94-9f38-810074b01c02"
      },
      "source": [
        "avocado_df.drop(avocado_df.columns[avocado_df.columns.str.contains('unnamed',case = False)],axis = 1, inplace = True)\n",
        "df = avocado_df.rename(columns={'Date': 'date', 'AveragePrice': 'average_price', 'Small Bags': 'small_bags', 'Large Bags': 'large_bags', 'XLarge Bags': 'xlarge_bags', 'Total Volume': 'total_volume', 'Total Bags': 'total_bags'})\n",
        "df.head()"
      ],
      "execution_count": 2079,
      "outputs": [
        {
          "output_type": "execute_result",
          "data": {
            "text/html": [
              "<div>\n",
              "<style scoped>\n",
              "    .dataframe tbody tr th:only-of-type {\n",
              "        vertical-align: middle;\n",
              "    }\n",
              "\n",
              "    .dataframe tbody tr th {\n",
              "        vertical-align: top;\n",
              "    }\n",
              "\n",
              "    .dataframe thead th {\n",
              "        text-align: right;\n",
              "    }\n",
              "</style>\n",
              "<table border=\"1\" class=\"dataframe\">\n",
              "  <thead>\n",
              "    <tr style=\"text-align: right;\">\n",
              "      <th></th>\n",
              "      <th>date</th>\n",
              "      <th>average_price</th>\n",
              "      <th>total_volume</th>\n",
              "      <th>4046</th>\n",
              "      <th>4225</th>\n",
              "      <th>4770</th>\n",
              "      <th>total_bags</th>\n",
              "      <th>small_bags</th>\n",
              "      <th>large_bags</th>\n",
              "      <th>xlarge_bags</th>\n",
              "      <th>type</th>\n",
              "      <th>year</th>\n",
              "      <th>region</th>\n",
              "    </tr>\n",
              "  </thead>\n",
              "  <tbody>\n",
              "    <tr>\n",
              "      <th>0</th>\n",
              "      <td>2015-12-27</td>\n",
              "      <td>1.33</td>\n",
              "      <td>64236.62</td>\n",
              "      <td>1036.74</td>\n",
              "      <td>54454.85</td>\n",
              "      <td>48.16</td>\n",
              "      <td>8696.87</td>\n",
              "      <td>8603.62</td>\n",
              "      <td>93.25</td>\n",
              "      <td>0.0</td>\n",
              "      <td>conventional</td>\n",
              "      <td>2015</td>\n",
              "      <td>Albany</td>\n",
              "    </tr>\n",
              "    <tr>\n",
              "      <th>1</th>\n",
              "      <td>2015-12-20</td>\n",
              "      <td>1.35</td>\n",
              "      <td>54876.98</td>\n",
              "      <td>674.28</td>\n",
              "      <td>44638.81</td>\n",
              "      <td>58.33</td>\n",
              "      <td>9505.56</td>\n",
              "      <td>9408.07</td>\n",
              "      <td>97.49</td>\n",
              "      <td>0.0</td>\n",
              "      <td>conventional</td>\n",
              "      <td>2015</td>\n",
              "      <td>Albany</td>\n",
              "    </tr>\n",
              "    <tr>\n",
              "      <th>2</th>\n",
              "      <td>2015-12-13</td>\n",
              "      <td>0.93</td>\n",
              "      <td>118220.22</td>\n",
              "      <td>794.70</td>\n",
              "      <td>109149.67</td>\n",
              "      <td>130.50</td>\n",
              "      <td>8145.35</td>\n",
              "      <td>8042.21</td>\n",
              "      <td>103.14</td>\n",
              "      <td>0.0</td>\n",
              "      <td>conventional</td>\n",
              "      <td>2015</td>\n",
              "      <td>Albany</td>\n",
              "    </tr>\n",
              "    <tr>\n",
              "      <th>3</th>\n",
              "      <td>2015-12-06</td>\n",
              "      <td>1.08</td>\n",
              "      <td>78992.15</td>\n",
              "      <td>1132.00</td>\n",
              "      <td>71976.41</td>\n",
              "      <td>72.58</td>\n",
              "      <td>5811.16</td>\n",
              "      <td>5677.40</td>\n",
              "      <td>133.76</td>\n",
              "      <td>0.0</td>\n",
              "      <td>conventional</td>\n",
              "      <td>2015</td>\n",
              "      <td>Albany</td>\n",
              "    </tr>\n",
              "    <tr>\n",
              "      <th>4</th>\n",
              "      <td>2015-11-29</td>\n",
              "      <td>1.28</td>\n",
              "      <td>51039.60</td>\n",
              "      <td>941.48</td>\n",
              "      <td>43838.39</td>\n",
              "      <td>75.78</td>\n",
              "      <td>6183.95</td>\n",
              "      <td>5986.26</td>\n",
              "      <td>197.69</td>\n",
              "      <td>0.0</td>\n",
              "      <td>conventional</td>\n",
              "      <td>2015</td>\n",
              "      <td>Albany</td>\n",
              "    </tr>\n",
              "  </tbody>\n",
              "</table>\n",
              "</div>"
            ],
            "text/plain": [
              "         date  average_price  total_volume  ...          type  year  region\n",
              "0  2015-12-27           1.33      64236.62  ...  conventional  2015  Albany\n",
              "1  2015-12-20           1.35      54876.98  ...  conventional  2015  Albany\n",
              "2  2015-12-13           0.93     118220.22  ...  conventional  2015  Albany\n",
              "3  2015-12-06           1.08      78992.15  ...  conventional  2015  Albany\n",
              "4  2015-11-29           1.28      51039.60  ...  conventional  2015  Albany\n",
              "\n",
              "[5 rows x 13 columns]"
            ]
          },
          "metadata": {
            "tags": []
          },
          "execution_count": 2079
        }
      ]
    },
    {
      "cell_type": "markdown",
      "metadata": {
        "id": "K1swFkiMo2JS"
      },
      "source": [
        "##Definições iniciais do DF + Setando campos como categóricos"
      ]
    },
    {
      "cell_type": "code",
      "metadata": {
        "id": "zeNunv4eEPvQ",
        "colab": {
          "base_uri": "https://localhost:8080/"
        },
        "outputId": "c879cd47-57f6-46db-8a51-836c95a45aeb"
      },
      "source": [
        "df.shape"
      ],
      "execution_count": 2080,
      "outputs": [
        {
          "output_type": "execute_result",
          "data": {
            "text/plain": [
              "(18249, 13)"
            ]
          },
          "metadata": {
            "tags": []
          },
          "execution_count": 2080
        }
      ]
    },
    {
      "cell_type": "code",
      "metadata": {
        "id": "iaPJSlmWGcAP",
        "colab": {
          "base_uri": "https://localhost:8080/",
          "height": 0
        },
        "outputId": "843cac34-1c5e-425a-d554-a7442b2df1ac"
      },
      "source": [
        "df.describe()"
      ],
      "execution_count": 2081,
      "outputs": [
        {
          "output_type": "execute_result",
          "data": {
            "text/html": [
              "<div>\n",
              "<style scoped>\n",
              "    .dataframe tbody tr th:only-of-type {\n",
              "        vertical-align: middle;\n",
              "    }\n",
              "\n",
              "    .dataframe tbody tr th {\n",
              "        vertical-align: top;\n",
              "    }\n",
              "\n",
              "    .dataframe thead th {\n",
              "        text-align: right;\n",
              "    }\n",
              "</style>\n",
              "<table border=\"1\" class=\"dataframe\">\n",
              "  <thead>\n",
              "    <tr style=\"text-align: right;\">\n",
              "      <th></th>\n",
              "      <th>average_price</th>\n",
              "      <th>total_volume</th>\n",
              "      <th>4046</th>\n",
              "      <th>4225</th>\n",
              "      <th>4770</th>\n",
              "      <th>total_bags</th>\n",
              "      <th>small_bags</th>\n",
              "      <th>large_bags</th>\n",
              "      <th>xlarge_bags</th>\n",
              "      <th>year</th>\n",
              "    </tr>\n",
              "  </thead>\n",
              "  <tbody>\n",
              "    <tr>\n",
              "      <th>count</th>\n",
              "      <td>18249.000000</td>\n",
              "      <td>1.824900e+04</td>\n",
              "      <td>1.824900e+04</td>\n",
              "      <td>1.824900e+04</td>\n",
              "      <td>1.824900e+04</td>\n",
              "      <td>1.824900e+04</td>\n",
              "      <td>1.824900e+04</td>\n",
              "      <td>1.824900e+04</td>\n",
              "      <td>18249.000000</td>\n",
              "      <td>18249.000000</td>\n",
              "    </tr>\n",
              "    <tr>\n",
              "      <th>mean</th>\n",
              "      <td>1.405978</td>\n",
              "      <td>8.506440e+05</td>\n",
              "      <td>2.930084e+05</td>\n",
              "      <td>2.951546e+05</td>\n",
              "      <td>2.283974e+04</td>\n",
              "      <td>2.396392e+05</td>\n",
              "      <td>1.821947e+05</td>\n",
              "      <td>5.433809e+04</td>\n",
              "      <td>3106.426507</td>\n",
              "      <td>2016.147899</td>\n",
              "    </tr>\n",
              "    <tr>\n",
              "      <th>std</th>\n",
              "      <td>0.402677</td>\n",
              "      <td>3.453545e+06</td>\n",
              "      <td>1.264989e+06</td>\n",
              "      <td>1.204120e+06</td>\n",
              "      <td>1.074641e+05</td>\n",
              "      <td>9.862424e+05</td>\n",
              "      <td>7.461785e+05</td>\n",
              "      <td>2.439660e+05</td>\n",
              "      <td>17692.894652</td>\n",
              "      <td>0.939938</td>\n",
              "    </tr>\n",
              "    <tr>\n",
              "      <th>min</th>\n",
              "      <td>0.440000</td>\n",
              "      <td>8.456000e+01</td>\n",
              "      <td>0.000000e+00</td>\n",
              "      <td>0.000000e+00</td>\n",
              "      <td>0.000000e+00</td>\n",
              "      <td>0.000000e+00</td>\n",
              "      <td>0.000000e+00</td>\n",
              "      <td>0.000000e+00</td>\n",
              "      <td>0.000000</td>\n",
              "      <td>2015.000000</td>\n",
              "    </tr>\n",
              "    <tr>\n",
              "      <th>25%</th>\n",
              "      <td>1.100000</td>\n",
              "      <td>1.083858e+04</td>\n",
              "      <td>8.540700e+02</td>\n",
              "      <td>3.008780e+03</td>\n",
              "      <td>0.000000e+00</td>\n",
              "      <td>5.088640e+03</td>\n",
              "      <td>2.849420e+03</td>\n",
              "      <td>1.274700e+02</td>\n",
              "      <td>0.000000</td>\n",
              "      <td>2015.000000</td>\n",
              "    </tr>\n",
              "    <tr>\n",
              "      <th>50%</th>\n",
              "      <td>1.370000</td>\n",
              "      <td>1.073768e+05</td>\n",
              "      <td>8.645300e+03</td>\n",
              "      <td>2.906102e+04</td>\n",
              "      <td>1.849900e+02</td>\n",
              "      <td>3.974383e+04</td>\n",
              "      <td>2.636282e+04</td>\n",
              "      <td>2.647710e+03</td>\n",
              "      <td>0.000000</td>\n",
              "      <td>2016.000000</td>\n",
              "    </tr>\n",
              "    <tr>\n",
              "      <th>75%</th>\n",
              "      <td>1.660000</td>\n",
              "      <td>4.329623e+05</td>\n",
              "      <td>1.110202e+05</td>\n",
              "      <td>1.502069e+05</td>\n",
              "      <td>6.243420e+03</td>\n",
              "      <td>1.107834e+05</td>\n",
              "      <td>8.333767e+04</td>\n",
              "      <td>2.202925e+04</td>\n",
              "      <td>132.500000</td>\n",
              "      <td>2017.000000</td>\n",
              "    </tr>\n",
              "    <tr>\n",
              "      <th>max</th>\n",
              "      <td>3.250000</td>\n",
              "      <td>6.250565e+07</td>\n",
              "      <td>2.274362e+07</td>\n",
              "      <td>2.047057e+07</td>\n",
              "      <td>2.546439e+06</td>\n",
              "      <td>1.937313e+07</td>\n",
              "      <td>1.338459e+07</td>\n",
              "      <td>5.719097e+06</td>\n",
              "      <td>551693.650000</td>\n",
              "      <td>2018.000000</td>\n",
              "    </tr>\n",
              "  </tbody>\n",
              "</table>\n",
              "</div>"
            ],
            "text/plain": [
              "       average_price  total_volume  ...    xlarge_bags          year\n",
              "count   18249.000000  1.824900e+04  ...   18249.000000  18249.000000\n",
              "mean        1.405978  8.506440e+05  ...    3106.426507   2016.147899\n",
              "std         0.402677  3.453545e+06  ...   17692.894652      0.939938\n",
              "min         0.440000  8.456000e+01  ...       0.000000   2015.000000\n",
              "25%         1.100000  1.083858e+04  ...       0.000000   2015.000000\n",
              "50%         1.370000  1.073768e+05  ...       0.000000   2016.000000\n",
              "75%         1.660000  4.329623e+05  ...     132.500000   2017.000000\n",
              "max         3.250000  6.250565e+07  ...  551693.650000   2018.000000\n",
              "\n",
              "[8 rows x 10 columns]"
            ]
          },
          "metadata": {
            "tags": []
          },
          "execution_count": 2081
        }
      ]
    },
    {
      "cell_type": "code",
      "metadata": {
        "id": "j2UFHEiYGk9f",
        "colab": {
          "base_uri": "https://localhost:8080/"
        },
        "outputId": "b2c496d4-2968-45e0-e71b-fd078725e98f"
      },
      "source": [
        "df.dtypes"
      ],
      "execution_count": 2082,
      "outputs": [
        {
          "output_type": "execute_result",
          "data": {
            "text/plain": [
              "date              object\n",
              "average_price    float64\n",
              "total_volume     float64\n",
              "4046             float64\n",
              "4225             float64\n",
              "4770             float64\n",
              "total_bags       float64\n",
              "small_bags       float64\n",
              "large_bags       float64\n",
              "xlarge_bags      float64\n",
              "type              object\n",
              "year               int64\n",
              "region            object\n",
              "dtype: object"
            ]
          },
          "metadata": {
            "tags": []
          },
          "execution_count": 2082
        }
      ]
    },
    {
      "cell_type": "code",
      "metadata": {
        "id": "KZZdMJtU0CmN"
      },
      "source": [
        "df['type'] = df['type'].astype('category')\n",
        "df['region'] = df['region'].astype('category')\n",
        "df['year'] = df['year'].astype('category')"
      ],
      "execution_count": 2083,
      "outputs": []
    },
    {
      "cell_type": "code",
      "metadata": {
        "id": "K8MKaBFLMsC7",
        "colab": {
          "base_uri": "https://localhost:8080/"
        },
        "outputId": "5ce3860c-14ff-4cf5-ae67-78dda2653fbc"
      },
      "source": [
        "df.isnull().sum()"
      ],
      "execution_count": 2084,
      "outputs": [
        {
          "output_type": "execute_result",
          "data": {
            "text/plain": [
              "date             0\n",
              "average_price    0\n",
              "total_volume     0\n",
              "4046             0\n",
              "4225             0\n",
              "4770             0\n",
              "total_bags       0\n",
              "small_bags       0\n",
              "large_bags       0\n",
              "xlarge_bags      0\n",
              "type             0\n",
              "year             0\n",
              "region           0\n",
              "dtype: int64"
            ]
          },
          "metadata": {
            "tags": []
          },
          "execution_count": 2084
        }
      ]
    },
    {
      "cell_type": "code",
      "metadata": {
        "colab": {
          "base_uri": "https://localhost:8080/"
        },
        "id": "qIhhlI0UA4g-",
        "outputId": "95af3305-0b9b-41a6-a9d6-3d9992ee8611"
      },
      "source": [
        "#remove instâncias com ao menos 1 coluna com dado ausente\n",
        "df = df.dropna()\n",
        "df.shape\n",
        "# não muda pois não há dados nulos"
      ],
      "execution_count": 2085,
      "outputs": [
        {
          "output_type": "execute_result",
          "data": {
            "text/plain": [
              "(18249, 13)"
            ]
          },
          "metadata": {
            "tags": []
          },
          "execution_count": 2085
        }
      ]
    },
    {
      "cell_type": "code",
      "metadata": {
        "colab": {
          "base_uri": "https://localhost:8080/"
        },
        "id": "AwV4HcQb9g72",
        "outputId": "aca7c950-6fd0-43d5-c98e-8e40949da0be"
      },
      "source": [
        "df['type'].cat.categories"
      ],
      "execution_count": 2086,
      "outputs": [
        {
          "output_type": "execute_result",
          "data": {
            "text/plain": [
              "Index(['conventional', 'organic'], dtype='object')"
            ]
          },
          "metadata": {
            "tags": []
          },
          "execution_count": 2086
        }
      ]
    },
    {
      "cell_type": "code",
      "metadata": {
        "id": "D2hjIV0LF9Go"
      },
      "source": [
        "df['type'] = df['type'].cat.codes\n",
        "# 0 = conventional, 1 = organic"
      ],
      "execution_count": 2087,
      "outputs": []
    },
    {
      "cell_type": "code",
      "metadata": {
        "colab": {
          "base_uri": "https://localhost:8080/"
        },
        "id": "1fnnQ0YO94d1",
        "outputId": "1f0a3736-4ec7-4bbc-b2d7-3743a54760d1"
      },
      "source": [
        "df['region'].cat.categories"
      ],
      "execution_count": 2088,
      "outputs": [
        {
          "output_type": "execute_result",
          "data": {
            "text/plain": [
              "Index(['Albany', 'Atlanta', 'BaltimoreWashington', 'Boise', 'Boston',\n",
              "       'BuffaloRochester', 'California', 'Charlotte', 'Chicago',\n",
              "       'CincinnatiDayton', 'Columbus', 'DallasFtWorth', 'Denver', 'Detroit',\n",
              "       'GrandRapids', 'GreatLakes', 'HarrisburgScranton',\n",
              "       'HartfordSpringfield', 'Houston', 'Indianapolis', 'Jacksonville',\n",
              "       'LasVegas', 'LosAngeles', 'Louisville', 'MiamiFtLauderdale', 'Midsouth',\n",
              "       'Nashville', 'NewOrleansMobile', 'NewYork', 'Northeast',\n",
              "       'NorthernNewEngland', 'Orlando', 'Philadelphia', 'PhoenixTucson',\n",
              "       'Pittsburgh', 'Plains', 'Portland', 'RaleighGreensboro',\n",
              "       'RichmondNorfolk', 'Roanoke', 'Sacramento', 'SanDiego', 'SanFrancisco',\n",
              "       'Seattle', 'SouthCarolina', 'SouthCentral', 'Southeast', 'Spokane',\n",
              "       'StLouis', 'Syracuse', 'Tampa', 'TotalUS', 'West', 'WestTexNewMexico'],\n",
              "      dtype='object')"
            ]
          },
          "metadata": {
            "tags": []
          },
          "execution_count": 2088
        }
      ]
    },
    {
      "cell_type": "code",
      "metadata": {
        "colab": {
          "base_uri": "https://localhost:8080/"
        },
        "id": "Dat-igAyCECZ",
        "outputId": "083af646-74ea-4e65-ed9a-1af20dcb9f56"
      },
      "source": [
        "df['year'].cat.categories"
      ],
      "execution_count": 2089,
      "outputs": [
        {
          "output_type": "execute_result",
          "data": {
            "text/plain": [
              "Int64Index([2015, 2016, 2017, 2018], dtype='int64')"
            ]
          },
          "metadata": {
            "tags": []
          },
          "execution_count": 2089
        }
      ]
    },
    {
      "cell_type": "code",
      "metadata": {
        "colab": {
          "base_uri": "https://localhost:8080/"
        },
        "id": "9wi86IN-1wNr",
        "outputId": "6d58a465-3545-4f31-b85a-3176fcab69f0"
      },
      "source": [
        "df.dtypes"
      ],
      "execution_count": 2090,
      "outputs": [
        {
          "output_type": "execute_result",
          "data": {
            "text/plain": [
              "date               object\n",
              "average_price     float64\n",
              "total_volume      float64\n",
              "4046              float64\n",
              "4225              float64\n",
              "4770              float64\n",
              "total_bags        float64\n",
              "small_bags        float64\n",
              "large_bags        float64\n",
              "xlarge_bags       float64\n",
              "type                 int8\n",
              "year             category\n",
              "region           category\n",
              "dtype: object"
            ]
          },
          "metadata": {
            "tags": []
          },
          "execution_count": 2090
        }
      ]
    },
    {
      "cell_type": "code",
      "metadata": {
        "colab": {
          "base_uri": "https://localhost:8080/",
          "height": 0
        },
        "id": "hXxcKKWc9TCU",
        "outputId": "d78b1c81-4554-444b-9677-16b1dc8fdd63"
      },
      "source": [
        "df.head()"
      ],
      "execution_count": 2091,
      "outputs": [
        {
          "output_type": "execute_result",
          "data": {
            "text/html": [
              "<div>\n",
              "<style scoped>\n",
              "    .dataframe tbody tr th:only-of-type {\n",
              "        vertical-align: middle;\n",
              "    }\n",
              "\n",
              "    .dataframe tbody tr th {\n",
              "        vertical-align: top;\n",
              "    }\n",
              "\n",
              "    .dataframe thead th {\n",
              "        text-align: right;\n",
              "    }\n",
              "</style>\n",
              "<table border=\"1\" class=\"dataframe\">\n",
              "  <thead>\n",
              "    <tr style=\"text-align: right;\">\n",
              "      <th></th>\n",
              "      <th>date</th>\n",
              "      <th>average_price</th>\n",
              "      <th>total_volume</th>\n",
              "      <th>4046</th>\n",
              "      <th>4225</th>\n",
              "      <th>4770</th>\n",
              "      <th>total_bags</th>\n",
              "      <th>small_bags</th>\n",
              "      <th>large_bags</th>\n",
              "      <th>xlarge_bags</th>\n",
              "      <th>type</th>\n",
              "      <th>year</th>\n",
              "      <th>region</th>\n",
              "    </tr>\n",
              "  </thead>\n",
              "  <tbody>\n",
              "    <tr>\n",
              "      <th>0</th>\n",
              "      <td>2015-12-27</td>\n",
              "      <td>1.33</td>\n",
              "      <td>64236.62</td>\n",
              "      <td>1036.74</td>\n",
              "      <td>54454.85</td>\n",
              "      <td>48.16</td>\n",
              "      <td>8696.87</td>\n",
              "      <td>8603.62</td>\n",
              "      <td>93.25</td>\n",
              "      <td>0.0</td>\n",
              "      <td>0</td>\n",
              "      <td>2015</td>\n",
              "      <td>Albany</td>\n",
              "    </tr>\n",
              "    <tr>\n",
              "      <th>1</th>\n",
              "      <td>2015-12-20</td>\n",
              "      <td>1.35</td>\n",
              "      <td>54876.98</td>\n",
              "      <td>674.28</td>\n",
              "      <td>44638.81</td>\n",
              "      <td>58.33</td>\n",
              "      <td>9505.56</td>\n",
              "      <td>9408.07</td>\n",
              "      <td>97.49</td>\n",
              "      <td>0.0</td>\n",
              "      <td>0</td>\n",
              "      <td>2015</td>\n",
              "      <td>Albany</td>\n",
              "    </tr>\n",
              "    <tr>\n",
              "      <th>2</th>\n",
              "      <td>2015-12-13</td>\n",
              "      <td>0.93</td>\n",
              "      <td>118220.22</td>\n",
              "      <td>794.70</td>\n",
              "      <td>109149.67</td>\n",
              "      <td>130.50</td>\n",
              "      <td>8145.35</td>\n",
              "      <td>8042.21</td>\n",
              "      <td>103.14</td>\n",
              "      <td>0.0</td>\n",
              "      <td>0</td>\n",
              "      <td>2015</td>\n",
              "      <td>Albany</td>\n",
              "    </tr>\n",
              "    <tr>\n",
              "      <th>3</th>\n",
              "      <td>2015-12-06</td>\n",
              "      <td>1.08</td>\n",
              "      <td>78992.15</td>\n",
              "      <td>1132.00</td>\n",
              "      <td>71976.41</td>\n",
              "      <td>72.58</td>\n",
              "      <td>5811.16</td>\n",
              "      <td>5677.40</td>\n",
              "      <td>133.76</td>\n",
              "      <td>0.0</td>\n",
              "      <td>0</td>\n",
              "      <td>2015</td>\n",
              "      <td>Albany</td>\n",
              "    </tr>\n",
              "    <tr>\n",
              "      <th>4</th>\n",
              "      <td>2015-11-29</td>\n",
              "      <td>1.28</td>\n",
              "      <td>51039.60</td>\n",
              "      <td>941.48</td>\n",
              "      <td>43838.39</td>\n",
              "      <td>75.78</td>\n",
              "      <td>6183.95</td>\n",
              "      <td>5986.26</td>\n",
              "      <td>197.69</td>\n",
              "      <td>0.0</td>\n",
              "      <td>0</td>\n",
              "      <td>2015</td>\n",
              "      <td>Albany</td>\n",
              "    </tr>\n",
              "  </tbody>\n",
              "</table>\n",
              "</div>"
            ],
            "text/plain": [
              "         date  average_price  total_volume  ...  type  year  region\n",
              "0  2015-12-27           1.33      64236.62  ...     0  2015  Albany\n",
              "1  2015-12-20           1.35      54876.98  ...     0  2015  Albany\n",
              "2  2015-12-13           0.93     118220.22  ...     0  2015  Albany\n",
              "3  2015-12-06           1.08      78992.15  ...     0  2015  Albany\n",
              "4  2015-11-29           1.28      51039.60  ...     0  2015  Albany\n",
              "\n",
              "[5 rows x 13 columns]"
            ]
          },
          "metadata": {
            "tags": []
          },
          "execution_count": 2091
        }
      ]
    },
    {
      "cell_type": "markdown",
      "metadata": {
        "id": "Y5BXgcwmoGT6"
      },
      "source": [
        "## Checando se há alguma data esquisita ou dados negativos\n",
        "\n"
      ]
    },
    {
      "cell_type": "code",
      "metadata": {
        "colab": {
          "base_uri": "https://localhost:8080/"
        },
        "id": "rPKy7EWtcw_z",
        "outputId": "1523aa51-6296-4c4f-c804-f2d9f06b4d0a"
      },
      "source": [
        "# 2016 foi ano bissexto\n",
        "# retorna 'true' se alguma data estiver fora do padrão\n",
        "def checkup_date():\n",
        "  for date in df['date']:\n",
        "    date_aux = date.split('-')\n",
        "    if date_aux[2] < '01':\n",
        "      return 'true'\n",
        "    elif date_aux[2] > '31':\n",
        "      return 'true'\n",
        "    elif date_aux[1] in ['04', '06', '09', '11']:\n",
        "      if date_aux[2] > '30':\n",
        "        return 'true'\n",
        "    elif date_aux[1] == '02':\n",
        "      if date_aux[0] == '2016':\n",
        "        if date_aux[2] > '29':\n",
        "          return 'true'\n",
        "      elif date_aux[2] > '28':\n",
        "        return 'true'\n",
        "    else: \n",
        "      return 'false'\n",
        "\n",
        "print(checkup_date())"
      ],
      "execution_count": 2092,
      "outputs": [
        {
          "output_type": "stream",
          "text": [
            "false\n"
          ],
          "name": "stdout"
        }
      ]
    },
    {
      "cell_type": "code",
      "metadata": {
        "id": "LT4_Mv-Efpkx",
        "colab": {
          "base_uri": "https://localhost:8080/"
        },
        "outputId": "e1c94e67-39f2-498a-b1b2-4b5a9f7b575e"
      },
      "source": [
        "#checando se há dados negativos\n",
        "#preferi não transformar date em dado categórico pois ela não tinha poucos valores únicos e também pq poderia checar no min e no max quais as datas mais antigas e novas\n",
        "df.min()"
      ],
      "execution_count": 2093,
      "outputs": [
        {
          "output_type": "execute_result",
          "data": {
            "text/plain": [
              "date             2015-01-04\n",
              "average_price          0.44\n",
              "total_volume          84.56\n",
              "4046                      0\n",
              "4225                      0\n",
              "4770                      0\n",
              "total_bags                0\n",
              "small_bags                0\n",
              "large_bags                0\n",
              "xlarge_bags               0\n",
              "type                      0\n",
              "dtype: object"
            ]
          },
          "metadata": {
            "tags": []
          },
          "execution_count": 2093
        }
      ]
    },
    {
      "cell_type": "code",
      "metadata": {
        "colab": {
          "base_uri": "https://localhost:8080/"
        },
        "id": "i7-TezqZfyPL",
        "outputId": "a6d59361-6ad8-46a0-daed-498ee99d54e0"
      },
      "source": [
        "df.max()"
      ],
      "execution_count": 2094,
      "outputs": [
        {
          "output_type": "execute_result",
          "data": {
            "text/plain": [
              "date              2018-03-25\n",
              "average_price           3.25\n",
              "total_volume     6.25056e+07\n",
              "4046             2.27436e+07\n",
              "4225             2.04706e+07\n",
              "4770             2.54644e+06\n",
              "total_bags       1.93731e+07\n",
              "small_bags       1.33846e+07\n",
              "large_bags        5.7191e+06\n",
              "xlarge_bags           551694\n",
              "type                       1\n",
              "dtype: object"
            ]
          },
          "metadata": {
            "tags": []
          },
          "execution_count": 2094
        }
      ]
    },
    {
      "cell_type": "code",
      "metadata": {
        "colab": {
          "base_uri": "https://localhost:8080/"
        },
        "id": "uEEMfWGzLbP4",
        "outputId": "f8f377ba-c4a4-4eac-e514-736ee09efc50"
      },
      "source": [
        "# Quantidade de xlarge_bags que é diferente de 0\n",
        "len(df) - df[df['xlarge_bags'] == 0]['xlarge_bags'].count()"
      ],
      "execution_count": 2095,
      "outputs": [
        {
          "output_type": "execute_result",
          "data": {
            "text/plain": [
              "6201"
            ]
          },
          "metadata": {
            "tags": []
          },
          "execution_count": 2095
        }
      ]
    },
    {
      "cell_type": "markdown",
      "metadata": {
        "id": "aEAs18VOIVWP"
      },
      "source": [
        "##Removendo duplicatas"
      ]
    },
    {
      "cell_type": "code",
      "metadata": {
        "colab": {
          "base_uri": "https://localhost:8080/",
          "height": 0
        },
        "id": "wD5Rc6JdIaJo",
        "outputId": "fdef8071-dae8-40e3-b71a-042ed4bd29cc"
      },
      "source": [
        "df[df.duplicated()].sort_values(\"year\").head()"
      ],
      "execution_count": 2096,
      "outputs": [
        {
          "output_type": "execute_result",
          "data": {
            "text/html": [
              "<div>\n",
              "<style scoped>\n",
              "    .dataframe tbody tr th:only-of-type {\n",
              "        vertical-align: middle;\n",
              "    }\n",
              "\n",
              "    .dataframe tbody tr th {\n",
              "        vertical-align: top;\n",
              "    }\n",
              "\n",
              "    .dataframe thead th {\n",
              "        text-align: right;\n",
              "    }\n",
              "</style>\n",
              "<table border=\"1\" class=\"dataframe\">\n",
              "  <thead>\n",
              "    <tr style=\"text-align: right;\">\n",
              "      <th></th>\n",
              "      <th>date</th>\n",
              "      <th>average_price</th>\n",
              "      <th>total_volume</th>\n",
              "      <th>4046</th>\n",
              "      <th>4225</th>\n",
              "      <th>4770</th>\n",
              "      <th>total_bags</th>\n",
              "      <th>small_bags</th>\n",
              "      <th>large_bags</th>\n",
              "      <th>xlarge_bags</th>\n",
              "      <th>type</th>\n",
              "      <th>year</th>\n",
              "      <th>region</th>\n",
              "    </tr>\n",
              "  </thead>\n",
              "  <tbody>\n",
              "  </tbody>\n",
              "</table>\n",
              "</div>"
            ],
            "text/plain": [
              "Empty DataFrame\n",
              "Columns: [date, average_price, total_volume, 4046, 4225, 4770, total_bags, small_bags, large_bags, xlarge_bags, type, year, region]\n",
              "Index: []"
            ]
          },
          "metadata": {
            "tags": []
          },
          "execution_count": 2096
        }
      ]
    },
    {
      "cell_type": "code",
      "metadata": {
        "colab": {
          "base_uri": "https://localhost:8080/"
        },
        "id": "sJkgvPmnI4Kj",
        "outputId": "ff2a73c1-fd71-450b-afd1-53bdd2fe714e"
      },
      "source": [
        "df.drop_duplicates(keep = False, inplace = True)\n",
        "print(len(df))"
      ],
      "execution_count": 2097,
      "outputs": [
        {
          "output_type": "stream",
          "text": [
            "18249\n"
          ],
          "name": "stdout"
        }
      ]
    },
    {
      "cell_type": "markdown",
      "metadata": {
        "id": "Ydzof62PJQ_4"
      },
      "source": [
        "##Normalização"
      ]
    },
    {
      "cell_type": "code",
      "metadata": {
        "colab": {
          "base_uri": "https://localhost:8080/"
        },
        "id": "qEEg4GRsLqvQ",
        "outputId": "4b990e0d-0dde-47b5-97de-c3badd6ff907"
      },
      "source": [
        "df_norm = df.copy(deep=True)\n",
        "df_norm['date'] = df_norm['date'].astype('category')\n",
        "df_norm['date'] = df_norm['date'].cat.codes\n",
        "df_norm['year'] = df_norm['year'].cat.codes\n",
        "df_norm['region'] = df_norm['region'].cat.codes\n",
        "df_norm.dtypes"
      ],
      "execution_count": 2098,
      "outputs": [
        {
          "output_type": "execute_result",
          "data": {
            "text/plain": [
              "date               int16\n",
              "average_price    float64\n",
              "total_volume     float64\n",
              "4046             float64\n",
              "4225             float64\n",
              "4770             float64\n",
              "total_bags       float64\n",
              "small_bags       float64\n",
              "large_bags       float64\n",
              "xlarge_bags      float64\n",
              "type                int8\n",
              "year                int8\n",
              "region              int8\n",
              "dtype: object"
            ]
          },
          "metadata": {
            "tags": []
          },
          "execution_count": 2098
        }
      ]
    },
    {
      "cell_type": "code",
      "metadata": {
        "colab": {
          "base_uri": "https://localhost:8080/",
          "height": 0
        },
        "id": "ZLgetmPhJVRP",
        "outputId": "9c90af98-2687-45ca-b566-2ee3bcc866eb"
      },
      "source": [
        "df_norm.head()"
      ],
      "execution_count": 2099,
      "outputs": [
        {
          "output_type": "execute_result",
          "data": {
            "text/html": [
              "<div>\n",
              "<style scoped>\n",
              "    .dataframe tbody tr th:only-of-type {\n",
              "        vertical-align: middle;\n",
              "    }\n",
              "\n",
              "    .dataframe tbody tr th {\n",
              "        vertical-align: top;\n",
              "    }\n",
              "\n",
              "    .dataframe thead th {\n",
              "        text-align: right;\n",
              "    }\n",
              "</style>\n",
              "<table border=\"1\" class=\"dataframe\">\n",
              "  <thead>\n",
              "    <tr style=\"text-align: right;\">\n",
              "      <th></th>\n",
              "      <th>date</th>\n",
              "      <th>average_price</th>\n",
              "      <th>total_volume</th>\n",
              "      <th>4046</th>\n",
              "      <th>4225</th>\n",
              "      <th>4770</th>\n",
              "      <th>total_bags</th>\n",
              "      <th>small_bags</th>\n",
              "      <th>large_bags</th>\n",
              "      <th>xlarge_bags</th>\n",
              "      <th>type</th>\n",
              "      <th>year</th>\n",
              "      <th>region</th>\n",
              "    </tr>\n",
              "  </thead>\n",
              "  <tbody>\n",
              "    <tr>\n",
              "      <th>0</th>\n",
              "      <td>51</td>\n",
              "      <td>1.33</td>\n",
              "      <td>64236.62</td>\n",
              "      <td>1036.74</td>\n",
              "      <td>54454.85</td>\n",
              "      <td>48.16</td>\n",
              "      <td>8696.87</td>\n",
              "      <td>8603.62</td>\n",
              "      <td>93.25</td>\n",
              "      <td>0.0</td>\n",
              "      <td>0</td>\n",
              "      <td>0</td>\n",
              "      <td>0</td>\n",
              "    </tr>\n",
              "    <tr>\n",
              "      <th>1</th>\n",
              "      <td>50</td>\n",
              "      <td>1.35</td>\n",
              "      <td>54876.98</td>\n",
              "      <td>674.28</td>\n",
              "      <td>44638.81</td>\n",
              "      <td>58.33</td>\n",
              "      <td>9505.56</td>\n",
              "      <td>9408.07</td>\n",
              "      <td>97.49</td>\n",
              "      <td>0.0</td>\n",
              "      <td>0</td>\n",
              "      <td>0</td>\n",
              "      <td>0</td>\n",
              "    </tr>\n",
              "    <tr>\n",
              "      <th>2</th>\n",
              "      <td>49</td>\n",
              "      <td>0.93</td>\n",
              "      <td>118220.22</td>\n",
              "      <td>794.70</td>\n",
              "      <td>109149.67</td>\n",
              "      <td>130.50</td>\n",
              "      <td>8145.35</td>\n",
              "      <td>8042.21</td>\n",
              "      <td>103.14</td>\n",
              "      <td>0.0</td>\n",
              "      <td>0</td>\n",
              "      <td>0</td>\n",
              "      <td>0</td>\n",
              "    </tr>\n",
              "    <tr>\n",
              "      <th>3</th>\n",
              "      <td>48</td>\n",
              "      <td>1.08</td>\n",
              "      <td>78992.15</td>\n",
              "      <td>1132.00</td>\n",
              "      <td>71976.41</td>\n",
              "      <td>72.58</td>\n",
              "      <td>5811.16</td>\n",
              "      <td>5677.40</td>\n",
              "      <td>133.76</td>\n",
              "      <td>0.0</td>\n",
              "      <td>0</td>\n",
              "      <td>0</td>\n",
              "      <td>0</td>\n",
              "    </tr>\n",
              "    <tr>\n",
              "      <th>4</th>\n",
              "      <td>47</td>\n",
              "      <td>1.28</td>\n",
              "      <td>51039.60</td>\n",
              "      <td>941.48</td>\n",
              "      <td>43838.39</td>\n",
              "      <td>75.78</td>\n",
              "      <td>6183.95</td>\n",
              "      <td>5986.26</td>\n",
              "      <td>197.69</td>\n",
              "      <td>0.0</td>\n",
              "      <td>0</td>\n",
              "      <td>0</td>\n",
              "      <td>0</td>\n",
              "    </tr>\n",
              "  </tbody>\n",
              "</table>\n",
              "</div>"
            ],
            "text/plain": [
              "   date  average_price  total_volume     4046  ...  xlarge_bags  type  year  region\n",
              "0    51           1.33      64236.62  1036.74  ...          0.0     0     0       0\n",
              "1    50           1.35      54876.98   674.28  ...          0.0     0     0       0\n",
              "2    49           0.93     118220.22   794.70  ...          0.0     0     0       0\n",
              "3    48           1.08      78992.15  1132.00  ...          0.0     0     0       0\n",
              "4    47           1.28      51039.60   941.48  ...          0.0     0     0       0\n",
              "\n",
              "[5 rows x 13 columns]"
            ]
          },
          "metadata": {
            "tags": []
          },
          "execution_count": 2099
        }
      ]
    },
    {
      "cell_type": "code",
      "metadata": {
        "colab": {
          "base_uri": "https://localhost:8080/"
        },
        "id": "9LXRqfHaMrWH",
        "outputId": "8e7b6daa-4b1d-4cb0-bfed-aa00c7361a07"
      },
      "source": [
        "# creio que total_volume e 4225 estejam dominando\n",
        "dist = np.linalg.norm(df_norm.values[1]-df_norm.values[2])\n",
        "print(dist)"
      ],
      "execution_count": 2100,
      "outputs": [
        {
          "output_type": "stream",
          "text": [
            "90430.92722628193\n"
          ],
          "name": "stdout"
        }
      ]
    },
    {
      "cell_type": "code",
      "metadata": {
        "colab": {
          "base_uri": "https://localhost:8080/",
          "height": 0
        },
        "id": "TLfpD3owOMZw",
        "outputId": "5237ef87-d705-4836-c469-a85a560e5fe4"
      },
      "source": [
        "df_norm = (df_norm - df_norm.min()) / (df_norm.max() - df_norm.min())\n",
        "df_norm.head()"
      ],
      "execution_count": 2101,
      "outputs": [
        {
          "output_type": "execute_result",
          "data": {
            "text/html": [
              "<div>\n",
              "<style scoped>\n",
              "    .dataframe tbody tr th:only-of-type {\n",
              "        vertical-align: middle;\n",
              "    }\n",
              "\n",
              "    .dataframe tbody tr th {\n",
              "        vertical-align: top;\n",
              "    }\n",
              "\n",
              "    .dataframe thead th {\n",
              "        text-align: right;\n",
              "    }\n",
              "</style>\n",
              "<table border=\"1\" class=\"dataframe\">\n",
              "  <thead>\n",
              "    <tr style=\"text-align: right;\">\n",
              "      <th></th>\n",
              "      <th>date</th>\n",
              "      <th>average_price</th>\n",
              "      <th>total_volume</th>\n",
              "      <th>4046</th>\n",
              "      <th>4225</th>\n",
              "      <th>4770</th>\n",
              "      <th>total_bags</th>\n",
              "      <th>small_bags</th>\n",
              "      <th>large_bags</th>\n",
              "      <th>xlarge_bags</th>\n",
              "      <th>type</th>\n",
              "      <th>year</th>\n",
              "      <th>region</th>\n",
              "    </tr>\n",
              "  </thead>\n",
              "  <tbody>\n",
              "    <tr>\n",
              "      <th>0</th>\n",
              "      <td>0.303571</td>\n",
              "      <td>0.316726</td>\n",
              "      <td>0.001026</td>\n",
              "      <td>0.000046</td>\n",
              "      <td>0.002660</td>\n",
              "      <td>0.000019</td>\n",
              "      <td>0.000449</td>\n",
              "      <td>0.000643</td>\n",
              "      <td>0.000016</td>\n",
              "      <td>0.0</td>\n",
              "      <td>0.0</td>\n",
              "      <td>0.0</td>\n",
              "      <td>0.0</td>\n",
              "    </tr>\n",
              "    <tr>\n",
              "      <th>1</th>\n",
              "      <td>0.297619</td>\n",
              "      <td>0.323843</td>\n",
              "      <td>0.000877</td>\n",
              "      <td>0.000030</td>\n",
              "      <td>0.002181</td>\n",
              "      <td>0.000023</td>\n",
              "      <td>0.000491</td>\n",
              "      <td>0.000703</td>\n",
              "      <td>0.000017</td>\n",
              "      <td>0.0</td>\n",
              "      <td>0.0</td>\n",
              "      <td>0.0</td>\n",
              "      <td>0.0</td>\n",
              "    </tr>\n",
              "    <tr>\n",
              "      <th>2</th>\n",
              "      <td>0.291667</td>\n",
              "      <td>0.174377</td>\n",
              "      <td>0.001890</td>\n",
              "      <td>0.000035</td>\n",
              "      <td>0.005332</td>\n",
              "      <td>0.000051</td>\n",
              "      <td>0.000420</td>\n",
              "      <td>0.000601</td>\n",
              "      <td>0.000018</td>\n",
              "      <td>0.0</td>\n",
              "      <td>0.0</td>\n",
              "      <td>0.0</td>\n",
              "      <td>0.0</td>\n",
              "    </tr>\n",
              "    <tr>\n",
              "      <th>3</th>\n",
              "      <td>0.285714</td>\n",
              "      <td>0.227758</td>\n",
              "      <td>0.001262</td>\n",
              "      <td>0.000050</td>\n",
              "      <td>0.003516</td>\n",
              "      <td>0.000029</td>\n",
              "      <td>0.000300</td>\n",
              "      <td>0.000424</td>\n",
              "      <td>0.000023</td>\n",
              "      <td>0.0</td>\n",
              "      <td>0.0</td>\n",
              "      <td>0.0</td>\n",
              "      <td>0.0</td>\n",
              "    </tr>\n",
              "    <tr>\n",
              "      <th>4</th>\n",
              "      <td>0.279762</td>\n",
              "      <td>0.298932</td>\n",
              "      <td>0.000815</td>\n",
              "      <td>0.000041</td>\n",
              "      <td>0.002142</td>\n",
              "      <td>0.000030</td>\n",
              "      <td>0.000319</td>\n",
              "      <td>0.000447</td>\n",
              "      <td>0.000035</td>\n",
              "      <td>0.0</td>\n",
              "      <td>0.0</td>\n",
              "      <td>0.0</td>\n",
              "      <td>0.0</td>\n",
              "    </tr>\n",
              "  </tbody>\n",
              "</table>\n",
              "</div>"
            ],
            "text/plain": [
              "       date  average_price  total_volume  ...  type  year  region\n",
              "0  0.303571       0.316726      0.001026  ...   0.0   0.0     0.0\n",
              "1  0.297619       0.323843      0.000877  ...   0.0   0.0     0.0\n",
              "2  0.291667       0.174377      0.001890  ...   0.0   0.0     0.0\n",
              "3  0.285714       0.227758      0.001262  ...   0.0   0.0     0.0\n",
              "4  0.279762       0.298932      0.000815  ...   0.0   0.0     0.0\n",
              "\n",
              "[5 rows x 13 columns]"
            ]
          },
          "metadata": {
            "tags": []
          },
          "execution_count": 2101
        }
      ]
    },
    {
      "cell_type": "code",
      "metadata": {
        "colab": {
          "base_uri": "https://localhost:8080/"
        },
        "id": "m5peKDSvOxMP",
        "outputId": "65d8f0f4-e7d0-4eab-fe8e-37e4f9444820"
      },
      "source": [
        "dist = np.linalg.norm(df_norm.values[1]-df_norm.values[2])\n",
        "print(dist)"
      ],
      "execution_count": 2102,
      "outputs": [
        {
          "output_type": "stream",
          "text": [
            "0.14962134837599522\n"
          ],
          "name": "stdout"
        }
      ]
    },
    {
      "cell_type": "code",
      "metadata": {
        "colab": {
          "base_uri": "https://localhost:8080/"
        },
        "id": "Jlw3r0ffTQWY",
        "outputId": "bf191f09-31ff-4368-cf7b-3e86b70f08d4"
      },
      "source": [
        "df_norm.max()"
      ],
      "execution_count": 2103,
      "outputs": [
        {
          "output_type": "execute_result",
          "data": {
            "text/plain": [
              "date             1.0\n",
              "average_price    1.0\n",
              "total_volume     1.0\n",
              "4046             1.0\n",
              "4225             1.0\n",
              "4770             1.0\n",
              "total_bags       1.0\n",
              "small_bags       1.0\n",
              "large_bags       1.0\n",
              "xlarge_bags      1.0\n",
              "type             1.0\n",
              "year             1.0\n",
              "region           1.0\n",
              "dtype: float64"
            ]
          },
          "metadata": {
            "tags": []
          },
          "execution_count": 2103
        }
      ]
    },
    {
      "cell_type": "code",
      "metadata": {
        "colab": {
          "base_uri": "https://localhost:8080/"
        },
        "id": "q47IcL1KTTod",
        "outputId": "de105c3b-8d7f-4683-cdf9-35e78e8720bf"
      },
      "source": [
        "df_norm.min()"
      ],
      "execution_count": 2104,
      "outputs": [
        {
          "output_type": "execute_result",
          "data": {
            "text/plain": [
              "date             0.0\n",
              "average_price    0.0\n",
              "total_volume     0.0\n",
              "4046             0.0\n",
              "4225             0.0\n",
              "4770             0.0\n",
              "total_bags       0.0\n",
              "small_bags       0.0\n",
              "large_bags       0.0\n",
              "xlarge_bags      0.0\n",
              "type             0.0\n",
              "year             0.0\n",
              "region           0.0\n",
              "dtype: float64"
            ]
          },
          "metadata": {
            "tags": []
          },
          "execution_count": 2104
        }
      ]
    },
    {
      "cell_type": "code",
      "metadata": {
        "colab": {
          "base_uri": "https://localhost:8080/"
        },
        "id": "s1zsrmI9U8Kh",
        "outputId": "0e220c16-72e8-4b0d-a791-4db88e156552"
      },
      "source": [
        "# nomalizando com média e desvio padrão do scikit\n",
        "from sklearn.preprocessing import StandardScaler, MinMaxScaler\n",
        "scaler = StandardScaler()\n",
        "df['total_volume_norm'] = scaler.fit_transform(df[['total_volume']])\n",
        "df['total_volume_norm'].describe()"
      ],
      "execution_count": 2105,
      "outputs": [
        {
          "output_type": "execute_result",
          "data": {
            "text/plain": [
              "count    1.824900e+04\n",
              "mean     8.391160e-17\n",
              "std      1.000027e+00\n",
              "min     -2.462926e-01\n",
              "25%     -2.431786e-01\n",
              "50%     -2.152245e-01\n",
              "75%     -1.209462e-01\n",
              "max      1.785316e+01\n",
              "Name: total_volume_norm, dtype: float64"
            ]
          },
          "metadata": {
            "tags": []
          },
          "execution_count": 2105
        }
      ]
    },
    {
      "cell_type": "code",
      "metadata": {
        "colab": {
          "base_uri": "https://localhost:8080/",
          "height": 0
        },
        "id": "BzD0hg6iWA1o",
        "outputId": "6bcacc70-bda4-445e-eb98-5e1d2c863680"
      },
      "source": [
        "df.head()"
      ],
      "execution_count": 2106,
      "outputs": [
        {
          "output_type": "execute_result",
          "data": {
            "text/html": [
              "<div>\n",
              "<style scoped>\n",
              "    .dataframe tbody tr th:only-of-type {\n",
              "        vertical-align: middle;\n",
              "    }\n",
              "\n",
              "    .dataframe tbody tr th {\n",
              "        vertical-align: top;\n",
              "    }\n",
              "\n",
              "    .dataframe thead th {\n",
              "        text-align: right;\n",
              "    }\n",
              "</style>\n",
              "<table border=\"1\" class=\"dataframe\">\n",
              "  <thead>\n",
              "    <tr style=\"text-align: right;\">\n",
              "      <th></th>\n",
              "      <th>date</th>\n",
              "      <th>average_price</th>\n",
              "      <th>total_volume</th>\n",
              "      <th>4046</th>\n",
              "      <th>4225</th>\n",
              "      <th>4770</th>\n",
              "      <th>total_bags</th>\n",
              "      <th>small_bags</th>\n",
              "      <th>large_bags</th>\n",
              "      <th>xlarge_bags</th>\n",
              "      <th>type</th>\n",
              "      <th>year</th>\n",
              "      <th>region</th>\n",
              "      <th>total_volume_norm</th>\n",
              "    </tr>\n",
              "  </thead>\n",
              "  <tbody>\n",
              "    <tr>\n",
              "      <th>0</th>\n",
              "      <td>2015-12-27</td>\n",
              "      <td>1.33</td>\n",
              "      <td>64236.62</td>\n",
              "      <td>1036.74</td>\n",
              "      <td>54454.85</td>\n",
              "      <td>48.16</td>\n",
              "      <td>8696.87</td>\n",
              "      <td>8603.62</td>\n",
              "      <td>93.25</td>\n",
              "      <td>0.0</td>\n",
              "      <td>0</td>\n",
              "      <td>2015</td>\n",
              "      <td>Albany</td>\n",
              "      <td>-0.227716</td>\n",
              "    </tr>\n",
              "    <tr>\n",
              "      <th>1</th>\n",
              "      <td>2015-12-20</td>\n",
              "      <td>1.35</td>\n",
              "      <td>54876.98</td>\n",
              "      <td>674.28</td>\n",
              "      <td>44638.81</td>\n",
              "      <td>58.33</td>\n",
              "      <td>9505.56</td>\n",
              "      <td>9408.07</td>\n",
              "      <td>97.49</td>\n",
              "      <td>0.0</td>\n",
              "      <td>0</td>\n",
              "      <td>2015</td>\n",
              "      <td>Albany</td>\n",
              "      <td>-0.230427</td>\n",
              "    </tr>\n",
              "    <tr>\n",
              "      <th>2</th>\n",
              "      <td>2015-12-13</td>\n",
              "      <td>0.93</td>\n",
              "      <td>118220.22</td>\n",
              "      <td>794.70</td>\n",
              "      <td>109149.67</td>\n",
              "      <td>130.50</td>\n",
              "      <td>8145.35</td>\n",
              "      <td>8042.21</td>\n",
              "      <td>103.14</td>\n",
              "      <td>0.0</td>\n",
              "      <td>0</td>\n",
              "      <td>2015</td>\n",
              "      <td>Albany</td>\n",
              "      <td>-0.212085</td>\n",
              "    </tr>\n",
              "    <tr>\n",
              "      <th>3</th>\n",
              "      <td>2015-12-06</td>\n",
              "      <td>1.08</td>\n",
              "      <td>78992.15</td>\n",
              "      <td>1132.00</td>\n",
              "      <td>71976.41</td>\n",
              "      <td>72.58</td>\n",
              "      <td>5811.16</td>\n",
              "      <td>5677.40</td>\n",
              "      <td>133.76</td>\n",
              "      <td>0.0</td>\n",
              "      <td>0</td>\n",
              "      <td>2015</td>\n",
              "      <td>Albany</td>\n",
              "      <td>-0.223444</td>\n",
              "    </tr>\n",
              "    <tr>\n",
              "      <th>4</th>\n",
              "      <td>2015-11-29</td>\n",
              "      <td>1.28</td>\n",
              "      <td>51039.60</td>\n",
              "      <td>941.48</td>\n",
              "      <td>43838.39</td>\n",
              "      <td>75.78</td>\n",
              "      <td>6183.95</td>\n",
              "      <td>5986.26</td>\n",
              "      <td>197.69</td>\n",
              "      <td>0.0</td>\n",
              "      <td>0</td>\n",
              "      <td>2015</td>\n",
              "      <td>Albany</td>\n",
              "      <td>-0.231538</td>\n",
              "    </tr>\n",
              "  </tbody>\n",
              "</table>\n",
              "</div>"
            ],
            "text/plain": [
              "         date  average_price  total_volume  ...  year  region  total_volume_norm\n",
              "0  2015-12-27           1.33      64236.62  ...  2015  Albany          -0.227716\n",
              "1  2015-12-20           1.35      54876.98  ...  2015  Albany          -0.230427\n",
              "2  2015-12-13           0.93     118220.22  ...  2015  Albany          -0.212085\n",
              "3  2015-12-06           1.08      78992.15  ...  2015  Albany          -0.223444\n",
              "4  2015-11-29           1.28      51039.60  ...  2015  Albany          -0.231538\n",
              "\n",
              "[5 rows x 14 columns]"
            ]
          },
          "metadata": {
            "tags": []
          },
          "execution_count": 2106
        }
      ]
    },
    {
      "cell_type": "markdown",
      "metadata": {
        "id": "wGipaH6yYxsF"
      },
      "source": [
        "##Discretização"
      ]
    },
    {
      "cell_type": "code",
      "metadata": {
        "id": "sVLl7AW4Yznv"
      },
      "source": [
        "df['average_price_dist'] = pd.cut(df['average_price'],10)"
      ],
      "execution_count": 2107,
      "outputs": []
    },
    {
      "cell_type": "code",
      "metadata": {
        "colab": {
          "base_uri": "https://localhost:8080/"
        },
        "id": "XCVNflmza3x9",
        "outputId": "198bdde0-5ce7-4ae8-95ba-0b5d6503fe98"
      },
      "source": [
        "df['average_price_dist'].value_counts()"
      ],
      "execution_count": 2108,
      "outputs": [
        {
          "output_type": "execute_result",
          "data": {
            "text/plain": [
              "(1.002, 1.283]    4824\n",
              "(1.283, 1.564]    4506\n",
              "(1.564, 1.845]    3412\n",
              "(0.721, 1.002]    2632\n",
              "(1.845, 2.126]    1672\n",
              "(2.126, 2.407]     598\n",
              "(0.437, 0.721]     331\n",
              "(2.407, 2.688]     177\n",
              "(2.688, 2.969]      86\n",
              "(2.969, 3.25]       11\n",
              "Name: average_price_dist, dtype: int64"
            ]
          },
          "metadata": {
            "tags": []
          },
          "execution_count": 2108
        }
      ]
    },
    {
      "cell_type": "code",
      "metadata": {
        "colab": {
          "base_uri": "https://localhost:8080/"
        },
        "id": "1p5jiTeca_w1",
        "outputId": "c7815046-8c0a-4c40-c89c-0fc49cbc46d9"
      },
      "source": [
        "df['average_price'].describe()"
      ],
      "execution_count": 2109,
      "outputs": [
        {
          "output_type": "execute_result",
          "data": {
            "text/plain": [
              "count    18249.000000\n",
              "mean         1.405978\n",
              "std          0.402677\n",
              "min          0.440000\n",
              "25%          1.100000\n",
              "50%          1.370000\n",
              "75%          1.660000\n",
              "max          3.250000\n",
              "Name: average_price, dtype: float64"
            ]
          },
          "metadata": {
            "tags": []
          },
          "execution_count": 2109
        }
      ]
    },
    {
      "cell_type": "code",
      "metadata": {
        "colab": {
          "base_uri": "https://localhost:8080/",
          "height": 0
        },
        "id": "Aw1BTvbBbkUY",
        "outputId": "124f387b-601e-437d-bdb7-70d1d06c8abd"
      },
      "source": [
        "df.head()"
      ],
      "execution_count": 2110,
      "outputs": [
        {
          "output_type": "execute_result",
          "data": {
            "text/html": [
              "<div>\n",
              "<style scoped>\n",
              "    .dataframe tbody tr th:only-of-type {\n",
              "        vertical-align: middle;\n",
              "    }\n",
              "\n",
              "    .dataframe tbody tr th {\n",
              "        vertical-align: top;\n",
              "    }\n",
              "\n",
              "    .dataframe thead th {\n",
              "        text-align: right;\n",
              "    }\n",
              "</style>\n",
              "<table border=\"1\" class=\"dataframe\">\n",
              "  <thead>\n",
              "    <tr style=\"text-align: right;\">\n",
              "      <th></th>\n",
              "      <th>date</th>\n",
              "      <th>average_price</th>\n",
              "      <th>total_volume</th>\n",
              "      <th>4046</th>\n",
              "      <th>4225</th>\n",
              "      <th>4770</th>\n",
              "      <th>total_bags</th>\n",
              "      <th>small_bags</th>\n",
              "      <th>large_bags</th>\n",
              "      <th>xlarge_bags</th>\n",
              "      <th>type</th>\n",
              "      <th>year</th>\n",
              "      <th>region</th>\n",
              "      <th>total_volume_norm</th>\n",
              "      <th>average_price_dist</th>\n",
              "    </tr>\n",
              "  </thead>\n",
              "  <tbody>\n",
              "    <tr>\n",
              "      <th>0</th>\n",
              "      <td>2015-12-27</td>\n",
              "      <td>1.33</td>\n",
              "      <td>64236.62</td>\n",
              "      <td>1036.74</td>\n",
              "      <td>54454.85</td>\n",
              "      <td>48.16</td>\n",
              "      <td>8696.87</td>\n",
              "      <td>8603.62</td>\n",
              "      <td>93.25</td>\n",
              "      <td>0.0</td>\n",
              "      <td>0</td>\n",
              "      <td>2015</td>\n",
              "      <td>Albany</td>\n",
              "      <td>-0.227716</td>\n",
              "      <td>(1.283, 1.564]</td>\n",
              "    </tr>\n",
              "    <tr>\n",
              "      <th>1</th>\n",
              "      <td>2015-12-20</td>\n",
              "      <td>1.35</td>\n",
              "      <td>54876.98</td>\n",
              "      <td>674.28</td>\n",
              "      <td>44638.81</td>\n",
              "      <td>58.33</td>\n",
              "      <td>9505.56</td>\n",
              "      <td>9408.07</td>\n",
              "      <td>97.49</td>\n",
              "      <td>0.0</td>\n",
              "      <td>0</td>\n",
              "      <td>2015</td>\n",
              "      <td>Albany</td>\n",
              "      <td>-0.230427</td>\n",
              "      <td>(1.283, 1.564]</td>\n",
              "    </tr>\n",
              "    <tr>\n",
              "      <th>2</th>\n",
              "      <td>2015-12-13</td>\n",
              "      <td>0.93</td>\n",
              "      <td>118220.22</td>\n",
              "      <td>794.70</td>\n",
              "      <td>109149.67</td>\n",
              "      <td>130.50</td>\n",
              "      <td>8145.35</td>\n",
              "      <td>8042.21</td>\n",
              "      <td>103.14</td>\n",
              "      <td>0.0</td>\n",
              "      <td>0</td>\n",
              "      <td>2015</td>\n",
              "      <td>Albany</td>\n",
              "      <td>-0.212085</td>\n",
              "      <td>(0.721, 1.002]</td>\n",
              "    </tr>\n",
              "    <tr>\n",
              "      <th>3</th>\n",
              "      <td>2015-12-06</td>\n",
              "      <td>1.08</td>\n",
              "      <td>78992.15</td>\n",
              "      <td>1132.00</td>\n",
              "      <td>71976.41</td>\n",
              "      <td>72.58</td>\n",
              "      <td>5811.16</td>\n",
              "      <td>5677.40</td>\n",
              "      <td>133.76</td>\n",
              "      <td>0.0</td>\n",
              "      <td>0</td>\n",
              "      <td>2015</td>\n",
              "      <td>Albany</td>\n",
              "      <td>-0.223444</td>\n",
              "      <td>(1.002, 1.283]</td>\n",
              "    </tr>\n",
              "    <tr>\n",
              "      <th>4</th>\n",
              "      <td>2015-11-29</td>\n",
              "      <td>1.28</td>\n",
              "      <td>51039.60</td>\n",
              "      <td>941.48</td>\n",
              "      <td>43838.39</td>\n",
              "      <td>75.78</td>\n",
              "      <td>6183.95</td>\n",
              "      <td>5986.26</td>\n",
              "      <td>197.69</td>\n",
              "      <td>0.0</td>\n",
              "      <td>0</td>\n",
              "      <td>2015</td>\n",
              "      <td>Albany</td>\n",
              "      <td>-0.231538</td>\n",
              "      <td>(1.002, 1.283]</td>\n",
              "    </tr>\n",
              "  </tbody>\n",
              "</table>\n",
              "</div>"
            ],
            "text/plain": [
              "         date  average_price  ...  total_volume_norm  average_price_dist\n",
              "0  2015-12-27           1.33  ...          -0.227716      (1.283, 1.564]\n",
              "1  2015-12-20           1.35  ...          -0.230427      (1.283, 1.564]\n",
              "2  2015-12-13           0.93  ...          -0.212085      (0.721, 1.002]\n",
              "3  2015-12-06           1.08  ...          -0.223444      (1.002, 1.283]\n",
              "4  2015-11-29           1.28  ...          -0.231538      (1.002, 1.283]\n",
              "\n",
              "[5 rows x 15 columns]"
            ]
          },
          "metadata": {
            "tags": []
          },
          "execution_count": 2110
        }
      ]
    },
    {
      "cell_type": "markdown",
      "metadata": {
        "id": "sOUOghO_imbu"
      },
      "source": [
        "##Removendo Outliers"
      ]
    },
    {
      "cell_type": "code",
      "metadata": {
        "colab": {
          "base_uri": "https://localhost:8080/",
          "height": 0
        },
        "id": "3Tc41K4DwUcR",
        "outputId": "fdec1e2f-a74d-464e-94d8-efa88fd5cee3"
      },
      "source": [
        "df.head()"
      ],
      "execution_count": 2111,
      "outputs": [
        {
          "output_type": "execute_result",
          "data": {
            "text/html": [
              "<div>\n",
              "<style scoped>\n",
              "    .dataframe tbody tr th:only-of-type {\n",
              "        vertical-align: middle;\n",
              "    }\n",
              "\n",
              "    .dataframe tbody tr th {\n",
              "        vertical-align: top;\n",
              "    }\n",
              "\n",
              "    .dataframe thead th {\n",
              "        text-align: right;\n",
              "    }\n",
              "</style>\n",
              "<table border=\"1\" class=\"dataframe\">\n",
              "  <thead>\n",
              "    <tr style=\"text-align: right;\">\n",
              "      <th></th>\n",
              "      <th>date</th>\n",
              "      <th>average_price</th>\n",
              "      <th>total_volume</th>\n",
              "      <th>4046</th>\n",
              "      <th>4225</th>\n",
              "      <th>4770</th>\n",
              "      <th>total_bags</th>\n",
              "      <th>small_bags</th>\n",
              "      <th>large_bags</th>\n",
              "      <th>xlarge_bags</th>\n",
              "      <th>type</th>\n",
              "      <th>year</th>\n",
              "      <th>region</th>\n",
              "      <th>total_volume_norm</th>\n",
              "      <th>average_price_dist</th>\n",
              "    </tr>\n",
              "  </thead>\n",
              "  <tbody>\n",
              "    <tr>\n",
              "      <th>0</th>\n",
              "      <td>2015-12-27</td>\n",
              "      <td>1.33</td>\n",
              "      <td>64236.62</td>\n",
              "      <td>1036.74</td>\n",
              "      <td>54454.85</td>\n",
              "      <td>48.16</td>\n",
              "      <td>8696.87</td>\n",
              "      <td>8603.62</td>\n",
              "      <td>93.25</td>\n",
              "      <td>0.0</td>\n",
              "      <td>0</td>\n",
              "      <td>2015</td>\n",
              "      <td>Albany</td>\n",
              "      <td>-0.227716</td>\n",
              "      <td>(1.283, 1.564]</td>\n",
              "    </tr>\n",
              "    <tr>\n",
              "      <th>1</th>\n",
              "      <td>2015-12-20</td>\n",
              "      <td>1.35</td>\n",
              "      <td>54876.98</td>\n",
              "      <td>674.28</td>\n",
              "      <td>44638.81</td>\n",
              "      <td>58.33</td>\n",
              "      <td>9505.56</td>\n",
              "      <td>9408.07</td>\n",
              "      <td>97.49</td>\n",
              "      <td>0.0</td>\n",
              "      <td>0</td>\n",
              "      <td>2015</td>\n",
              "      <td>Albany</td>\n",
              "      <td>-0.230427</td>\n",
              "      <td>(1.283, 1.564]</td>\n",
              "    </tr>\n",
              "    <tr>\n",
              "      <th>2</th>\n",
              "      <td>2015-12-13</td>\n",
              "      <td>0.93</td>\n",
              "      <td>118220.22</td>\n",
              "      <td>794.70</td>\n",
              "      <td>109149.67</td>\n",
              "      <td>130.50</td>\n",
              "      <td>8145.35</td>\n",
              "      <td>8042.21</td>\n",
              "      <td>103.14</td>\n",
              "      <td>0.0</td>\n",
              "      <td>0</td>\n",
              "      <td>2015</td>\n",
              "      <td>Albany</td>\n",
              "      <td>-0.212085</td>\n",
              "      <td>(0.721, 1.002]</td>\n",
              "    </tr>\n",
              "    <tr>\n",
              "      <th>3</th>\n",
              "      <td>2015-12-06</td>\n",
              "      <td>1.08</td>\n",
              "      <td>78992.15</td>\n",
              "      <td>1132.00</td>\n",
              "      <td>71976.41</td>\n",
              "      <td>72.58</td>\n",
              "      <td>5811.16</td>\n",
              "      <td>5677.40</td>\n",
              "      <td>133.76</td>\n",
              "      <td>0.0</td>\n",
              "      <td>0</td>\n",
              "      <td>2015</td>\n",
              "      <td>Albany</td>\n",
              "      <td>-0.223444</td>\n",
              "      <td>(1.002, 1.283]</td>\n",
              "    </tr>\n",
              "    <tr>\n",
              "      <th>4</th>\n",
              "      <td>2015-11-29</td>\n",
              "      <td>1.28</td>\n",
              "      <td>51039.60</td>\n",
              "      <td>941.48</td>\n",
              "      <td>43838.39</td>\n",
              "      <td>75.78</td>\n",
              "      <td>6183.95</td>\n",
              "      <td>5986.26</td>\n",
              "      <td>197.69</td>\n",
              "      <td>0.0</td>\n",
              "      <td>0</td>\n",
              "      <td>2015</td>\n",
              "      <td>Albany</td>\n",
              "      <td>-0.231538</td>\n",
              "      <td>(1.002, 1.283]</td>\n",
              "    </tr>\n",
              "  </tbody>\n",
              "</table>\n",
              "</div>"
            ],
            "text/plain": [
              "         date  average_price  ...  total_volume_norm  average_price_dist\n",
              "0  2015-12-27           1.33  ...          -0.227716      (1.283, 1.564]\n",
              "1  2015-12-20           1.35  ...          -0.230427      (1.283, 1.564]\n",
              "2  2015-12-13           0.93  ...          -0.212085      (0.721, 1.002]\n",
              "3  2015-12-06           1.08  ...          -0.223444      (1.002, 1.283]\n",
              "4  2015-11-29           1.28  ...          -0.231538      (1.002, 1.283]\n",
              "\n",
              "[5 rows x 15 columns]"
            ]
          },
          "metadata": {
            "tags": []
          },
          "execution_count": 2111
        }
      ]
    },
    {
      "cell_type": "markdown",
      "metadata": {
        "id": "05ksXapUt_-y"
      },
      "source": [
        "### Z-score Robusto"
      ]
    },
    {
      "cell_type": "code",
      "metadata": {
        "colab": {
          "base_uri": "https://localhost:8080/"
        },
        "id": "jpqrHuoBXMNl",
        "outputId": "a058cc4b-f0e9-4335-fc94-cb40a532d6ed"
      },
      "source": [
        "df['total_volume'].describe()"
      ],
      "execution_count": 2112,
      "outputs": [
        {
          "output_type": "execute_result",
          "data": {
            "text/plain": [
              "count    1.824900e+04\n",
              "mean     8.506440e+05\n",
              "std      3.453545e+06\n",
              "min      8.456000e+01\n",
              "25%      1.083858e+04\n",
              "50%      1.073768e+05\n",
              "75%      4.329623e+05\n",
              "max      6.250565e+07\n",
              "Name: total_volume, dtype: float64"
            ]
          },
          "metadata": {
            "tags": []
          },
          "execution_count": 2112
        }
      ]
    },
    {
      "cell_type": "code",
      "metadata": {
        "colab": {
          "base_uri": "https://localhost:8080/",
          "height": 0
        },
        "id": "zc1jkNYSXS8A",
        "outputId": "0a37ccf8-fb18-4513-b442-562f90ac26fe"
      },
      "source": [
        "df['total_volume'].plot.box()"
      ],
      "execution_count": 2113,
      "outputs": [
        {
          "output_type": "execute_result",
          "data": {
            "text/plain": [
              "<matplotlib.axes._subplots.AxesSubplot at 0x7f0f55b4ae50>"
            ]
          },
          "metadata": {
            "tags": []
          },
          "execution_count": 2113
        },
        {
          "output_type": "display_data",
          "data": {
            "image/png": "[encoded data removed]",
            "text/plain": [
              "<Figure size 432x288 with 1 Axes>"
            ]
          },
          "metadata": {
            "tags": [],
            "needs_background": "light"
          }
        }
      ]
    },
    {
      "cell_type": "code",
      "metadata": {
        "id": "hYHvStDQxFhS"
      },
      "source": [
        ""
      ],
      "execution_count": 2113,
      "outputs": []
    },
    {
      "cell_type": "code",
      "metadata": {
        "colab": {
          "base_uri": "https://localhost:8080/",
          "height": 0
        },
        "id": "iDrYEnYaXYbZ",
        "outputId": "d236b7bf-420c-4f78-a769-e016ba88284d"
      },
      "source": [
        "df['total_volume'].hist()"
      ],
      "execution_count": 2114,
      "outputs": [
        {
          "output_type": "execute_result",
          "data": {
            "text/plain": [
              "<matplotlib.axes._subplots.AxesSubplot at 0x7f0f55ae9d90>"
            ]
          },
          "metadata": {
            "tags": []
          },
          "execution_count": 2114
        },
        {
          "output_type": "display_data",
          "data": {
            "image/png": "[encoded data removed]",
            "text/plain": [
              "<Figure size 432x288 with 1 Axes>"
            ]
          },
          "metadata": {
            "tags": [],
            "needs_background": "light"
          }
        }
      ]
    },
    {
      "cell_type": "code",
      "metadata": {
        "colab": {
          "base_uri": "https://localhost:8080/",
          "height": 0
        },
        "id": "Bq9jrdzRXkSL",
        "outputId": "f20b3cec-a2da-484f-fd30-a75f22c5460a"
      },
      "source": [
        "df['total_volume_log'] = np.log10(df['total_volume'])\n",
        "df['total_volume_log'].hist()"
      ],
      "execution_count": 2115,
      "outputs": [
        {
          "output_type": "execute_result",
          "data": {
            "text/plain": [
              "<matplotlib.axes._subplots.AxesSubplot at 0x7f0f55a7a2d0>"
            ]
          },
          "metadata": {
            "tags": []
          },
          "execution_count": 2115
        },
        {
          "output_type": "display_data",
          "data": {
            "image/png": "[encoded data removed]",
            "text/plain": [
              "<Figure size 432x288 with 1 Axes>"
            ]
          },
          "metadata": {
            "tags": [],
            "needs_background": "light"
          }
        }
      ]
    },
    {
      "cell_type": "code",
      "metadata": {
        "colab": {
          "base_uri": "https://localhost:8080/"
        },
        "id": "NLElaoH9ji7g",
        "outputId": "4b3deaa4-f9ec-43cf-f1af-c31dcf0babc0"
      },
      "source": [
        "mad = np.abs(df['total_volume_log'] - df['total_volume_log'].median()).median()*(1/0.6745)\n",
        "print(mad)"
      ],
      "execution_count": 2116,
      "outputs": [
        {
          "output_type": "stream",
          "text": [
            "1.178900456083008\n"
          ],
          "name": "stdout"
        }
      ]
    },
    {
      "cell_type": "code",
      "metadata": {
        "colab": {
          "base_uri": "https://localhost:8080/"
        },
        "id": "DAnksAfskRCH",
        "outputId": "273895d5-97f0-4ea8-c231-6f0610a378fa"
      },
      "source": [
        "df['total_volume_log'].mad()"
      ],
      "execution_count": 2117,
      "outputs": [
        {
          "output_type": "execute_result",
          "data": {
            "text/plain": [
              "0.8443047122884397"
            ]
          },
          "metadata": {
            "tags": []
          },
          "execution_count": 2117
        }
      ]
    },
    {
      "cell_type": "code",
      "metadata": {
        "colab": {
          "base_uri": "https://localhost:8080/",
          "height": 0
        },
        "id": "5OLzBd_nkXVE",
        "outputId": "b56b6960-ad60-4568-c7ab-a4d820a68656"
      },
      "source": [
        "(abs(df['total_volume_log']-df['total_volume_log'].median())/mad).hist()"
      ],
      "execution_count": 2118,
      "outputs": [
        {
          "output_type": "execute_result",
          "data": {
            "text/plain": [
              "<matplotlib.axes._subplots.AxesSubplot at 0x7f0f559e8910>"
            ]
          },
          "metadata": {
            "tags": []
          },
          "execution_count": 2118
        },
        {
          "output_type": "display_data",
          "data": {
            "image/png": "[encoded data removed]",
            "text/plain": [
              "<Figure size 432x288 with 1 Axes>"
            ]
          },
          "metadata": {
            "tags": [],
            "needs_background": "light"
          }
        }
      ]
    },
    {
      "cell_type": "code",
      "metadata": {
        "colab": {
          "base_uri": "https://localhost:8080/",
          "height": 0
        },
        "id": "ZiEXOWDTkeVK",
        "outputId": "5cd3ee86-f7ae-4f7f-edfc-524aee6d8e17"
      },
      "source": [
        "df[abs(df['total_volume_log']-df['total_volume_log'].median())/mad > 3.5]"
      ],
      "execution_count": 2119,
      "outputs": [
        {
          "output_type": "execute_result",
          "data": {
            "text/html": [
              "<div>\n",
              "<style scoped>\n",
              "    .dataframe tbody tr th:only-of-type {\n",
              "        vertical-align: middle;\n",
              "    }\n",
              "\n",
              "    .dataframe tbody tr th {\n",
              "        vertical-align: top;\n",
              "    }\n",
              "\n",
              "    .dataframe thead th {\n",
              "        text-align: right;\n",
              "    }\n",
              "</style>\n",
              "<table border=\"1\" class=\"dataframe\">\n",
              "  <thead>\n",
              "    <tr style=\"text-align: right;\">\n",
              "      <th></th>\n",
              "      <th>date</th>\n",
              "      <th>average_price</th>\n",
              "      <th>total_volume</th>\n",
              "      <th>4046</th>\n",
              "      <th>4225</th>\n",
              "      <th>4770</th>\n",
              "      <th>total_bags</th>\n",
              "      <th>small_bags</th>\n",
              "      <th>large_bags</th>\n",
              "      <th>xlarge_bags</th>\n",
              "      <th>type</th>\n",
              "      <th>year</th>\n",
              "      <th>region</th>\n",
              "      <th>total_volume_norm</th>\n",
              "      <th>average_price_dist</th>\n",
              "      <th>total_volume_log</th>\n",
              "    </tr>\n",
              "  </thead>\n",
              "  <tbody>\n",
              "  </tbody>\n",
              "</table>\n",
              "</div>"
            ],
            "text/plain": [
              "Empty DataFrame\n",
              "Columns: [date, average_price, total_volume, 4046, 4225, 4770, total_bags, small_bags, large_bags, xlarge_bags, type, year, region, total_volume_norm, average_price_dist, total_volume_log]\n",
              "Index: []"
            ]
          },
          "metadata": {
            "tags": []
          },
          "execution_count": 2119
        }
      ]
    },
    {
      "cell_type": "code",
      "metadata": {
        "colab": {
          "base_uri": "https://localhost:8080/"
        },
        "id": "MYPWmsFbknpc",
        "outputId": "9471b399-47dc-4ecf-9c84-0e78251fd364"
      },
      "source": [
        "df = df[abs(df['total_volume_log']-df['total_volume_log'].median())/mad < 3.5]\n",
        "print(len(df))"
      ],
      "execution_count": 2120,
      "outputs": [
        {
          "output_type": "stream",
          "text": [
            "18249\n"
          ],
          "name": "stdout"
        }
      ]
    },
    {
      "cell_type": "code",
      "metadata": {
        "colab": {
          "base_uri": "https://localhost:8080/",
          "height": 0
        },
        "id": "63Zn4vdrwuEd",
        "outputId": "b59feac4-5133-4d4b-edad-c2c68eab1b51"
      },
      "source": [
        "df['average_price'].plot.box()"
      ],
      "execution_count": 2121,
      "outputs": [
        {
          "output_type": "execute_result",
          "data": {
            "text/plain": [
              "<matplotlib.axes._subplots.AxesSubplot at 0x7f0f559a3c90>"
            ]
          },
          "metadata": {
            "tags": []
          },
          "execution_count": 2121
        },
        {
          "output_type": "display_data",
          "data": {
            "image/png": "[encoded data removed]",
            "text/plain": [
              "<Figure size 432x288 with 1 Axes>"
            ]
          },
          "metadata": {
            "tags": [],
            "needs_background": "light"
          }
        }
      ]
    },
    {
      "cell_type": "code",
      "metadata": {
        "colab": {
          "base_uri": "https://localhost:8080/",
          "height": 0
        },
        "id": "JXw_yv5Hww4j",
        "outputId": "5a7db95f-608b-4b03-dd51-b131e63eef1a"
      },
      "source": [
        "df['4046'].plot.box()"
      ],
      "execution_count": 2122,
      "outputs": [
        {
          "output_type": "execute_result",
          "data": {
            "text/plain": [
              "<matplotlib.axes._subplots.AxesSubplot at 0x7f0f558d8590>"
            ]
          },
          "metadata": {
            "tags": []
          },
          "execution_count": 2122
        },
        {
          "output_type": "display_data",
          "data": {
            "image/png": "[encoded data removed]",
            "text/plain": [
              "<Figure size 432x288 with 1 Axes>"
            ]
          },
          "metadata": {
            "tags": [],
            "needs_background": "light"
          }
        }
      ]
    },
    {
      "cell_type": "code",
      "metadata": {
        "colab": {
          "base_uri": "https://localhost:8080/",
          "height": 0
        },
        "id": "0twu2GPDwyKr",
        "outputId": "1da1e5d3-1356-441a-ba72-0046728e3972"
      },
      "source": [
        "df['4225'].plot.box()"
      ],
      "execution_count": 2123,
      "outputs": [
        {
          "output_type": "execute_result",
          "data": {
            "text/plain": [
              "<matplotlib.axes._subplots.AxesSubplot at 0x7f0f558a1f50>"
            ]
          },
          "metadata": {
            "tags": []
          },
          "execution_count": 2123
        },
        {
          "output_type": "display_data",
          "data": {
            "image/png": "[encoded data removed]",
            "text/plain": [
              "<Figure size 432x288 with 1 Axes>"
            ]
          },
          "metadata": {
            "tags": [],
            "needs_background": "light"
          }
        }
      ]
    },
    {
      "cell_type": "code",
      "metadata": {
        "colab": {
          "base_uri": "https://localhost:8080/",
          "height": 0
        },
        "id": "YEDOkBkFwzSi",
        "outputId": "f396b5fe-9a2a-4a97-ed6c-1324c8390364"
      },
      "source": [
        "df['4770'].plot.box()"
      ],
      "execution_count": 2124,
      "outputs": [
        {
          "output_type": "execute_result",
          "data": {
            "text/plain": [
              "<matplotlib.axes._subplots.AxesSubplot at 0x7f0f55817a10>"
            ]
          },
          "metadata": {
            "tags": []
          },
          "execution_count": 2124
        },
        {
          "output_type": "display_data",
          "data": {
            "image/png": "[encoded data removed]",
            "text/plain": [
              "<Figure size 432x288 with 1 Axes>"
            ]
          },
          "metadata": {
            "tags": [],
            "needs_background": "light"
          }
        }
      ]
    },
    {
      "cell_type": "code",
      "metadata": {
        "colab": {
          "base_uri": "https://localhost:8080/",
          "height": 0
        },
        "id": "y_Zqiflhw27p",
        "outputId": "8e8712e0-c3cb-46f2-a2f2-fc124173f0a2"
      },
      "source": [
        "df['total_bags'].plot.box()"
      ],
      "execution_count": 2125,
      "outputs": [
        {
          "output_type": "execute_result",
          "data": {
            "text/plain": [
              "<matplotlib.axes._subplots.AxesSubplot at 0x7f0f558067d0>"
            ]
          },
          "metadata": {
            "tags": []
          },
          "execution_count": 2125
        },
        {
          "output_type": "display_data",
          "data": {
            "image/png": "[encoded data removed]",
            "text/plain": [
              "<Figure size 432x288 with 1 Axes>"
            ]
          },
          "metadata": {
            "tags": [],
            "needs_background": "light"
          }
        }
      ]
    },
    {
      "cell_type": "code",
      "metadata": {
        "colab": {
          "base_uri": "https://localhost:8080/",
          "height": 0
        },
        "id": "CRSe7rq_w4G6",
        "outputId": "84947660-0ace-4b75-e7cc-9a8405fa7a6f"
      },
      "source": [
        "df['small_bags'].plot.box()"
      ],
      "execution_count": 2126,
      "outputs": [
        {
          "output_type": "execute_result",
          "data": {
            "text/plain": [
              "<matplotlib.axes._subplots.AxesSubplot at 0x7f0f557766d0>"
            ]
          },
          "metadata": {
            "tags": []
          },
          "execution_count": 2126
        },
        {
          "output_type": "display_data",
          "data": {
            "image/png": "[encoded data removed]",
            "text/plain": [
              "<Figure size 432x288 with 1 Axes>"
            ]
          },
          "metadata": {
            "tags": [],
            "needs_background": "light"
          }
        }
      ]
    },
    {
      "cell_type": "code",
      "metadata": {
        "colab": {
          "base_uri": "https://localhost:8080/",
          "height": 0
        },
        "id": "M0Z7jTJjw5jk",
        "outputId": "7e0d6ba3-0e17-48bb-9a5e-7c1164d6cbf3"
      },
      "source": [
        "df['large_bags'].plot.box()"
      ],
      "execution_count": 2127,
      "outputs": [
        {
          "output_type": "execute_result",
          "data": {
            "text/plain": [
              "<matplotlib.axes._subplots.AxesSubplot at 0x7f0f55731550>"
            ]
          },
          "metadata": {
            "tags": []
          },
          "execution_count": 2127
        },
        {
          "output_type": "display_data",
          "data": {
            "image/png": "[encoded data removed]",
            "text/plain": [
              "<Figure size 432x288 with 1 Axes>"
            ]
          },
          "metadata": {
            "tags": [],
            "needs_background": "light"
          }
        }
      ]
    },
    {
      "cell_type": "markdown",
      "metadata": {
        "id": "gho--k2-rlMk"
      },
      "source": [
        "###Método de tukey"
      ]
    },
    {
      "cell_type": "code",
      "metadata": {
        "colab": {
          "base_uri": "https://localhost:8080/"
        },
        "id": "6ipr4BdwlqY4",
        "outputId": "40d0985d-7d84-4b19-c152-2ff374bf39af"
      },
      "source": [
        "df['xlarge_bags'].describe()"
      ],
      "execution_count": 2128,
      "outputs": [
        {
          "output_type": "execute_result",
          "data": {
            "text/plain": [
              "count     18249.000000\n",
              "mean       3106.426507\n",
              "std       17692.894652\n",
              "min           0.000000\n",
              "25%           0.000000\n",
              "50%           0.000000\n",
              "75%         132.500000\n",
              "max      551693.650000\n",
              "Name: xlarge_bags, dtype: float64"
            ]
          },
          "metadata": {
            "tags": []
          },
          "execution_count": 2128
        }
      ]
    },
    {
      "cell_type": "code",
      "metadata": {
        "colab": {
          "base_uri": "https://localhost:8080/",
          "height": 0
        },
        "id": "Qzb-_PKqmS_D",
        "outputId": "9053f772-df89-4f0b-9099-1457bf74b500"
      },
      "source": [
        "df['xlarge_bags'].plot.box()"
      ],
      "execution_count": 2129,
      "outputs": [
        {
          "output_type": "execute_result",
          "data": {
            "text/plain": [
              "<matplotlib.axes._subplots.AxesSubplot at 0x7f0f55651710>"
            ]
          },
          "metadata": {
            "tags": []
          },
          "execution_count": 2129
        },
        {
          "output_type": "display_data",
          "data": {
            "image/png": "[encoded data removed]",
            "text/plain": [
              "<Figure size 432x288 with 1 Axes>"
            ]
          },
          "metadata": {
            "tags": [],
            "needs_background": "light"
          }
        }
      ]
    },
    {
      "cell_type": "code",
      "metadata": {
        "colab": {
          "base_uri": "https://localhost:8080/",
          "height": 0
        },
        "id": "gPl7XAetmb5L",
        "outputId": "3c57a004-e8b6-4c2a-db51-0f5bf0f9b1dd"
      },
      "source": [
        "# tirar o log não resolve pois há divisão por 0\n",
        "df['xlarge_bags'].hist()"
      ],
      "execution_count": 2130,
      "outputs": [
        {
          "output_type": "execute_result",
          "data": {
            "text/plain": [
              "<matplotlib.axes._subplots.AxesSubplot at 0x7f0f5563f910>"
            ]
          },
          "metadata": {
            "tags": []
          },
          "execution_count": 2130
        },
        {
          "output_type": "display_data",
          "data": {
            "image/png": "[encoded data removed]",
            "text/plain": [
              "<Figure size 432x288 with 1 Axes>"
            ]
          },
          "metadata": {
            "tags": [],
            "needs_background": "light"
          }
        }
      ]
    },
    {
      "cell_type": "code",
      "metadata": {
        "colab": {
          "base_uri": "https://localhost:8080/",
          "height": 0
        },
        "id": "hk1qPzjQnz-P",
        "outputId": "87a259f7-a5e2-4572-c0ae-13adf6329fd1"
      },
      "source": [
        "# nova coluna com muitos valores nulos\n",
        "df['xlarge_bags_log'] = np.log10(df[df['xlarge_bags'] != 0]['xlarge_bags'])\n",
        "df['xlarge_bags_log'].hist()"
      ],
      "execution_count": 2131,
      "outputs": [
        {
          "output_type": "execute_result",
          "data": {
            "text/plain": [
              "<matplotlib.axes._subplots.AxesSubplot at 0x7f0f5554e390>"
            ]
          },
          "metadata": {
            "tags": []
          },
          "execution_count": 2131
        },
        {
          "output_type": "display_data",
          "data": {
            "image/png": "[encoded data removed]",
            "text/plain": [
              "<Figure size 432x288 with 1 Axes>"
            ]
          },
          "metadata": {
            "tags": [],
            "needs_background": "light"
          }
        }
      ]
    },
    {
      "cell_type": "code",
      "metadata": {
        "colab": {
          "base_uri": "https://localhost:8080/"
        },
        "id": "Y3URSwqKmkK0",
        "outputId": "e6a4c6d9-1978-4f4c-850f-bf6717fe25c6"
      },
      "source": [
        "xlarge_bags_iqr = df['xlarge_bags_log'].describe()\n",
        "iqr = xlarge_bags_iqr[6] - average_price_iqr[4]\n",
        "iqr"
      ],
      "execution_count": 2132,
      "outputs": [
        {
          "output_type": "execute_result",
          "data": {
            "text/plain": [
              "2.5915217549438796"
            ]
          },
          "metadata": {
            "tags": []
          },
          "execution_count": 2132
        }
      ]
    },
    {
      "cell_type": "code",
      "metadata": {
        "colab": {
          "base_uri": "https://localhost:8080/",
          "height": 0
        },
        "id": "_ijv6dOcnXoE",
        "outputId": "52d0a5f0-0462-47c6-e9ec-c48105b3b4c7"
      },
      "source": [
        "df[df['xlarge_bags_log'] < (xlarge_bags_iqr[4]-1.5*iqr)]"
      ],
      "execution_count": 2133,
      "outputs": [
        {
          "output_type": "execute_result",
          "data": {
            "text/html": [
              "<div>\n",
              "<style scoped>\n",
              "    .dataframe tbody tr th:only-of-type {\n",
              "        vertical-align: middle;\n",
              "    }\n",
              "\n",
              "    .dataframe tbody tr th {\n",
              "        vertical-align: top;\n",
              "    }\n",
              "\n",
              "    .dataframe thead th {\n",
              "        text-align: right;\n",
              "    }\n",
              "</style>\n",
              "<table border=\"1\" class=\"dataframe\">\n",
              "  <thead>\n",
              "    <tr style=\"text-align: right;\">\n",
              "      <th></th>\n",
              "      <th>date</th>\n",
              "      <th>average_price</th>\n",
              "      <th>total_volume</th>\n",
              "      <th>4046</th>\n",
              "      <th>4225</th>\n",
              "      <th>4770</th>\n",
              "      <th>total_bags</th>\n",
              "      <th>small_bags</th>\n",
              "      <th>large_bags</th>\n",
              "      <th>xlarge_bags</th>\n",
              "      <th>type</th>\n",
              "      <th>year</th>\n",
              "      <th>region</th>\n",
              "      <th>total_volume_norm</th>\n",
              "      <th>average_price_dist</th>\n",
              "      <th>total_volume_log</th>\n",
              "      <th>xlarge_bags_log</th>\n",
              "    </tr>\n",
              "  </thead>\n",
              "  <tbody>\n",
              "  </tbody>\n",
              "</table>\n",
              "</div>"
            ],
            "text/plain": [
              "Empty DataFrame\n",
              "Columns: [date, average_price, total_volume, 4046, 4225, 4770, total_bags, small_bags, large_bags, xlarge_bags, type, year, region, total_volume_norm, average_price_dist, total_volume_log, xlarge_bags_log]\n",
              "Index: []"
            ]
          },
          "metadata": {
            "tags": []
          },
          "execution_count": 2133
        }
      ]
    },
    {
      "cell_type": "code",
      "metadata": {
        "colab": {
          "base_uri": "https://localhost:8080/",
          "height": 0
        },
        "id": "TuxX9o8SqAL1",
        "outputId": "b3cf1332-9ddb-4692-d0c4-bec908c23ebd"
      },
      "source": [
        "df[df['xlarge_bags_log'] > (xlarge_bags_iqr[6]+1.5*iqr)]"
      ],
      "execution_count": 2134,
      "outputs": [
        {
          "output_type": "execute_result",
          "data": {
            "text/html": [
              "<div>\n",
              "<style scoped>\n",
              "    .dataframe tbody tr th:only-of-type {\n",
              "        vertical-align: middle;\n",
              "    }\n",
              "\n",
              "    .dataframe tbody tr th {\n",
              "        vertical-align: top;\n",
              "    }\n",
              "\n",
              "    .dataframe thead th {\n",
              "        text-align: right;\n",
              "    }\n",
              "</style>\n",
              "<table border=\"1\" class=\"dataframe\">\n",
              "  <thead>\n",
              "    <tr style=\"text-align: right;\">\n",
              "      <th></th>\n",
              "      <th>date</th>\n",
              "      <th>average_price</th>\n",
              "      <th>total_volume</th>\n",
              "      <th>4046</th>\n",
              "      <th>4225</th>\n",
              "      <th>4770</th>\n",
              "      <th>total_bags</th>\n",
              "      <th>small_bags</th>\n",
              "      <th>large_bags</th>\n",
              "      <th>xlarge_bags</th>\n",
              "      <th>type</th>\n",
              "      <th>year</th>\n",
              "      <th>region</th>\n",
              "      <th>total_volume_norm</th>\n",
              "      <th>average_price_dist</th>\n",
              "      <th>total_volume_log</th>\n",
              "      <th>xlarge_bags_log</th>\n",
              "    </tr>\n",
              "  </thead>\n",
              "  <tbody>\n",
              "  </tbody>\n",
              "</table>\n",
              "</div>"
            ],
            "text/plain": [
              "Empty DataFrame\n",
              "Columns: [date, average_price, total_volume, 4046, 4225, 4770, total_bags, small_bags, large_bags, xlarge_bags, type, year, region, total_volume_norm, average_price_dist, total_volume_log, xlarge_bags_log]\n",
              "Index: []"
            ]
          },
          "metadata": {
            "tags": []
          },
          "execution_count": 2134
        }
      ]
    },
    {
      "cell_type": "code",
      "metadata": {
        "colab": {
          "base_uri": "https://localhost:8080/"
        },
        "id": "sVfg2ZiRqN-0",
        "outputId": "fc43d28a-9b35-4177-90de-3b7aa0a4c161"
      },
      "source": [
        "#Como df1 = número de xlarge_bags != 0, não farei alteração no df\n",
        "df1 = df[(df['xlarge_bags_log'] > (xlarge_bags_iqr[4]-1.5*iqr)) & (df['xlarge_bags_log'] < (xlarge_bags_iqr[6]+1.5*iqr))]\n",
        "len(df1)"
      ],
      "execution_count": 2135,
      "outputs": [
        {
          "output_type": "execute_result",
          "data": {
            "text/plain": [
              "6201"
            ]
          },
          "metadata": {
            "tags": []
          },
          "execution_count": 2135
        }
      ]
    },
    {
      "cell_type": "code",
      "metadata": {
        "colab": {
          "base_uri": "https://localhost:8080/",
          "height": 0
        },
        "id": "U7_lMs72sfbc",
        "outputId": "71132826-cd46-4024-c4e8-a62bd0c02b0f"
      },
      "source": [
        "if len(df1) == len(df[df['xlarge_bags'] != 0]['xlarge_bags']):\n",
        "  df.drop(['xlarge_bags_log'], axis='columns', inplace=True)\n",
        "df.head()"
      ],
      "execution_count": 2136,
      "outputs": [
        {
          "output_type": "execute_result",
          "data": {
            "text/html": [
              "<div>\n",
              "<style scoped>\n",
              "    .dataframe tbody tr th:only-of-type {\n",
              "        vertical-align: middle;\n",
              "    }\n",
              "\n",
              "    .dataframe tbody tr th {\n",
              "        vertical-align: top;\n",
              "    }\n",
              "\n",
              "    .dataframe thead th {\n",
              "        text-align: right;\n",
              "    }\n",
              "</style>\n",
              "<table border=\"1\" class=\"dataframe\">\n",
              "  <thead>\n",
              "    <tr style=\"text-align: right;\">\n",
              "      <th></th>\n",
              "      <th>date</th>\n",
              "      <th>average_price</th>\n",
              "      <th>total_volume</th>\n",
              "      <th>4046</th>\n",
              "      <th>4225</th>\n",
              "      <th>4770</th>\n",
              "      <th>total_bags</th>\n",
              "      <th>small_bags</th>\n",
              "      <th>large_bags</th>\n",
              "      <th>xlarge_bags</th>\n",
              "      <th>type</th>\n",
              "      <th>year</th>\n",
              "      <th>region</th>\n",
              "      <th>total_volume_norm</th>\n",
              "      <th>average_price_dist</th>\n",
              "      <th>total_volume_log</th>\n",
              "    </tr>\n",
              "  </thead>\n",
              "  <tbody>\n",
              "    <tr>\n",
              "      <th>0</th>\n",
              "      <td>2015-12-27</td>\n",
              "      <td>1.33</td>\n",
              "      <td>64236.62</td>\n",
              "      <td>1036.74</td>\n",
              "      <td>54454.85</td>\n",
              "      <td>48.16</td>\n",
              "      <td>8696.87</td>\n",
              "      <td>8603.62</td>\n",
              "      <td>93.25</td>\n",
              "      <td>0.0</td>\n",
              "      <td>0</td>\n",
              "      <td>2015</td>\n",
              "      <td>Albany</td>\n",
              "      <td>-0.227716</td>\n",
              "      <td>(1.283, 1.564]</td>\n",
              "      <td>4.807783</td>\n",
              "    </tr>\n",
              "    <tr>\n",
              "      <th>1</th>\n",
              "      <td>2015-12-20</td>\n",
              "      <td>1.35</td>\n",
              "      <td>54876.98</td>\n",
              "      <td>674.28</td>\n",
              "      <td>44638.81</td>\n",
              "      <td>58.33</td>\n",
              "      <td>9505.56</td>\n",
              "      <td>9408.07</td>\n",
              "      <td>97.49</td>\n",
              "      <td>0.0</td>\n",
              "      <td>0</td>\n",
              "      <td>2015</td>\n",
              "      <td>Albany</td>\n",
              "      <td>-0.230427</td>\n",
              "      <td>(1.283, 1.564]</td>\n",
              "      <td>4.739390</td>\n",
              "    </tr>\n",
              "    <tr>\n",
              "      <th>2</th>\n",
              "      <td>2015-12-13</td>\n",
              "      <td>0.93</td>\n",
              "      <td>118220.22</td>\n",
              "      <td>794.70</td>\n",
              "      <td>109149.67</td>\n",
              "      <td>130.50</td>\n",
              "      <td>8145.35</td>\n",
              "      <td>8042.21</td>\n",
              "      <td>103.14</td>\n",
              "      <td>0.0</td>\n",
              "      <td>0</td>\n",
              "      <td>2015</td>\n",
              "      <td>Albany</td>\n",
              "      <td>-0.212085</td>\n",
              "      <td>(0.721, 1.002]</td>\n",
              "      <td>5.072692</td>\n",
              "    </tr>\n",
              "    <tr>\n",
              "      <th>3</th>\n",
              "      <td>2015-12-06</td>\n",
              "      <td>1.08</td>\n",
              "      <td>78992.15</td>\n",
              "      <td>1132.00</td>\n",
              "      <td>71976.41</td>\n",
              "      <td>72.58</td>\n",
              "      <td>5811.16</td>\n",
              "      <td>5677.40</td>\n",
              "      <td>133.76</td>\n",
              "      <td>0.0</td>\n",
              "      <td>0</td>\n",
              "      <td>2015</td>\n",
              "      <td>Albany</td>\n",
              "      <td>-0.223444</td>\n",
              "      <td>(1.002, 1.283]</td>\n",
              "      <td>4.897584</td>\n",
              "    </tr>\n",
              "    <tr>\n",
              "      <th>4</th>\n",
              "      <td>2015-11-29</td>\n",
              "      <td>1.28</td>\n",
              "      <td>51039.60</td>\n",
              "      <td>941.48</td>\n",
              "      <td>43838.39</td>\n",
              "      <td>75.78</td>\n",
              "      <td>6183.95</td>\n",
              "      <td>5986.26</td>\n",
              "      <td>197.69</td>\n",
              "      <td>0.0</td>\n",
              "      <td>0</td>\n",
              "      <td>2015</td>\n",
              "      <td>Albany</td>\n",
              "      <td>-0.231538</td>\n",
              "      <td>(1.002, 1.283]</td>\n",
              "      <td>4.707907</td>\n",
              "    </tr>\n",
              "  </tbody>\n",
              "</table>\n",
              "</div>"
            ],
            "text/plain": [
              "         date  average_price  ...  average_price_dist  total_volume_log\n",
              "0  2015-12-27           1.33  ...      (1.283, 1.564]          4.807783\n",
              "1  2015-12-20           1.35  ...      (1.283, 1.564]          4.739390\n",
              "2  2015-12-13           0.93  ...      (0.721, 1.002]          5.072692\n",
              "3  2015-12-06           1.08  ...      (1.002, 1.283]          4.897584\n",
              "4  2015-11-29           1.28  ...      (1.002, 1.283]          4.707907\n",
              "\n",
              "[5 rows x 16 columns]"
            ]
          },
          "metadata": {
            "tags": []
          },
          "execution_count": 2136
        }
      ]
    },
    {
      "cell_type": "markdown",
      "metadata": {
        "id": "roJ0BzYYthL0"
      },
      "source": [
        "###Razão de duas variáveis"
      ]
    },
    {
      "cell_type": "code",
      "metadata": {
        "colab": {
          "base_uri": "https://localhost:8080/",
          "height": 0
        },
        "id": "bD6-vpjotke7",
        "outputId": "dc98ef1b-d0cb-4384-9caf-8fb7b0d2617a"
      },
      "source": [
        "df.plot.scatter(x='total_volume',y='average_price')"
      ],
      "execution_count": 2137,
      "outputs": [
        {
          "output_type": "execute_result",
          "data": {
            "text/plain": [
              "<matplotlib.axes._subplots.AxesSubplot at 0x7f0f5550a8d0>"
            ]
          },
          "metadata": {
            "tags": []
          },
          "execution_count": 2137
        },
        {
          "output_type": "display_data",
          "data": {
            "image/png": "[encoded data removed]",
            "text/plain": [
              "<Figure size 432x288 with 1 Axes>"
            ]
          },
          "metadata": {
            "tags": [],
            "needs_background": "light"
          }
        }
      ]
    },
    {
      "cell_type": "code",
      "metadata": {
        "colab": {
          "base_uri": "https://localhost:8080/"
        },
        "id": "WnzcV3uKuKni",
        "outputId": "8bdfeb22-4cc8-4c4b-beca-ac4193c646f5"
      },
      "source": [
        "df['yield'] = df['total_volume'] * df['average_price']\n",
        "df['yield'].describe()"
      ],
      "execution_count": 2138,
      "outputs": [
        {
          "output_type": "execute_result",
          "data": {
            "text/plain": [
              "count    1.824900e+04\n",
              "mean     9.279484e+05\n",
              "std      3.686048e+06\n",
              "min      1.344504e+02\n",
              "25%      1.716418e+04\n",
              "50%      1.395298e+05\n",
              "75%      5.141914e+05\n",
              "max      5.437991e+07\n",
              "Name: yield, dtype: float64"
            ]
          },
          "metadata": {
            "tags": []
          },
          "execution_count": 2138
        }
      ]
    },
    {
      "cell_type": "code",
      "metadata": {
        "colab": {
          "base_uri": "https://localhost:8080/",
          "height": 0
        },
        "id": "R7VwDDF9vTVS",
        "outputId": "df0a9792-6a42-4e5f-b4ba-4426ea6272c7"
      },
      "source": [
        "df['yield'].plot.box()"
      ],
      "execution_count": 2139,
      "outputs": [
        {
          "output_type": "execute_result",
          "data": {
            "text/plain": [
              "<matplotlib.axes._subplots.AxesSubplot at 0x7f0f55253590>"
            ]
          },
          "metadata": {
            "tags": []
          },
          "execution_count": 2139
        },
        {
          "output_type": "display_data",
          "data": {
            "image/png": "[encoded data removed]",
            "text/plain": [
              "<Figure size 432x288 with 1 Axes>"
            ]
          },
          "metadata": {
            "tags": [],
            "needs_background": "light"
          }
        }
      ]
    },
    {
      "cell_type": "code",
      "metadata": {
        "colab": {
          "base_uri": "https://localhost:8080/",
          "height": 0
        },
        "id": "xwsYNRA3vYbx",
        "outputId": "e309ec04-b8e8-41fb-e7ec-9962bfade9f9"
      },
      "source": [
        "df['yield'].hist()"
      ],
      "execution_count": 2140,
      "outputs": [
        {
          "output_type": "execute_result",
          "data": {
            "text/plain": [
              "<matplotlib.axes._subplots.AxesSubplot at 0x7f0f5549d810>"
            ]
          },
          "metadata": {
            "tags": []
          },
          "execution_count": 2140
        },
        {
          "output_type": "display_data",
          "data": {
            "image/png": "[encoded data removed]",
            "text/plain": [
              "<Figure size 432x288 with 1 Axes>"
            ]
          },
          "metadata": {
            "tags": [],
            "needs_background": "light"
          }
        }
      ]
    },
    {
      "cell_type": "code",
      "metadata": {
        "colab": {
          "base_uri": "https://localhost:8080/",
          "height": 0
        },
        "id": "9_onsQJEvhSx",
        "outputId": "ccb2008b-b63d-4538-d6d2-37ae5b8d1353"
      },
      "source": [
        "df['yield_log'] = np.log10(df['yield'])\n",
        "df['yield_log'].hist()\n"
      ],
      "execution_count": 2141,
      "outputs": [
        {
          "output_type": "execute_result",
          "data": {
            "text/plain": [
              "<matplotlib.axes._subplots.AxesSubplot at 0x7f0f55253b10>"
            ]
          },
          "metadata": {
            "tags": []
          },
          "execution_count": 2141
        },
        {
          "output_type": "display_data",
          "data": {
            "image/png": "[encoded data removed]",
            "text/plain": [
              "<Figure size 432x288 with 1 Axes>"
            ]
          },
          "metadata": {
            "tags": [],
            "needs_background": "light"
          }
        }
      ]
    },
    {
      "cell_type": "code",
      "metadata": {
        "colab": {
          "base_uri": "https://localhost:8080/",
          "height": 0
        },
        "id": "z4I78pqrvxCM",
        "outputId": "8bb05ca4-b67a-4aa3-a5dd-99da24be6fff"
      },
      "source": [
        "mad = abs(df['yield_log'] - df['yield_log'].median()).median()*(1/0.6745)\n",
        "(abs(df['yield_log']-df['yield_log'].median())/mad).hist()"
      ],
      "execution_count": 2142,
      "outputs": [
        {
          "output_type": "execute_result",
          "data": {
            "text/plain": [
              "<matplotlib.axes._subplots.AxesSubplot at 0x7f0f55397f50>"
            ]
          },
          "metadata": {
            "tags": []
          },
          "execution_count": 2142
        },
        {
          "output_type": "display_data",
          "data": {
            "image/png": "[encoded data removed]",
            "text/plain": [
              "<Figure size 432x288 with 1 Axes>"
            ]
          },
          "metadata": {
            "tags": [],
            "needs_background": "light"
          }
        }
      ]
    },
    {
      "cell_type": "code",
      "metadata": {
        "colab": {
          "base_uri": "https://localhost:8080/",
          "height": 0
        },
        "id": "7Gqg3TW0v6cc",
        "outputId": "16d36734-e772-4639-c01b-65c65c35fa8a"
      },
      "source": [
        "df[abs(df['yield_log']-df['yield_log'].median())/mad > 3.5]"
      ],
      "execution_count": 2143,
      "outputs": [
        {
          "output_type": "execute_result",
          "data": {
            "text/html": [
              "<div>\n",
              "<style scoped>\n",
              "    .dataframe tbody tr th:only-of-type {\n",
              "        vertical-align: middle;\n",
              "    }\n",
              "\n",
              "    .dataframe tbody tr th {\n",
              "        vertical-align: top;\n",
              "    }\n",
              "\n",
              "    .dataframe thead th {\n",
              "        text-align: right;\n",
              "    }\n",
              "</style>\n",
              "<table border=\"1\" class=\"dataframe\">\n",
              "  <thead>\n",
              "    <tr style=\"text-align: right;\">\n",
              "      <th></th>\n",
              "      <th>date</th>\n",
              "      <th>average_price</th>\n",
              "      <th>total_volume</th>\n",
              "      <th>4046</th>\n",
              "      <th>4225</th>\n",
              "      <th>4770</th>\n",
              "      <th>total_bags</th>\n",
              "      <th>small_bags</th>\n",
              "      <th>large_bags</th>\n",
              "      <th>xlarge_bags</th>\n",
              "      <th>type</th>\n",
              "      <th>year</th>\n",
              "      <th>region</th>\n",
              "      <th>total_volume_norm</th>\n",
              "      <th>average_price_dist</th>\n",
              "      <th>total_volume_log</th>\n",
              "      <th>yield</th>\n",
              "      <th>yield_log</th>\n",
              "    </tr>\n",
              "  </thead>\n",
              "  <tbody>\n",
              "  </tbody>\n",
              "</table>\n",
              "</div>"
            ],
            "text/plain": [
              "Empty DataFrame\n",
              "Columns: [date, average_price, total_volume, 4046, 4225, 4770, total_bags, small_bags, large_bags, xlarge_bags, type, year, region, total_volume_norm, average_price_dist, total_volume_log, yield, yield_log]\n",
              "Index: []"
            ]
          },
          "metadata": {
            "tags": []
          },
          "execution_count": 2143
        }
      ]
    },
    {
      "cell_type": "code",
      "metadata": {
        "colab": {
          "base_uri": "https://localhost:8080/"
        },
        "id": "h3WZPO0xv9dZ",
        "outputId": "2ae3aec5-b07b-41d5-ba03-a6b2de9e6a6a"
      },
      "source": [
        "df = df[abs(df['yield_log']-df['yield_log'].median())/mad < 3.5]\n",
        "print(len(df))"
      ],
      "execution_count": 2144,
      "outputs": [
        {
          "output_type": "stream",
          "text": [
            "18249\n"
          ],
          "name": "stdout"
        }
      ]
    },
    {
      "cell_type": "markdown",
      "metadata": {
        "id": "G9dU2q8Pqt0o"
      },
      "source": [
        "##Estatísticas Univariadas\n",
        "1. Cálculo da média (mean), mediana (median), moda (mode), variância (var), desvio padrão (std)."
      ]
    },
    {
      "cell_type": "code",
      "metadata": {
        "colab": {
          "base_uri": "https://localhost:8080/",
          "height": 0
        },
        "id": "n5-Mf-Yoqyna",
        "outputId": "022635e6-6752-4ef7-9f9f-4a3caa61938a"
      },
      "source": [
        "df.average_price.hist()"
      ],
      "execution_count": 2145,
      "outputs": [
        {
          "output_type": "execute_result",
          "data": {
            "text/plain": [
              "<matplotlib.axes._subplots.AxesSubplot at 0x7f0f553978d0>"
            ]
          },
          "metadata": {
            "tags": []
          },
          "execution_count": 2145
        },
        {
          "output_type": "display_data",
          "data": {
            "image/png": "[encoded data removed]",
            "text/plain": [
              "<Figure size 432x288 with 1 Axes>"
            ]
          },
          "metadata": {
            "tags": [],
            "needs_background": "light"
          }
        }
      ]
    },
    {
      "cell_type": "code",
      "metadata": {
        "colab": {
          "base_uri": "https://localhost:8080/"
        },
        "id": "Pyxz0fwPTuSl",
        "outputId": "00ddd5b1-09dc-4069-9821-d92a88c3caeb"
      },
      "source": [
        "average_price_iqr = df['average_price'].describe()\n",
        "average_price_iqr[6] - average_price_iqr[4]"
      ],
      "execution_count": 2146,
      "outputs": [
        {
          "output_type": "execute_result",
          "data": {
            "text/plain": [
              "0.5599999999999998"
            ]
          },
          "metadata": {
            "tags": []
          },
          "execution_count": 2146
        }
      ]
    },
    {
      "cell_type": "code",
      "metadata": {
        "colab": {
          "base_uri": "https://localhost:8080/",
          "height": 0
        },
        "id": "XcMUCkFrniD4",
        "outputId": "77a4f217-4d64-4d91-dfe3-77e030c8b195"
      },
      "source": [
        "df.boxplot(column=['average_price'])"
      ],
      "execution_count": 2147,
      "outputs": [
        {
          "output_type": "execute_result",
          "data": {
            "text/plain": [
              "<matplotlib.axes._subplots.AxesSubplot at 0x7f0f552a9a10>"
            ]
          },
          "metadata": {
            "tags": []
          },
          "execution_count": 2147
        },
        {
          "output_type": "display_data",
          "data": {
            "image/png": "[encoded data removed]",
            "text/plain": [
              "<Figure size 432x288 with 1 Axes>"
            ]
          },
          "metadata": {
            "tags": [],
            "needs_background": "light"
          }
        }
      ]
    },
    {
      "cell_type": "code",
      "metadata": {
        "colab": {
          "base_uri": "https://localhost:8080/"
        },
        "id": "N7_kPuPMgCsa",
        "outputId": "734c86ec-9a5a-403d-90fc-f6944ad272b8"
      },
      "source": [
        "xlarge_bags_iqr = df['xlarge_bags'].describe()\n",
        "xlarge_bags_iqr[6] - xlarge_bags_iqr[4]"
      ],
      "execution_count": 2148,
      "outputs": [
        {
          "output_type": "execute_result",
          "data": {
            "text/plain": [
              "132.5"
            ]
          },
          "metadata": {
            "tags": []
          },
          "execution_count": 2148
        }
      ]
    },
    {
      "cell_type": "code",
      "metadata": {
        "colab": {
          "base_uri": "https://localhost:8080/",
          "height": 0
        },
        "id": "_3SCqqmAPUY2",
        "outputId": "9bbde63f-ff0b-4ded-d9cb-619a2502d92e"
      },
      "source": [
        "df.boxplot(column=['xlarge_bags'])"
      ],
      "execution_count": 2149,
      "outputs": [
        {
          "output_type": "execute_result",
          "data": {
            "text/plain": [
              "<matplotlib.axes._subplots.AxesSubplot at 0x7f0f552a98d0>"
            ]
          },
          "metadata": {
            "tags": []
          },
          "execution_count": 2149
        },
        {
          "output_type": "display_data",
          "data": {
            "image/png": "[encoded data removed]",
            "text/plain": [
              "<Figure size 432x288 with 1 Axes>"
            ]
          },
          "metadata": {
            "tags": [],
            "needs_background": "light"
          }
        }
      ]
    },
    {
      "cell_type": "code",
      "metadata": {
        "colab": {
          "base_uri": "https://localhost:8080/"
        },
        "id": "e-ER7QVVtbZI",
        "outputId": "e23d7185-9bc3-4f84-d557-ae88c07b64af"
      },
      "source": [
        "df['average_price'].describe()"
      ],
      "execution_count": 2150,
      "outputs": [
        {
          "output_type": "execute_result",
          "data": {
            "text/plain": [
              "count    18249.000000\n",
              "mean         1.405978\n",
              "std          0.402677\n",
              "min          0.440000\n",
              "25%          1.100000\n",
              "50%          1.370000\n",
              "75%          1.660000\n",
              "max          3.250000\n",
              "Name: average_price, dtype: float64"
            ]
          },
          "metadata": {
            "tags": []
          },
          "execution_count": 2150
        }
      ]
    },
    {
      "cell_type": "code",
      "metadata": {
        "colab": {
          "base_uri": "https://localhost:8080/"
        },
        "id": "p8Y-S7Vh4wUJ",
        "outputId": "c9d7c083-8585-4dd8-e211-f902180fb8ac"
      },
      "source": [
        "df['total_volume'].describe()"
      ],
      "execution_count": 2151,
      "outputs": [
        {
          "output_type": "execute_result",
          "data": {
            "text/plain": [
              "count    1.824900e+04\n",
              "mean     8.506440e+05\n",
              "std      3.453545e+06\n",
              "min      8.456000e+01\n",
              "25%      1.083858e+04\n",
              "50%      1.073768e+05\n",
              "75%      4.329623e+05\n",
              "max      6.250565e+07\n",
              "Name: total_volume, dtype: float64"
            ]
          },
          "metadata": {
            "tags": []
          },
          "execution_count": 2151
        }
      ]
    },
    {
      "cell_type": "code",
      "metadata": {
        "colab": {
          "base_uri": "https://localhost:8080/"
        },
        "id": "KzysieNb41In",
        "outputId": "60073f2b-b6a8-4e52-986c-0f0c60da5f48"
      },
      "source": [
        "df['4046'].describe()"
      ],
      "execution_count": 2152,
      "outputs": [
        {
          "output_type": "execute_result",
          "data": {
            "text/plain": [
              "count    1.824900e+04\n",
              "mean     2.930084e+05\n",
              "std      1.264989e+06\n",
              "min      0.000000e+00\n",
              "25%      8.540700e+02\n",
              "50%      8.645300e+03\n",
              "75%      1.110202e+05\n",
              "max      2.274362e+07\n",
              "Name: 4046, dtype: float64"
            ]
          },
          "metadata": {
            "tags": []
          },
          "execution_count": 2152
        }
      ]
    },
    {
      "cell_type": "code",
      "metadata": {
        "colab": {
          "base_uri": "https://localhost:8080/"
        },
        "id": "TR-gwY1e43eX",
        "outputId": "4f4d77ea-3776-4b74-9891-db46f1c76f2c"
      },
      "source": [
        "df['4225'].describe()"
      ],
      "execution_count": 2153,
      "outputs": [
        {
          "output_type": "execute_result",
          "data": {
            "text/plain": [
              "count    1.824900e+04\n",
              "mean     2.951546e+05\n",
              "std      1.204120e+06\n",
              "min      0.000000e+00\n",
              "25%      3.008780e+03\n",
              "50%      2.906102e+04\n",
              "75%      1.502069e+05\n",
              "max      2.047057e+07\n",
              "Name: 4225, dtype: float64"
            ]
          },
          "metadata": {
            "tags": []
          },
          "execution_count": 2153
        }
      ]
    },
    {
      "cell_type": "code",
      "metadata": {
        "colab": {
          "base_uri": "https://localhost:8080/"
        },
        "id": "hh2xk7AW45dg",
        "outputId": "dec67402-f295-46dc-f4e2-1aeaa0aaf828"
      },
      "source": [
        "df['4770'].describe()"
      ],
      "execution_count": 2154,
      "outputs": [
        {
          "output_type": "execute_result",
          "data": {
            "text/plain": [
              "count    1.824900e+04\n",
              "mean     2.283974e+04\n",
              "std      1.074641e+05\n",
              "min      0.000000e+00\n",
              "25%      0.000000e+00\n",
              "50%      1.849900e+02\n",
              "75%      6.243420e+03\n",
              "max      2.546439e+06\n",
              "Name: 4770, dtype: float64"
            ]
          },
          "metadata": {
            "tags": []
          },
          "execution_count": 2154
        }
      ]
    },
    {
      "cell_type": "code",
      "metadata": {
        "colab": {
          "base_uri": "https://localhost:8080/"
        },
        "id": "Y-KrhQMO48RY",
        "outputId": "909fdbb1-d99b-4e2b-bffb-2c657e64388a"
      },
      "source": [
        "df['total_bags'].describe()"
      ],
      "execution_count": 2155,
      "outputs": [
        {
          "output_type": "execute_result",
          "data": {
            "text/plain": [
              "count    1.824900e+04\n",
              "mean     2.396392e+05\n",
              "std      9.862424e+05\n",
              "min      0.000000e+00\n",
              "25%      5.088640e+03\n",
              "50%      3.974383e+04\n",
              "75%      1.107834e+05\n",
              "max      1.937313e+07\n",
              "Name: total_bags, dtype: float64"
            ]
          },
          "metadata": {
            "tags": []
          },
          "execution_count": 2155
        }
      ]
    },
    {
      "cell_type": "code",
      "metadata": {
        "colab": {
          "base_uri": "https://localhost:8080/"
        },
        "id": "J_6OpWLg4-jn",
        "outputId": "aced8bb4-c750-4084-9381-12ff9c671ccb"
      },
      "source": [
        "df['small_bags'].describe()"
      ],
      "execution_count": 2156,
      "outputs": [
        {
          "output_type": "execute_result",
          "data": {
            "text/plain": [
              "count    1.824900e+04\n",
              "mean     1.821947e+05\n",
              "std      7.461785e+05\n",
              "min      0.000000e+00\n",
              "25%      2.849420e+03\n",
              "50%      2.636282e+04\n",
              "75%      8.333767e+04\n",
              "max      1.338459e+07\n",
              "Name: small_bags, dtype: float64"
            ]
          },
          "metadata": {
            "tags": []
          },
          "execution_count": 2156
        }
      ]
    },
    {
      "cell_type": "code",
      "metadata": {
        "colab": {
          "base_uri": "https://localhost:8080/"
        },
        "id": "ALmPkxS34_9g",
        "outputId": "76ab0122-0a15-4ae1-cfe0-e7bbb571443f"
      },
      "source": [
        "df['large_bags'].describe()"
      ],
      "execution_count": 2157,
      "outputs": [
        {
          "output_type": "execute_result",
          "data": {
            "text/plain": [
              "count    1.824900e+04\n",
              "mean     5.433809e+04\n",
              "std      2.439660e+05\n",
              "min      0.000000e+00\n",
              "25%      1.274700e+02\n",
              "50%      2.647710e+03\n",
              "75%      2.202925e+04\n",
              "max      5.719097e+06\n",
              "Name: large_bags, dtype: float64"
            ]
          },
          "metadata": {
            "tags": []
          },
          "execution_count": 2157
        }
      ]
    },
    {
      "cell_type": "code",
      "metadata": {
        "colab": {
          "base_uri": "https://localhost:8080/"
        },
        "id": "6F_wUVdV5CAX",
        "outputId": "afdee986-3b99-43b7-b22c-4441bd30565b"
      },
      "source": [
        "df['xlarge_bags'].describe()"
      ],
      "execution_count": 2158,
      "outputs": [
        {
          "output_type": "execute_result",
          "data": {
            "text/plain": [
              "count     18249.000000\n",
              "mean       3106.426507\n",
              "std       17692.894652\n",
              "min           0.000000\n",
              "25%           0.000000\n",
              "50%           0.000000\n",
              "75%         132.500000\n",
              "max      551693.650000\n",
              "Name: xlarge_bags, dtype: float64"
            ]
          },
          "metadata": {
            "tags": []
          },
          "execution_count": 2158
        }
      ]
    },
    {
      "cell_type": "code",
      "metadata": {
        "colab": {
          "base_uri": "https://localhost:8080/"
        },
        "id": "6iBJMIXI79iA",
        "outputId": "04c44801-4209-4424-872a-743319fbb785"
      },
      "source": [
        "# mesmo valor do 2 quartil\n",
        "print('Mediana do average_price:', df['average_price'].median())\n",
        "print('Mediana do total_volume:', df['total_volume'].median())\n",
        "print('Mediana do número de avocados vendidos com PLU 4046:', df['4046'].median())\n",
        "print('Mediana do número de avocados vendidos com PLU 4225:', df['4225'].median())\n",
        "print('Mediana do número de avocados vendidos com PLU 4770:', df['4770'].median())\n",
        "print('Mediana do total_bags:', df['total_bags'].median())\n",
        "print('Mediana do large_bags:', df['large_bags'].median())\n",
        "print('Mediana do xlarge_bags:', df['xlarge_bags'].median())"
      ],
      "execution_count": 2159,
      "outputs": [
        {
          "output_type": "stream",
          "text": [
            "Mediana do average_price: 1.37\n",
            "Mediana do total_volume: 107376.76\n",
            "Mediana do número de avocados vendidos com PLU 4046: 8645.3\n",
            "Mediana do número de avocados vendidos com PLU 4225: 29061.02\n",
            "Mediana do número de avocados vendidos com PLU 4770: 184.99\n",
            "Mediana do total_bags: 39743.83\n",
            "Mediana do large_bags: 2647.71\n",
            "Mediana do xlarge_bags: 0.0\n"
          ],
          "name": "stdout"
        }
      ]
    },
    {
      "cell_type": "code",
      "metadata": {
        "colab": {
          "base_uri": "https://localhost:8080/"
        },
        "id": "Hy3Qr56E7jKf",
        "outputId": "cdcb0ce9-3a07-40ba-dbff-95b0e9515e25"
      },
      "source": [
        "print('Moda do average_price:', df['average_price'].mode()[0])\n",
        "print('Moda do total_volume:', df['total_volume'].mode()[0])\n",
        "print('Moda do número de avocados vendidos com PLU 4046:', df['4046'].mode()[0])\n",
        "print('Moda do número de avocados vendidos com PLU 4225:', df['4225'].mode()[0])\n",
        "print('Moda do número de avocados vendidos com PLU 4770:', df['4770'].mode()[0])\n",
        "print('Moda do total_bags:', df['total_bags'].mode()[0])\n",
        "print('Moda do large_bags:', df['large_bags'].mode()[0])\n",
        "print('Moda do xlarge_bags:', df['xlarge_bags'].mode()[0])"
      ],
      "execution_count": 2160,
      "outputs": [
        {
          "output_type": "stream",
          "text": [
            "Moda do average_price: 1.15\n",
            "Moda do total_volume: 2038.99\n",
            "Moda do número de avocados vendidos com PLU 4046: 0.0\n",
            "Moda do número de avocados vendidos com PLU 4225: 0.0\n",
            "Moda do número de avocados vendidos com PLU 4770: 0.0\n",
            "Moda do total_bags: 0.0\n",
            "Moda do large_bags: 0.0\n",
            "Moda do xlarge_bags: 0.0\n"
          ],
          "name": "stdout"
        }
      ]
    },
    {
      "cell_type": "markdown",
      "metadata": {
        "id": "sgdK-iJaBJXz"
      },
      "source": [
        "## Estatísticas Descritivas - Questionamentos\n"
      ]
    },
    {
      "cell_type": "markdown",
      "metadata": {
        "id": "sikDM6NG3TE8"
      },
      "source": [
        "####1. Em qual data o preço médio do avocado foi mais alto?"
      ]
    },
    {
      "cell_type": "code",
      "metadata": {
        "colab": {
          "base_uri": "https://localhost:8080/",
          "height": 0
        },
        "id": "S5wWdNfiGWNt",
        "outputId": "661dc290-25d2-4fd1-d599-5eeae37a1151"
      },
      "source": [
        "df[df['average_price'] == df['average_price'].max()][['date', 'average_price']]"
      ],
      "execution_count": 2161,
      "outputs": [
        {
          "output_type": "execute_result",
          "data": {
            "text/html": [
              "<div>\n",
              "<style scoped>\n",
              "    .dataframe tbody tr th:only-of-type {\n",
              "        vertical-align: middle;\n",
              "    }\n",
              "\n",
              "    .dataframe tbody tr th {\n",
              "        vertical-align: top;\n",
              "    }\n",
              "\n",
              "    .dataframe thead th {\n",
              "        text-align: right;\n",
              "    }\n",
              "</style>\n",
              "<table border=\"1\" class=\"dataframe\">\n",
              "  <thead>\n",
              "    <tr style=\"text-align: right;\">\n",
              "      <th></th>\n",
              "      <th>date</th>\n",
              "      <th>average_price</th>\n",
              "    </tr>\n",
              "  </thead>\n",
              "  <tbody>\n",
              "    <tr>\n",
              "      <th>14125</th>\n",
              "      <td>2016-10-30</td>\n",
              "      <td>3.25</td>\n",
              "    </tr>\n",
              "  </tbody>\n",
              "</table>\n",
              "</div>"
            ],
            "text/plain": [
              "             date  average_price\n",
              "14125  2016-10-30           3.25"
            ]
          },
          "metadata": {
            "tags": []
          },
          "execution_count": 2161
        }
      ]
    },
    {
      "cell_type": "markdown",
      "metadata": {
        "id": "1pH7R4fY3aq8"
      },
      "source": [
        "####2. Em qual data o volume total de avocado foi mais alto?"
      ]
    },
    {
      "cell_type": "code",
      "metadata": {
        "colab": {
          "base_uri": "https://localhost:8080/",
          "height": 0
        },
        "id": "56ZgNV4VrF5y",
        "outputId": "c852626b-d1e7-4f61-f93a-c41044d5f823"
      },
      "source": [
        "df[df['total_volume'] == df['total_volume'].max()][['date', 'total_volume']]"
      ],
      "execution_count": 2162,
      "outputs": [
        {
          "output_type": "execute_result",
          "data": {
            "text/html": [
              "<div>\n",
              "<style scoped>\n",
              "    .dataframe tbody tr th:only-of-type {\n",
              "        vertical-align: middle;\n",
              "    }\n",
              "\n",
              "    .dataframe tbody tr th {\n",
              "        vertical-align: top;\n",
              "    }\n",
              "\n",
              "    .dataframe thead th {\n",
              "        text-align: right;\n",
              "    }\n",
              "</style>\n",
              "<table border=\"1\" class=\"dataframe\">\n",
              "  <thead>\n",
              "    <tr style=\"text-align: right;\">\n",
              "      <th></th>\n",
              "      <th>date</th>\n",
              "      <th>total_volume</th>\n",
              "    </tr>\n",
              "  </thead>\n",
              "  <tbody>\n",
              "    <tr>\n",
              "      <th>9097</th>\n",
              "      <td>2018-02-04</td>\n",
              "      <td>62505646.52</td>\n",
              "    </tr>\n",
              "  </tbody>\n",
              "</table>\n",
              "</div>"
            ],
            "text/plain": [
              "            date  total_volume\n",
              "9097  2018-02-04   62505646.52"
            ]
          },
          "metadata": {
            "tags": []
          },
          "execution_count": 2162
        }
      ]
    },
    {
      "cell_type": "markdown",
      "metadata": {
        "id": "b6eoiWUO3hMS"
      },
      "source": [
        "####3. Quantos avocados foram vendidos na região de Albany em cada ano?"
      ]
    },
    {
      "cell_type": "code",
      "metadata": {
        "colab": {
          "base_uri": "https://localhost:8080/",
          "height": 0
        },
        "id": "qqkN26K-ryo0",
        "outputId": "042b8d39-c328-4a04-c240-d8be315e0dcf"
      },
      "source": [
        "df1 = df.groupby(['region', 'year']).sum()\n",
        "df1.reset_index(inplace=True)\n",
        "df1 = df1[df1['region'] == 'Albany'][['region', 'year', 'total_volume']]\n",
        "df1"
      ],
      "execution_count": 2163,
      "outputs": [
        {
          "output_type": "execute_result",
          "data": {
            "text/html": [
              "<div>\n",
              "<style scoped>\n",
              "    .dataframe tbody tr th:only-of-type {\n",
              "        vertical-align: middle;\n",
              "    }\n",
              "\n",
              "    .dataframe tbody tr th {\n",
              "        vertical-align: top;\n",
              "    }\n",
              "\n",
              "    .dataframe thead th {\n",
              "        text-align: right;\n",
              "    }\n",
              "</style>\n",
              "<table border=\"1\" class=\"dataframe\">\n",
              "  <thead>\n",
              "    <tr style=\"text-align: right;\">\n",
              "      <th></th>\n",
              "      <th>region</th>\n",
              "      <th>year</th>\n",
              "      <th>total_volume</th>\n",
              "    </tr>\n",
              "  </thead>\n",
              "  <tbody>\n",
              "    <tr>\n",
              "      <th>0</th>\n",
              "      <td>Albany</td>\n",
              "      <td>2015</td>\n",
              "      <td>4029896.43</td>\n",
              "    </tr>\n",
              "    <tr>\n",
              "      <th>1</th>\n",
              "      <td>Albany</td>\n",
              "      <td>2016</td>\n",
              "      <td>5264335.59</td>\n",
              "    </tr>\n",
              "    <tr>\n",
              "      <th>2</th>\n",
              "      <td>Albany</td>\n",
              "      <td>2017</td>\n",
              "      <td>5231581.78</td>\n",
              "    </tr>\n",
              "    <tr>\n",
              "      <th>3</th>\n",
              "      <td>Albany</td>\n",
              "      <td>2018</td>\n",
              "      <td>1541986.17</td>\n",
              "    </tr>\n",
              "  </tbody>\n",
              "</table>\n",
              "</div>"
            ],
            "text/plain": [
              "   region  year  total_volume\n",
              "0  Albany  2015    4029896.43\n",
              "1  Albany  2016    5264335.59\n",
              "2  Albany  2017    5231581.78\n",
              "3  Albany  2018    1541986.17"
            ]
          },
          "metadata": {
            "tags": []
          },
          "execution_count": 2163
        }
      ]
    },
    {
      "cell_type": "markdown",
      "metadata": {
        "id": "3hO29YPC3kF5"
      },
      "source": [
        "####4. O avocado orgânico é mais popular que o convencional?"
      ]
    },
    {
      "cell_type": "code",
      "metadata": {
        "colab": {
          "base_uri": "https://localhost:8080/"
        },
        "id": "ebEvecDUyjZJ",
        "outputId": "97c1dc86-6ce3-47f0-8022-dac03637d014"
      },
      "source": [
        "df1 = df.groupby('type').sum()\n",
        "df1.reset_index(inplace=True)\n",
        "conventional = df1[df1['type'] == 0]['total_volume']\n",
        "conventional.reset_index(inplace=True,drop = True)\n",
        "organic = df1[df1['type'] == 1]['total_volume']\n",
        "organic.reset_index(inplace=True,drop = True)\n",
        "print(organic[0] > conventional[0])"
      ],
      "execution_count": 2164,
      "outputs": [
        {
          "output_type": "stream",
          "text": [
            "False\n"
          ],
          "name": "stdout"
        }
      ]
    },
    {
      "cell_type": "markdown",
      "metadata": {
        "id": "T6yJVnwM3nmB"
      },
      "source": [
        "####5. Qual o ano em que o preço médio do avocado chegou ao topo?"
      ]
    },
    {
      "cell_type": "code",
      "metadata": {
        "colab": {
          "base_uri": "https://localhost:8080/",
          "height": 0
        },
        "id": "fI3_NZfo1-v6",
        "outputId": "b1573427-37b8-43f1-b3cf-e9af7c6bd978"
      },
      "source": [
        "df[df['average_price'] == df['average_price'].max()][['year', 'average_price']]"
      ],
      "execution_count": 2165,
      "outputs": [
        {
          "output_type": "execute_result",
          "data": {
            "text/html": [
              "<div>\n",
              "<style scoped>\n",
              "    .dataframe tbody tr th:only-of-type {\n",
              "        vertical-align: middle;\n",
              "    }\n",
              "\n",
              "    .dataframe tbody tr th {\n",
              "        vertical-align: top;\n",
              "    }\n",
              "\n",
              "    .dataframe thead th {\n",
              "        text-align: right;\n",
              "    }\n",
              "</style>\n",
              "<table border=\"1\" class=\"dataframe\">\n",
              "  <thead>\n",
              "    <tr style=\"text-align: right;\">\n",
              "      <th></th>\n",
              "      <th>year</th>\n",
              "      <th>average_price</th>\n",
              "    </tr>\n",
              "  </thead>\n",
              "  <tbody>\n",
              "    <tr>\n",
              "      <th>14125</th>\n",
              "      <td>2016</td>\n",
              "      <td>3.25</td>\n",
              "    </tr>\n",
              "  </tbody>\n",
              "</table>\n",
              "</div>"
            ],
            "text/plain": [
              "       year  average_price\n",
              "14125  2016           3.25"
            ]
          },
          "metadata": {
            "tags": []
          },
          "execution_count": 2165
        }
      ]
    },
    {
      "cell_type": "markdown",
      "metadata": {
        "id": "HC5w518V3x74"
      },
      "source": [
        "####6. Plotagem da comparação de vendas com sacolas pequenas, grandes e extra grandes."
      ]
    },
    {
      "cell_type": "code",
      "metadata": {
        "colab": {
          "base_uri": "https://localhost:8080/",
          "height": 0
        },
        "id": "WT1i8oST2TxC",
        "outputId": "6761da83-8291-4be8-b384-73651a2dadf7"
      },
      "source": [
        "#Mesmo com o log as xlarge_bags não fazem diferença no gráfico, possivelmente pq a maioria é igual a zero\n",
        "X = np.arange(10)\n",
        "fig = plt.figure()\n",
        "ax = fig.add_axes([0,0,1,1])\n",
        "ax.bar(X + 0.00, df['small_bags'][18200:18210].apply(np.log10), color = 'b', width = 0.25)\n",
        "ax.bar(X + 0.25, df['large_bags'][18200:18210].apply(np.log10), color = 'g', width = 0.25)\n",
        "ax.bar(X + 0.50, df['xlarge_bags'][18200:18210].apply(np.log10), color = 'r', width = 0.25)"
      ],
      "execution_count": 2166,
      "outputs": [
        {
          "output_type": "execute_result",
          "data": {
            "text/plain": [
              "<BarContainer object of 10 artists>"
            ]
          },
          "metadata": {
            "tags": []
          },
          "execution_count": 2166
        },
        {
          "output_type": "display_data",
          "data": {
            "image/png": "[encoded data removed]",
            "text/plain": [
              "<Figure size 432x288 with 1 Axes>"
            ]
          },
          "metadata": {
            "tags": [],
            "needs_background": "light"
          }
        }
      ]
    },
    {
      "cell_type": "markdown",
      "metadata": {
        "id": "jftCPZkP3zwg"
      },
      "source": [
        "####7. Qual o valor do PLU que teve mais avocados vendidos em 2016?\n"
      ]
    },
    {
      "cell_type": "code",
      "metadata": {
        "colab": {
          "base_uri": "https://localhost:8080/"
        },
        "id": "OtOAGZuT2ZmR",
        "outputId": "8c19e64c-4721-4f20-a6a6-ec044e4d0984"
      },
      "source": [
        "df1 = df[df['year'] == 2016]\n",
        "df1.reset_index(inplace=True,drop = True)\n",
        "df1 = df1.sum()\n",
        "if df1['4046'] > df1['4225'] and df1['4046'] > df1['4770']:\n",
        "  print('4046')\n",
        "elif df1['4225'] > df1['4046'] and df1['4225'] > df1['4770']:\n",
        "  print('4225')\n",
        "elif df1['4770'] > df1['4225'] and df1['4770'] > df1['4046']:\n",
        "  print('4770')\n",
        "else: print('None') \n"
      ],
      "execution_count": 2167,
      "outputs": [
        {
          "output_type": "stream",
          "text": [
            "4225\n"
          ],
          "name": "stdout"
        }
      ]
    },
    {
      "cell_type": "markdown",
      "metadata": {
        "id": "Yoz_lds832FB"
      },
      "source": [
        "####8. No ano de 2017 qual região lucrou mais com a venda de avocados?"
      ]
    },
    {
      "cell_type": "code",
      "metadata": {
        "colab": {
          "base_uri": "https://localhost:8080/",
          "height": 0
        },
        "id": "0k2xC1-B9dNy",
        "outputId": "f997a000-769c-448c-83a4-49ae51703715"
      },
      "source": [
        "df1 = df[df['year']==2017]\n",
        "df1.reset_index(inplace=True,drop = True)\n",
        "df1['yield'] = df1['average_price']*df1['total_volume']\n",
        "df1 = df1.groupby('region').sum()\n",
        "df1.reset_index(inplace=True)\n",
        "df1[df1['yield'] == df1['yield'].max()][['region', 'yield']]\n"
      ],
      "execution_count": 2168,
      "outputs": [
        {
          "output_type": "stream",
          "text": [
            "/usr/local/lib/python3.7/dist-packages/ipykernel_launcher.py:3: SettingWithCopyWarning: \n",
            "A value is trying to be set on a copy of a slice from a DataFrame.\n",
            "Try using .loc[row_indexer,col_indexer] = value instead\n",
            "\n",
            "See the caveats in the documentation: https://pandas.pydata.org/pandas-docs/stable/user_guide/indexing.html#returning-a-view-versus-a-copy\n",
            "  This is separate from the ipykernel package so we can avoid doing imports until\n"
          ],
          "name": "stderr"
        },
        {
          "output_type": "execute_result",
          "data": {
            "text/html": [
              "<div>\n",
              "<style scoped>\n",
              "    .dataframe tbody tr th:only-of-type {\n",
              "        vertical-align: middle;\n",
              "    }\n",
              "\n",
              "    .dataframe tbody tr th {\n",
              "        vertical-align: top;\n",
              "    }\n",
              "\n",
              "    .dataframe thead th {\n",
              "        text-align: right;\n",
              "    }\n",
              "</style>\n",
              "<table border=\"1\" class=\"dataframe\">\n",
              "  <thead>\n",
              "    <tr style=\"text-align: right;\">\n",
              "      <th></th>\n",
              "      <th>region</th>\n",
              "      <th>yield</th>\n",
              "    </tr>\n",
              "  </thead>\n",
              "  <tbody>\n",
              "    <tr>\n",
              "      <th>51</th>\n",
              "      <td>TotalUS</td>\n",
              "      <td>2.250704e+09</td>\n",
              "    </tr>\n",
              "  </tbody>\n",
              "</table>\n",
              "</div>"
            ],
            "text/plain": [
              "     region         yield\n",
              "51  TotalUS  2.250704e+09"
            ]
          },
          "metadata": {
            "tags": []
          },
          "execution_count": 2168
        }
      ]
    },
    {
      "cell_type": "markdown",
      "metadata": {
        "id": "yrHfQhCp340o"
      },
      "source": [
        "####9. Calcule o volume total de avocados vendido por ano em cada região."
      ]
    },
    {
      "cell_type": "code",
      "metadata": {
        "colab": {
          "base_uri": "https://localhost:8080/"
        },
        "id": "1Xo8IqOCAuH7",
        "outputId": "55b5eefd-b012-4241-ba33-09204621221d"
      },
      "source": [
        "df1 = df.groupby(['region', 'year'])['total_volume'].sum()\n",
        "df1.head(20)"
      ],
      "execution_count": 2169,
      "outputs": [
        {
          "output_type": "execute_result",
          "data": {
            "text/plain": [
              "region               year\n",
              "Albany               2015     4029896.43\n",
              "                     2016     5264335.59\n",
              "                     2017     5231581.78\n",
              "                     2018     1541986.17\n",
              "Atlanta              2015    23231698.12\n",
              "                     2016    28326878.30\n",
              "                     2017    28815119.98\n",
              "                     2018     8231422.45\n",
              "BaltimoreWashington  2015    40645579.54\n",
              "                     2016    40893802.32\n",
              "                     2017    41015634.46\n",
              "                     2018    12158903.00\n",
              "Boise                2015     3784357.34\n",
              "                     2016     4653509.53\n",
              "                     2017     4760561.31\n",
              "                     2018     1214759.57\n",
              "Boston               2015    27454991.64\n",
              "                     2016    30571315.07\n",
              "                     2017    30610672.16\n",
              "                     2018     8637005.96\n",
              "Name: total_volume, dtype: float64"
            ]
          },
          "metadata": {
            "tags": []
          },
          "execution_count": 2169
        }
      ]
    },
    {
      "cell_type": "markdown",
      "metadata": {
        "id": "DEF9RII_4BIM"
      },
      "source": [
        "####10. Média (mean), mediana(median), desvio padrão(std) e variância(var) de cada coluna em cada ano."
      ]
    },
    {
      "cell_type": "code",
      "metadata": {
        "colab": {
          "base_uri": "https://localhost:8080/",
          "height": 0
        },
        "id": "9yjNeAtKhdLc",
        "outputId": "af61a05f-f88e-476f-fad3-fe9cdd657556"
      },
      "source": [
        "df.groupby('year').agg(['mean', 'median', 'std', 'var'])"
      ],
      "execution_count": 2170,
      "outputs": [
        {
          "output_type": "execute_result",
          "data": {
            "text/html": [
              "<div>\n",
              "<style scoped>\n",
              "    .dataframe tbody tr th:only-of-type {\n",
              "        vertical-align: middle;\n",
              "    }\n",
              "\n",
              "    .dataframe tbody tr th {\n",
              "        vertical-align: top;\n",
              "    }\n",
              "\n",
              "    .dataframe thead tr th {\n",
              "        text-align: left;\n",
              "    }\n",
              "\n",
              "    .dataframe thead tr:last-of-type th {\n",
              "        text-align: right;\n",
              "    }\n",
              "</style>\n",
              "<table border=\"1\" class=\"dataframe\">\n",
              "  <thead>\n",
              "    <tr>\n",
              "      <th></th>\n",
              "      <th colspan=\"4\" halign=\"left\">average_price</th>\n",
              "      <th colspan=\"4\" halign=\"left\">total_volume</th>\n",
              "      <th colspan=\"4\" halign=\"left\">4046</th>\n",
              "      <th colspan=\"4\" halign=\"left\">4225</th>\n",
              "      <th colspan=\"4\" halign=\"left\">4770</th>\n",
              "      <th colspan=\"4\" halign=\"left\">total_bags</th>\n",
              "      <th colspan=\"4\" halign=\"left\">small_bags</th>\n",
              "      <th colspan=\"4\" halign=\"left\">large_bags</th>\n",
              "      <th colspan=\"4\" halign=\"left\">xlarge_bags</th>\n",
              "      <th colspan=\"4\" halign=\"left\">type</th>\n",
              "      <th colspan=\"4\" halign=\"left\">total_volume_norm</th>\n",
              "      <th colspan=\"4\" halign=\"left\">total_volume_log</th>\n",
              "      <th colspan=\"4\" halign=\"left\">yield</th>\n",
              "      <th colspan=\"4\" halign=\"left\">yield_log</th>\n",
              "    </tr>\n",
              "    <tr>\n",
              "      <th></th>\n",
              "      <th>mean</th>\n",
              "      <th>median</th>\n",
              "      <th>std</th>\n",
              "      <th>var</th>\n",
              "      <th>mean</th>\n",
              "      <th>median</th>\n",
              "      <th>std</th>\n",
              "      <th>var</th>\n",
              "      <th>mean</th>\n",
              "      <th>median</th>\n",
              "      <th>std</th>\n",
              "      <th>var</th>\n",
              "      <th>mean</th>\n",
              "      <th>median</th>\n",
              "      <th>std</th>\n",
              "      <th>var</th>\n",
              "      <th>mean</th>\n",
              "      <th>median</th>\n",
              "      <th>std</th>\n",
              "      <th>var</th>\n",
              "      <th>mean</th>\n",
              "      <th>median</th>\n",
              "      <th>std</th>\n",
              "      <th>var</th>\n",
              "      <th>mean</th>\n",
              "      <th>median</th>\n",
              "      <th>std</th>\n",
              "      <th>var</th>\n",
              "      <th>mean</th>\n",
              "      <th>median</th>\n",
              "      <th>std</th>\n",
              "      <th>var</th>\n",
              "      <th>mean</th>\n",
              "      <th>median</th>\n",
              "      <th>std</th>\n",
              "      <th>var</th>\n",
              "      <th>mean</th>\n",
              "      <th>median</th>\n",
              "      <th>std</th>\n",
              "      <th>var</th>\n",
              "      <th>mean</th>\n",
              "      <th>median</th>\n",
              "      <th>std</th>\n",
              "      <th>var</th>\n",
              "      <th>mean</th>\n",
              "      <th>median</th>\n",
              "      <th>std</th>\n",
              "      <th>var</th>\n",
              "      <th>mean</th>\n",
              "      <th>median</th>\n",
              "      <th>std</th>\n",
              "      <th>var</th>\n",
              "      <th>mean</th>\n",
              "      <th>median</th>\n",
              "      <th>std</th>\n",
              "      <th>var</th>\n",
              "    </tr>\n",
              "    <tr>\n",
              "      <th>year</th>\n",
              "      <th></th>\n",
              "      <th></th>\n",
              "      <th></th>\n",
              "      <th></th>\n",
              "      <th></th>\n",
              "      <th></th>\n",
              "      <th></th>\n",
              "      <th></th>\n",
              "      <th></th>\n",
              "      <th></th>\n",
              "      <th></th>\n",
              "      <th></th>\n",
              "      <th></th>\n",
              "      <th></th>\n",
              "      <th></th>\n",
              "      <th></th>\n",
              "      <th></th>\n",
              "      <th></th>\n",
              "      <th></th>\n",
              "      <th></th>\n",
              "      <th></th>\n",
              "      <th></th>\n",
              "      <th></th>\n",
              "      <th></th>\n",
              "      <th></th>\n",
              "      <th></th>\n",
              "      <th></th>\n",
              "      <th></th>\n",
              "      <th></th>\n",
              "      <th></th>\n",
              "      <th></th>\n",
              "      <th></th>\n",
              "      <th></th>\n",
              "      <th></th>\n",
              "      <th></th>\n",
              "      <th></th>\n",
              "      <th></th>\n",
              "      <th></th>\n",
              "      <th></th>\n",
              "      <th></th>\n",
              "      <th></th>\n",
              "      <th></th>\n",
              "      <th></th>\n",
              "      <th></th>\n",
              "      <th></th>\n",
              "      <th></th>\n",
              "      <th></th>\n",
              "      <th></th>\n",
              "      <th></th>\n",
              "      <th></th>\n",
              "      <th></th>\n",
              "      <th></th>\n",
              "      <th></th>\n",
              "      <th></th>\n",
              "      <th></th>\n",
              "      <th></th>\n",
              "    </tr>\n",
              "  </thead>\n",
              "  <tbody>\n",
              "    <tr>\n",
              "      <th>2015</th>\n",
              "      <td>1.375590</td>\n",
              "      <td>1.300</td>\n",
              "      <td>0.375595</td>\n",
              "      <td>0.141071</td>\n",
              "      <td>7.810274e+05</td>\n",
              "      <td>76146.82</td>\n",
              "      <td>3.171256e+06</td>\n",
              "      <td>1.005686e+13</td>\n",
              "      <td>304443.451708</td>\n",
              "      <td>7915.19</td>\n",
              "      <td>1.310282e+06</td>\n",
              "      <td>1.716839e+12</td>\n",
              "      <td>313633.844367</td>\n",
              "      <td>24964.230</td>\n",
              "      <td>1.276479e+06</td>\n",
              "      <td>1.629398e+12</td>\n",
              "      <td>25426.962520</td>\n",
              "      <td>248.410</td>\n",
              "      <td>109567.104519</td>\n",
              "      <td>1.200495e+10</td>\n",
              "      <td>137523.105437</td>\n",
              "      <td>21785.270</td>\n",
              "      <td>5.473569e+05</td>\n",
              "      <td>2.995996e+11</td>\n",
              "      <td>113033.429256</td>\n",
              "      <td>13759.40</td>\n",
              "      <td>4.534884e+05</td>\n",
              "      <td>2.056518e+11</td>\n",
              "      <td>23520.285037</td>\n",
              "      <td>876.150</td>\n",
              "      <td>97134.611970</td>\n",
              "      <td>9.435133e+09</td>\n",
              "      <td>969.390611</td>\n",
              "      <td>0.0</td>\n",
              "      <td>6417.535470</td>\n",
              "      <td>4.118476e+07</td>\n",
              "      <td>0.499911</td>\n",
              "      <td>0.0</td>\n",
              "      <td>0.500045</td>\n",
              "      <td>0.250045</td>\n",
              "      <td>-0.020159</td>\n",
              "      <td>-0.224268</td>\n",
              "      <td>0.918286</td>\n",
              "      <td>0.843249</td>\n",
              "      <td>4.800443</td>\n",
              "      <td>4.881652</td>\n",
              "      <td>1.058764</td>\n",
              "      <td>1.120981</td>\n",
              "      <td>7.993675e+05</td>\n",
              "      <td>100515.18990</td>\n",
              "      <td>3.198631e+06</td>\n",
              "      <td>1.023124e+13</td>\n",
              "      <td>4.922619</td>\n",
              "      <td>5.002232</td>\n",
              "      <td>0.970901</td>\n",
              "      <td>0.942649</td>\n",
              "    </tr>\n",
              "    <tr>\n",
              "      <th>2016</th>\n",
              "      <td>1.338640</td>\n",
              "      <td>1.300</td>\n",
              "      <td>0.393708</td>\n",
              "      <td>0.155006</td>\n",
              "      <td>8.584206e+05</td>\n",
              "      <td>109597.29</td>\n",
              "      <td>3.478732e+06</td>\n",
              "      <td>1.210158e+13</td>\n",
              "      <td>271567.466578</td>\n",
              "      <td>7444.12</td>\n",
              "      <td>1.172488e+06</td>\n",
              "      <td>1.374727e+12</td>\n",
              "      <td>297850.478632</td>\n",
              "      <td>31768.535</td>\n",
              "      <td>1.215757e+06</td>\n",
              "      <td>1.478066e+12</td>\n",
              "      <td>28468.633371</td>\n",
              "      <td>247.385</td>\n",
              "      <td>136382.919226</td>\n",
              "      <td>1.860030e+10</td>\n",
              "      <td>260533.986204</td>\n",
              "      <td>43989.630</td>\n",
              "      <td>1.022989e+06</td>\n",
              "      <td>1.046508e+12</td>\n",
              "      <td>197025.327568</td>\n",
              "      <td>28783.06</td>\n",
              "      <td>7.803717e+05</td>\n",
              "      <td>6.089800e+11</td>\n",
              "      <td>59940.587974</td>\n",
              "      <td>2981.990</td>\n",
              "      <td>246816.953013</td>\n",
              "      <td>6.091861e+10</td>\n",
              "      <td>3568.070662</td>\n",
              "      <td>0.0</td>\n",
              "      <td>19574.150528</td>\n",
              "      <td>3.831474e+08</td>\n",
              "      <td>0.500000</td>\n",
              "      <td>0.5</td>\n",
              "      <td>0.500045</td>\n",
              "      <td>0.250045</td>\n",
              "      <td>0.002252</td>\n",
              "      <td>-0.214582</td>\n",
              "      <td>1.007321</td>\n",
              "      <td>1.014695</td>\n",
              "      <td>4.920700</td>\n",
              "      <td>5.039800</td>\n",
              "      <td>0.992930</td>\n",
              "      <td>0.985911</td>\n",
              "      <td>8.898843e+05</td>\n",
              "      <td>137970.90070</td>\n",
              "      <td>3.512150e+06</td>\n",
              "      <td>1.233520e+13</td>\n",
              "      <td>5.028985</td>\n",
              "      <td>5.139787</td>\n",
              "      <td>0.925043</td>\n",
              "      <td>0.855704</td>\n",
              "    </tr>\n",
              "    <tr>\n",
              "      <th>2017</th>\n",
              "      <td>1.515128</td>\n",
              "      <td>1.490</td>\n",
              "      <td>0.432906</td>\n",
              "      <td>0.187407</td>\n",
              "      <td>8.623393e+05</td>\n",
              "      <td>122915.75</td>\n",
              "      <td>3.481957e+06</td>\n",
              "      <td>1.212403e+13</td>\n",
              "      <td>288716.905194</td>\n",
              "      <td>9191.15</td>\n",
              "      <td>1.243321e+06</td>\n",
              "      <td>1.545847e+12</td>\n",
              "      <td>269964.124350</td>\n",
              "      <td>29710.395</td>\n",
              "      <td>1.096377e+06</td>\n",
              "      <td>1.202043e+12</td>\n",
              "      <td>15941.542779</td>\n",
              "      <td>134.260</td>\n",
              "      <td>72097.997432</td>\n",
              "      <td>5.198121e+09</td>\n",
              "      <td>287712.119423</td>\n",
              "      <td>51668.090</td>\n",
              "      <td>1.126714e+06</td>\n",
              "      <td>1.269484e+12</td>\n",
              "      <td>213728.158838</td>\n",
              "      <td>35080.78</td>\n",
              "      <td>8.406427e+05</td>\n",
              "      <td>7.066801e+11</td>\n",
              "      <td>69790.115367</td>\n",
              "      <td>4248.375</td>\n",
              "      <td>285387.651104</td>\n",
              "      <td>8.144611e+10</td>\n",
              "      <td>4193.843471</td>\n",
              "      <td>0.0</td>\n",
              "      <td>20588.640836</td>\n",
              "      <td>4.238921e+08</td>\n",
              "      <td>0.499825</td>\n",
              "      <td>0.0</td>\n",
              "      <td>0.500044</td>\n",
              "      <td>0.250044</td>\n",
              "      <td>0.003387</td>\n",
              "      <td>-0.210725</td>\n",
              "      <td>1.008255</td>\n",
              "      <td>1.016577</td>\n",
              "      <td>4.981098</td>\n",
              "      <td>5.089608</td>\n",
              "      <td>0.938420</td>\n",
              "      <td>0.880631</td>\n",
              "      <td>1.042599e+06</td>\n",
              "      <td>171127.85780</td>\n",
              "      <td>4.083997e+06</td>\n",
              "      <td>1.667903e+13</td>\n",
              "      <td>5.143198</td>\n",
              "      <td>5.233321</td>\n",
              "      <td>0.882402</td>\n",
              "      <td>0.778634</td>\n",
              "    </tr>\n",
              "    <tr>\n",
              "      <th>2018</th>\n",
              "      <td>1.347531</td>\n",
              "      <td>1.345</td>\n",
              "      <td>0.305858</td>\n",
              "      <td>0.093549</td>\n",
              "      <td>1.066928e+06</td>\n",
              "      <td>157175.09</td>\n",
              "      <td>4.285501e+06</td>\n",
              "      <td>1.836552e+13</td>\n",
              "      <td>355323.868904</td>\n",
              "      <td>15396.81</td>\n",
              "      <td>1.519684e+06</td>\n",
              "      <td>2.309440e+12</td>\n",
              "      <td>314628.606698</td>\n",
              "      <td>27820.420</td>\n",
              "      <td>1.281932e+06</td>\n",
              "      <td>1.643350e+12</td>\n",
              "      <td>17694.903387</td>\n",
              "      <td>192.390</td>\n",
              "      <td>81683.350624</td>\n",
              "      <td>6.672170e+09</td>\n",
              "      <td>379271.564429</td>\n",
              "      <td>69431.885</td>\n",
              "      <td>1.478037e+06</td>\n",
              "      <td>2.184593e+12</td>\n",
              "      <td>278349.820795</td>\n",
              "      <td>50729.51</td>\n",
              "      <td>1.075358e+06</td>\n",
              "      <td>1.156394e+12</td>\n",
              "      <td>95358.015340</td>\n",
              "      <td>8543.130</td>\n",
              "      <td>408475.725122</td>\n",
              "      <td>1.668524e+11</td>\n",
              "      <td>5563.728295</td>\n",
              "      <td>0.0</td>\n",
              "      <td>25818.259882</td>\n",
              "      <td>6.665825e+08</td>\n",
              "      <td>0.500000</td>\n",
              "      <td>0.5</td>\n",
              "      <td>0.500193</td>\n",
              "      <td>0.250193</td>\n",
              "      <td>0.062628</td>\n",
              "      <td>-0.200805</td>\n",
              "      <td>1.240933</td>\n",
              "      <td>1.539915</td>\n",
              "      <td>5.089218</td>\n",
              "      <td>5.196384</td>\n",
              "      <td>0.921408</td>\n",
              "      <td>0.848993</td>\n",
              "      <td>1.143783e+06</td>\n",
              "      <td>197616.71885</td>\n",
              "      <td>4.444175e+06</td>\n",
              "      <td>1.975069e+13</td>\n",
              "      <td>5.206937</td>\n",
              "      <td>5.295823</td>\n",
              "      <td>0.860720</td>\n",
              "      <td>0.740839</td>\n",
              "    </tr>\n",
              "  </tbody>\n",
              "</table>\n",
              "</div>"
            ],
            "text/plain": [
              "     average_price                   ... yield_log                    \n",
              "              mean median       std  ...    median       std       var\n",
              "year                                 ...                              \n",
              "2015      1.375590  1.300  0.375595  ...  5.002232  0.970901  0.942649\n",
              "2016      1.338640  1.300  0.393708  ...  5.139787  0.925043  0.855704\n",
              "2017      1.515128  1.490  0.432906  ...  5.233321  0.882402  0.778634\n",
              "2018      1.347531  1.345  0.305858  ...  5.295823  0.860720  0.740839\n",
              "\n",
              "[4 rows x 56 columns]"
            ]
          },
          "metadata": {
            "tags": []
          },
          "execution_count": 2170
        }
      ]
    },
    {
      "cell_type": "markdown",
      "metadata": {
        "id": "llB0kcp74aMB"
      },
      "source": [
        "####11. Média (mean), mediana(median), desvio padrão(std) e variância(var) de cada coluna para cada região em cada ano."
      ]
    },
    {
      "cell_type": "code",
      "metadata": {
        "colab": {
          "base_uri": "https://localhost:8080/",
          "height": 0
        },
        "id": "yqdeGYl5h77s",
        "outputId": "0d017857-33bc-4240-80c3-8b87e6664843"
      },
      "source": [
        "df.groupby(['region', 'year']).agg(['mean', 'median', 'std', 'var'])"
      ],
      "execution_count": 2171,
      "outputs": [
        {
          "output_type": "execute_result",
          "data": {
            "text/html": [
              "<div>\n",
              "<style scoped>\n",
              "    .dataframe tbody tr th:only-of-type {\n",
              "        vertical-align: middle;\n",
              "    }\n",
              "\n",
              "    .dataframe tbody tr th {\n",
              "        vertical-align: top;\n",
              "    }\n",
              "\n",
              "    .dataframe thead tr th {\n",
              "        text-align: left;\n",
              "    }\n",
              "\n",
              "    .dataframe thead tr:last-of-type th {\n",
              "        text-align: right;\n",
              "    }\n",
              "</style>\n",
              "<table border=\"1\" class=\"dataframe\">\n",
              "  <thead>\n",
              "    <tr>\n",
              "      <th></th>\n",
              "      <th></th>\n",
              "      <th colspan=\"4\" halign=\"left\">average_price</th>\n",
              "      <th colspan=\"4\" halign=\"left\">total_volume</th>\n",
              "      <th colspan=\"4\" halign=\"left\">4046</th>\n",
              "      <th colspan=\"4\" halign=\"left\">4225</th>\n",
              "      <th colspan=\"4\" halign=\"left\">4770</th>\n",
              "      <th colspan=\"4\" halign=\"left\">total_bags</th>\n",
              "      <th colspan=\"4\" halign=\"left\">small_bags</th>\n",
              "      <th colspan=\"4\" halign=\"left\">large_bags</th>\n",
              "      <th colspan=\"4\" halign=\"left\">xlarge_bags</th>\n",
              "      <th colspan=\"4\" halign=\"left\">type</th>\n",
              "      <th colspan=\"4\" halign=\"left\">total_volume_norm</th>\n",
              "      <th colspan=\"4\" halign=\"left\">total_volume_log</th>\n",
              "      <th colspan=\"4\" halign=\"left\">yield</th>\n",
              "      <th colspan=\"4\" halign=\"left\">yield_log</th>\n",
              "    </tr>\n",
              "    <tr>\n",
              "      <th></th>\n",
              "      <th></th>\n",
              "      <th>mean</th>\n",
              "      <th>median</th>\n",
              "      <th>std</th>\n",
              "      <th>var</th>\n",
              "      <th>mean</th>\n",
              "      <th>median</th>\n",
              "      <th>std</th>\n",
              "      <th>var</th>\n",
              "      <th>mean</th>\n",
              "      <th>median</th>\n",
              "      <th>std</th>\n",
              "      <th>var</th>\n",
              "      <th>mean</th>\n",
              "      <th>median</th>\n",
              "      <th>std</th>\n",
              "      <th>var</th>\n",
              "      <th>mean</th>\n",
              "      <th>median</th>\n",
              "      <th>std</th>\n",
              "      <th>var</th>\n",
              "      <th>mean</th>\n",
              "      <th>median</th>\n",
              "      <th>std</th>\n",
              "      <th>var</th>\n",
              "      <th>mean</th>\n",
              "      <th>median</th>\n",
              "      <th>std</th>\n",
              "      <th>var</th>\n",
              "      <th>mean</th>\n",
              "      <th>median</th>\n",
              "      <th>std</th>\n",
              "      <th>var</th>\n",
              "      <th>mean</th>\n",
              "      <th>median</th>\n",
              "      <th>std</th>\n",
              "      <th>var</th>\n",
              "      <th>mean</th>\n",
              "      <th>median</th>\n",
              "      <th>std</th>\n",
              "      <th>var</th>\n",
              "      <th>mean</th>\n",
              "      <th>median</th>\n",
              "      <th>std</th>\n",
              "      <th>var</th>\n",
              "      <th>mean</th>\n",
              "      <th>median</th>\n",
              "      <th>std</th>\n",
              "      <th>var</th>\n",
              "      <th>mean</th>\n",
              "      <th>median</th>\n",
              "      <th>std</th>\n",
              "      <th>var</th>\n",
              "      <th>mean</th>\n",
              "      <th>median</th>\n",
              "      <th>std</th>\n",
              "      <th>var</th>\n",
              "    </tr>\n",
              "    <tr>\n",
              "      <th>region</th>\n",
              "      <th>year</th>\n",
              "      <th></th>\n",
              "      <th></th>\n",
              "      <th></th>\n",
              "      <th></th>\n",
              "      <th></th>\n",
              "      <th></th>\n",
              "      <th></th>\n",
              "      <th></th>\n",
              "      <th></th>\n",
              "      <th></th>\n",
              "      <th></th>\n",
              "      <th></th>\n",
              "      <th></th>\n",
              "      <th></th>\n",
              "      <th></th>\n",
              "      <th></th>\n",
              "      <th></th>\n",
              "      <th></th>\n",
              "      <th></th>\n",
              "      <th></th>\n",
              "      <th></th>\n",
              "      <th></th>\n",
              "      <th></th>\n",
              "      <th></th>\n",
              "      <th></th>\n",
              "      <th></th>\n",
              "      <th></th>\n",
              "      <th></th>\n",
              "      <th></th>\n",
              "      <th></th>\n",
              "      <th></th>\n",
              "      <th></th>\n",
              "      <th></th>\n",
              "      <th></th>\n",
              "      <th></th>\n",
              "      <th></th>\n",
              "      <th></th>\n",
              "      <th></th>\n",
              "      <th></th>\n",
              "      <th></th>\n",
              "      <th></th>\n",
              "      <th></th>\n",
              "      <th></th>\n",
              "      <th></th>\n",
              "      <th></th>\n",
              "      <th></th>\n",
              "      <th></th>\n",
              "      <th></th>\n",
              "      <th></th>\n",
              "      <th></th>\n",
              "      <th></th>\n",
              "      <th></th>\n",
              "      <th></th>\n",
              "      <th></th>\n",
              "      <th></th>\n",
              "      <th></th>\n",
              "    </tr>\n",
              "  </thead>\n",
              "  <tbody>\n",
              "    <tr>\n",
              "      <th rowspan=\"4\" valign=\"top\">Albany</th>\n",
              "      <th>2015</th>\n",
              "      <td>1.538750</td>\n",
              "      <td>1.520</td>\n",
              "      <td>0.386113</td>\n",
              "      <td>0.149083</td>\n",
              "      <td>3.874900e+04</td>\n",
              "      <td>21312.420</td>\n",
              "      <td>4.199265e+04</td>\n",
              "      <td>1.763383e+09</td>\n",
              "      <td>5.349701e+02</td>\n",
              "      <td>304.550</td>\n",
              "      <td>5.989713e+02</td>\n",
              "      <td>3.587666e+05</td>\n",
              "      <td>30959.871154</td>\n",
              "      <td>14405.660</td>\n",
              "      <td>35308.338253</td>\n",
              "      <td>1.246679e+09</td>\n",
              "      <td>334.397500</td>\n",
              "      <td>10.750</td>\n",
              "      <td>1078.449789</td>\n",
              "      <td>1.163054e+06</td>\n",
              "      <td>6.919765e+03</td>\n",
              "      <td>3729.650</td>\n",
              "      <td>7.487228e+03</td>\n",
              "      <td>5.605858e+07</td>\n",
              "      <td>6744.927404</td>\n",
              "      <td>3662.770</td>\n",
              "      <td>7335.466601</td>\n",
              "      <td>5.380907e+07</td>\n",
              "      <td>173.515865</td>\n",
              "      <td>48.165</td>\n",
              "      <td>228.079376</td>\n",
              "      <td>5.202020e+04</td>\n",
              "      <td>1.322115</td>\n",
              "      <td>0.000</td>\n",
              "      <td>10.694562</td>\n",
              "      <td>1.143737e+02</td>\n",
              "      <td>0.500000</td>\n",
              "      <td>0.5</td>\n",
              "      <td>0.502421</td>\n",
              "      <td>0.252427</td>\n",
              "      <td>-0.235097</td>\n",
              "      <td>-0.240146</td>\n",
              "      <td>0.012160</td>\n",
              "      <td>0.000148</td>\n",
              "      <td>3.977070</td>\n",
              "      <td>3.966677</td>\n",
              "      <td>0.891919</td>\n",
              "      <td>0.795519</td>\n",
              "      <td>4.581263e+04</td>\n",
              "      <td>2.376774e+04</td>\n",
              "      <td>4.900646e+04</td>\n",
              "      <td>2.401633e+09</td>\n",
              "      <td>4.149890</td>\n",
              "      <td>4.129701</td>\n",
              "      <td>0.786600</td>\n",
              "      <td>0.618740</td>\n",
              "    </tr>\n",
              "    <tr>\n",
              "      <th>2016</th>\n",
              "      <td>1.533942</td>\n",
              "      <td>1.520</td>\n",
              "      <td>0.252565</td>\n",
              "      <td>0.063789</td>\n",
              "      <td>5.061861e+04</td>\n",
              "      <td>30353.820</td>\n",
              "      <td>5.242604e+04</td>\n",
              "      <td>2.748489e+09</td>\n",
              "      <td>2.717872e+03</td>\n",
              "      <td>337.155</td>\n",
              "      <td>5.423408e+03</td>\n",
              "      <td>2.941336e+07</td>\n",
              "      <td>39807.862788</td>\n",
              "      <td>21780.260</td>\n",
              "      <td>43423.760649</td>\n",
              "      <td>1.885623e+09</td>\n",
              "      <td>32.300288</td>\n",
              "      <td>5.450</td>\n",
              "      <td>53.769083</td>\n",
              "      <td>2.891114e+03</td>\n",
              "      <td>8.060576e+03</td>\n",
              "      <td>4980.345</td>\n",
              "      <td>7.382668e+03</td>\n",
              "      <td>5.450378e+07</td>\n",
              "      <td>7629.006154</td>\n",
              "      <td>4866.260</td>\n",
              "      <td>6882.521341</td>\n",
              "      <td>4.736910e+07</td>\n",
              "      <td>222.983942</td>\n",
              "      <td>14.225</td>\n",
              "      <td>341.835076</td>\n",
              "      <td>1.168512e+05</td>\n",
              "      <td>208.585962</td>\n",
              "      <td>0.000</td>\n",
              "      <td>579.537068</td>\n",
              "      <td>3.358632e+05</td>\n",
              "      <td>0.500000</td>\n",
              "      <td>0.5</td>\n",
              "      <td>0.502421</td>\n",
              "      <td>0.252427</td>\n",
              "      <td>-0.231660</td>\n",
              "      <td>-0.237528</td>\n",
              "      <td>0.015181</td>\n",
              "      <td>0.000230</td>\n",
              "      <td>4.108303</td>\n",
              "      <td>4.152468</td>\n",
              "      <td>0.887194</td>\n",
              "      <td>0.787113</td>\n",
              "      <td>6.739634e+04</td>\n",
              "      <td>3.766123e+04</td>\n",
              "      <td>6.809382e+04</td>\n",
              "      <td>4.636768e+09</td>\n",
              "      <td>4.287925</td>\n",
              "      <td>4.305581</td>\n",
              "      <td>0.833024</td>\n",
              "      <td>0.693930</td>\n",
              "    </tr>\n",
              "    <tr>\n",
              "      <th>2017</th>\n",
              "      <td>1.637830</td>\n",
              "      <td>1.615</td>\n",
              "      <td>0.214094</td>\n",
              "      <td>0.045836</td>\n",
              "      <td>4.935455e+04</td>\n",
              "      <td>30476.200</td>\n",
              "      <td>4.935714e+04</td>\n",
              "      <td>2.436128e+09</td>\n",
              "      <td>1.608511e+03</td>\n",
              "      <td>1301.605</td>\n",
              "      <td>1.628812e+03</td>\n",
              "      <td>2.653028e+06</td>\n",
              "      <td>39712.432453</td>\n",
              "      <td>23161.030</td>\n",
              "      <td>42549.646372</td>\n",
              "      <td>1.810472e+09</td>\n",
              "      <td>151.473208</td>\n",
              "      <td>9.530</td>\n",
              "      <td>403.386872</td>\n",
              "      <td>1.627210e+05</td>\n",
              "      <td>7.882128e+03</td>\n",
              "      <td>5596.295</td>\n",
              "      <td>6.519169e+03</td>\n",
              "      <td>4.249956e+07</td>\n",
              "      <td>4943.011226</td>\n",
              "      <td>3878.570</td>\n",
              "      <td>3172.431815</td>\n",
              "      <td>1.006432e+07</td>\n",
              "      <td>2763.058868</td>\n",
              "      <td>5.580</td>\n",
              "      <td>4405.136288</td>\n",
              "      <td>1.940523e+07</td>\n",
              "      <td>176.067642</td>\n",
              "      <td>0.000</td>\n",
              "      <td>468.800267</td>\n",
              "      <td>2.197737e+05</td>\n",
              "      <td>0.500000</td>\n",
              "      <td>0.5</td>\n",
              "      <td>0.502375</td>\n",
              "      <td>0.252381</td>\n",
              "      <td>-0.232026</td>\n",
              "      <td>-0.237492</td>\n",
              "      <td>0.014292</td>\n",
              "      <td>0.000204</td>\n",
              "      <td>4.208958</td>\n",
              "      <td>4.245096</td>\n",
              "      <td>0.773265</td>\n",
              "      <td>0.597938</td>\n",
              "      <td>7.497846e+04</td>\n",
              "      <td>5.108557e+04</td>\n",
              "      <td>7.408833e+04</td>\n",
              "      <td>5.489081e+09</td>\n",
              "      <td>4.419494</td>\n",
              "      <td>4.431041</td>\n",
              "      <td>0.741531</td>\n",
              "      <td>0.549868</td>\n",
              "    </tr>\n",
              "    <tr>\n",
              "      <th>2018</th>\n",
              "      <td>1.435833</td>\n",
              "      <td>1.460</td>\n",
              "      <td>0.193726</td>\n",
              "      <td>0.037530</td>\n",
              "      <td>6.424942e+04</td>\n",
              "      <td>46598.205</td>\n",
              "      <td>6.620943e+04</td>\n",
              "      <td>4.383689e+09</td>\n",
              "      <td>4.489244e+03</td>\n",
              "      <td>2919.020</td>\n",
              "      <td>5.407934e+03</td>\n",
              "      <td>2.924575e+07</td>\n",
              "      <td>47775.259167</td>\n",
              "      <td>30127.955</td>\n",
              "      <td>55092.656185</td>\n",
              "      <td>3.035201e+09</td>\n",
              "      <td>35.191667</td>\n",
              "      <td>21.315</td>\n",
              "      <td>40.969405</td>\n",
              "      <td>1.678492e+03</td>\n",
              "      <td>1.194973e+04</td>\n",
              "      <td>9711.585</td>\n",
              "      <td>9.768697e+03</td>\n",
              "      <td>9.542744e+07</td>\n",
              "      <td>9504.018750</td>\n",
              "      <td>7406.015</td>\n",
              "      <td>7796.031957</td>\n",
              "      <td>6.077811e+07</td>\n",
              "      <td>2323.395833</td>\n",
              "      <td>1173.040</td>\n",
              "      <td>2833.745228</td>\n",
              "      <td>8.030112e+06</td>\n",
              "      <td>122.314583</td>\n",
              "      <td>0.000</td>\n",
              "      <td>175.926091</td>\n",
              "      <td>3.094999e+04</td>\n",
              "      <td>0.500000</td>\n",
              "      <td>0.5</td>\n",
              "      <td>0.510754</td>\n",
              "      <td>0.260870</td>\n",
              "      <td>-0.227713</td>\n",
              "      <td>-0.232824</td>\n",
              "      <td>0.019172</td>\n",
              "      <td>0.000368</td>\n",
              "      <td>4.345132</td>\n",
              "      <td>4.405752</td>\n",
              "      <td>0.761626</td>\n",
              "      <td>0.580074</td>\n",
              "      <td>8.521976e+04</td>\n",
              "      <td>6.108504e+04</td>\n",
              "      <td>8.566217e+04</td>\n",
              "      <td>7.338008e+09</td>\n",
              "      <td>4.498133</td>\n",
              "      <td>4.540452</td>\n",
              "      <td>0.728544</td>\n",
              "      <td>0.530777</td>\n",
              "    </tr>\n",
              "    <tr>\n",
              "      <th>Atlanta</th>\n",
              "      <th>2015</th>\n",
              "      <td>1.380577</td>\n",
              "      <td>1.170</td>\n",
              "      <td>0.371679</td>\n",
              "      <td>0.138145</td>\n",
              "      <td>2.233817e+05</td>\n",
              "      <td>173802.545</td>\n",
              "      <td>2.244026e+05</td>\n",
              "      <td>5.035655e+10</td>\n",
              "      <td>1.748062e+05</td>\n",
              "      <td>115726.970</td>\n",
              "      <td>1.821844e+05</td>\n",
              "      <td>3.319116e+10</td>\n",
              "      <td>19379.332212</td>\n",
              "      <td>13895.770</td>\n",
              "      <td>21607.895257</td>\n",
              "      <td>4.669011e+08</td>\n",
              "      <td>378.929038</td>\n",
              "      <td>41.075</td>\n",
              "      <td>646.341337</td>\n",
              "      <td>4.177571e+05</td>\n",
              "      <td>2.881722e+04</td>\n",
              "      <td>20299.190</td>\n",
              "      <td>2.916546e+04</td>\n",
              "      <td>8.506238e+08</td>\n",
              "      <td>18091.291923</td>\n",
              "      <td>6197.515</td>\n",
              "      <td>19429.097244</td>\n",
              "      <td>3.774898e+08</td>\n",
              "      <td>10717.445673</td>\n",
              "      <td>6120.480</td>\n",
              "      <td>12251.505503</td>\n",
              "      <td>1.500994e+08</td>\n",
              "      <td>8.482308</td>\n",
              "      <td>0.000</td>\n",
              "      <td>23.601426</td>\n",
              "      <td>5.570273e+02</td>\n",
              "      <td>0.500000</td>\n",
              "      <td>0.5</td>\n",
              "      <td>0.502421</td>\n",
              "      <td>0.252427</td>\n",
              "      <td>-0.181633</td>\n",
              "      <td>-0.195990</td>\n",
              "      <td>0.064979</td>\n",
              "      <td>0.004222</td>\n",
              "      <td>4.705030</td>\n",
              "      <td>4.865288</td>\n",
              "      <td>0.946077</td>\n",
              "      <td>0.895061</td>\n",
              "      <td>2.357256e+05</td>\n",
              "      <td>1.748728e+05</td>\n",
              "      <td>2.312288e+05</td>\n",
              "      <td>5.346676e+10</td>\n",
              "      <td>4.829862</td>\n",
              "      <td>4.907529</td>\n",
              "      <td>0.839407</td>\n",
              "      <td>0.704604</td>\n",
              "    </tr>\n",
              "    <tr>\n",
              "      <th>...</th>\n",
              "      <th>...</th>\n",
              "      <td>...</td>\n",
              "      <td>...</td>\n",
              "      <td>...</td>\n",
              "      <td>...</td>\n",
              "      <td>...</td>\n",
              "      <td>...</td>\n",
              "      <td>...</td>\n",
              "      <td>...</td>\n",
              "      <td>...</td>\n",
              "      <td>...</td>\n",
              "      <td>...</td>\n",
              "      <td>...</td>\n",
              "      <td>...</td>\n",
              "      <td>...</td>\n",
              "      <td>...</td>\n",
              "      <td>...</td>\n",
              "      <td>...</td>\n",
              "      <td>...</td>\n",
              "      <td>...</td>\n",
              "      <td>...</td>\n",
              "      <td>...</td>\n",
              "      <td>...</td>\n",
              "      <td>...</td>\n",
              "      <td>...</td>\n",
              "      <td>...</td>\n",
              "      <td>...</td>\n",
              "      <td>...</td>\n",
              "      <td>...</td>\n",
              "      <td>...</td>\n",
              "      <td>...</td>\n",
              "      <td>...</td>\n",
              "      <td>...</td>\n",
              "      <td>...</td>\n",
              "      <td>...</td>\n",
              "      <td>...</td>\n",
              "      <td>...</td>\n",
              "      <td>...</td>\n",
              "      <td>...</td>\n",
              "      <td>...</td>\n",
              "      <td>...</td>\n",
              "      <td>...</td>\n",
              "      <td>...</td>\n",
              "      <td>...</td>\n",
              "      <td>...</td>\n",
              "      <td>...</td>\n",
              "      <td>...</td>\n",
              "      <td>...</td>\n",
              "      <td>...</td>\n",
              "      <td>...</td>\n",
              "      <td>...</td>\n",
              "      <td>...</td>\n",
              "      <td>...</td>\n",
              "      <td>...</td>\n",
              "      <td>...</td>\n",
              "      <td>...</td>\n",
              "      <td>...</td>\n",
              "    </tr>\n",
              "    <tr>\n",
              "      <th>West</th>\n",
              "      <th>2018</th>\n",
              "      <td>1.297083</td>\n",
              "      <td>1.245</td>\n",
              "      <td>0.342998</td>\n",
              "      <td>0.117648</td>\n",
              "      <td>3.853212e+06</td>\n",
              "      <td>3353071.060</td>\n",
              "      <td>3.746651e+06</td>\n",
              "      <td>1.403739e+13</td>\n",
              "      <td>1.242132e+06</td>\n",
              "      <td>1048347.940</td>\n",
              "      <td>1.258437e+06</td>\n",
              "      <td>1.583664e+12</td>\n",
              "      <td>967872.896250</td>\n",
              "      <td>855639.835</td>\n",
              "      <td>986896.517087</td>\n",
              "      <td>9.739647e+11</td>\n",
              "      <td>57653.401250</td>\n",
              "      <td>46802.675</td>\n",
              "      <td>59339.480173</td>\n",
              "      <td>3.521174e+09</td>\n",
              "      <td>1.585554e+06</td>\n",
              "      <td>1365962.170</td>\n",
              "      <td>1.476295e+06</td>\n",
              "      <td>2.179447e+12</td>\n",
              "      <td>675047.626667</td>\n",
              "      <td>635913.730</td>\n",
              "      <td>602070.101372</td>\n",
              "      <td>3.624884e+11</td>\n",
              "      <td>902076.230000</td>\n",
              "      <td>674408.945</td>\n",
              "      <td>905793.703693</td>\n",
              "      <td>8.204622e+11</td>\n",
              "      <td>8430.020000</td>\n",
              "      <td>6753.755</td>\n",
              "      <td>8791.310774</td>\n",
              "      <td>7.728715e+07</td>\n",
              "      <td>0.500000</td>\n",
              "      <td>0.5</td>\n",
              "      <td>0.510754</td>\n",
              "      <td>0.260870</td>\n",
              "      <td>0.869440</td>\n",
              "      <td>0.724616</td>\n",
              "      <td>1.084901</td>\n",
              "      <td>1.177009</td>\n",
              "      <td>6.133689</td>\n",
              "      <td>6.172085</td>\n",
              "      <td>0.754404</td>\n",
              "      <td>0.569125</td>\n",
              "      <td>3.830659e+06</td>\n",
              "      <td>3.577304e+06</td>\n",
              "      <td>3.521984e+06</td>\n",
              "      <td>1.240437e+13</td>\n",
              "      <td>6.231991</td>\n",
              "      <td>6.263902</td>\n",
              "      <td>0.642508</td>\n",
              "      <td>0.412816</td>\n",
              "    </tr>\n",
              "    <tr>\n",
              "      <th rowspan=\"4\" valign=\"top\">WestTexNewMexico</th>\n",
              "      <th>2015</th>\n",
              "      <td>1.259320</td>\n",
              "      <td>0.920</td>\n",
              "      <td>0.514081</td>\n",
              "      <td>0.264279</td>\n",
              "      <td>4.031456e+05</td>\n",
              "      <td>519028.450</td>\n",
              "      <td>4.022689e+05</td>\n",
              "      <td>1.618203e+11</td>\n",
              "      <td>2.594844e+05</td>\n",
              "      <td>240183.490</td>\n",
              "      <td>2.715629e+05</td>\n",
              "      <td>7.374640e+10</td>\n",
              "      <td>81549.327087</td>\n",
              "      <td>94633.450</td>\n",
              "      <td>89635.817395</td>\n",
              "      <td>8.034580e+09</td>\n",
              "      <td>8441.202913</td>\n",
              "      <td>10573.290</td>\n",
              "      <td>9313.692899</td>\n",
              "      <td>8.674488e+07</td>\n",
              "      <td>5.367068e+04</td>\n",
              "      <td>66835.640</td>\n",
              "      <td>5.523809e+04</td>\n",
              "      <td>3.051246e+09</td>\n",
              "      <td>46530.664563</td>\n",
              "      <td>65072.690</td>\n",
              "      <td>46867.084993</td>\n",
              "      <td>2.196524e+09</td>\n",
              "      <td>6776.134854</td>\n",
              "      <td>1217.890</td>\n",
              "      <td>11197.157228</td>\n",
              "      <td>1.253763e+08</td>\n",
              "      <td>363.883495</td>\n",
              "      <td>0.000</td>\n",
              "      <td>2753.346573</td>\n",
              "      <td>7.580917e+06</td>\n",
              "      <td>0.495146</td>\n",
              "      <td>0.0</td>\n",
              "      <td>0.502421</td>\n",
              "      <td>0.252427</td>\n",
              "      <td>-0.129580</td>\n",
              "      <td>-0.096024</td>\n",
              "      <td>0.116483</td>\n",
              "      <td>0.013568</td>\n",
              "      <td>4.926676</td>\n",
              "      <td>5.715191</td>\n",
              "      <td>0.985189</td>\n",
              "      <td>0.970597</td>\n",
              "      <td>3.130337e+05</td>\n",
              "      <td>4.204130e+05</td>\n",
              "      <td>3.002951e+05</td>\n",
              "      <td>9.017716e+10</td>\n",
              "      <td>4.989230</td>\n",
              "      <td>5.623676</td>\n",
              "      <td>0.805124</td>\n",
              "      <td>0.648224</td>\n",
              "    </tr>\n",
              "    <tr>\n",
              "      <th>2016</th>\n",
              "      <td>1.246635</td>\n",
              "      <td>1.115</td>\n",
              "      <td>0.509577</td>\n",
              "      <td>0.259669</td>\n",
              "      <td>4.212253e+05</td>\n",
              "      <td>174380.535</td>\n",
              "      <td>4.200012e+05</td>\n",
              "      <td>1.764010e+11</td>\n",
              "      <td>2.448584e+05</td>\n",
              "      <td>26961.240</td>\n",
              "      <td>2.574704e+05</td>\n",
              "      <td>6.629099e+10</td>\n",
              "      <td>54608.530288</td>\n",
              "      <td>34254.900</td>\n",
              "      <td>55436.965880</td>\n",
              "      <td>3.073257e+09</td>\n",
              "      <td>13347.418269</td>\n",
              "      <td>11245.865</td>\n",
              "      <td>16790.741046</td>\n",
              "      <td>2.819290e+08</td>\n",
              "      <td>1.084109e+05</td>\n",
              "      <td>64718.175</td>\n",
              "      <td>1.105564e+05</td>\n",
              "      <td>1.222272e+10</td>\n",
              "      <td>63870.779712</td>\n",
              "      <td>44977.785</td>\n",
              "      <td>64373.313448</td>\n",
              "      <td>4.143923e+09</td>\n",
              "      <td>42279.265000</td>\n",
              "      <td>13060.290</td>\n",
              "      <td>49212.499056</td>\n",
              "      <td>2.421870e+09</td>\n",
              "      <td>2260.889423</td>\n",
              "      <td>0.000</td>\n",
              "      <td>5886.424101</td>\n",
              "      <td>3.464999e+07</td>\n",
              "      <td>0.500000</td>\n",
              "      <td>0.5</td>\n",
              "      <td>0.502421</td>\n",
              "      <td>0.252427</td>\n",
              "      <td>-0.124345</td>\n",
              "      <td>-0.195823</td>\n",
              "      <td>0.121618</td>\n",
              "      <td>0.014791</td>\n",
              "      <td>5.047882</td>\n",
              "      <td>5.095433</td>\n",
              "      <td>0.883198</td>\n",
              "      <td>0.780039</td>\n",
              "      <td>3.552114e+05</td>\n",
              "      <td>1.977563e+05</td>\n",
              "      <td>3.372022e+05</td>\n",
              "      <td>1.137053e+11</td>\n",
              "      <td>5.111598</td>\n",
              "      <td>5.162078</td>\n",
              "      <td>0.733916</td>\n",
              "      <td>0.538632</td>\n",
              "    </tr>\n",
              "    <tr>\n",
              "      <th>2017</th>\n",
              "      <td>1.281538</td>\n",
              "      <td>1.150</td>\n",
              "      <td>0.490992</td>\n",
              "      <td>0.241073</td>\n",
              "      <td>4.556691e+05</td>\n",
              "      <td>585017.685</td>\n",
              "      <td>4.546458e+05</td>\n",
              "      <td>2.067028e+11</td>\n",
              "      <td>2.522264e+05</td>\n",
              "      <td>336902.510</td>\n",
              "      <td>2.622391e+05</td>\n",
              "      <td>6.876932e+10</td>\n",
              "      <td>55478.712596</td>\n",
              "      <td>57604.700</td>\n",
              "      <td>57338.730433</td>\n",
              "      <td>3.287730e+09</td>\n",
              "      <td>5683.421346</td>\n",
              "      <td>786.920</td>\n",
              "      <td>7110.527671</td>\n",
              "      <td>5.055960e+07</td>\n",
              "      <td>1.422806e+05</td>\n",
              "      <td>119290.425</td>\n",
              "      <td>1.453428e+05</td>\n",
              "      <td>2.112453e+10</td>\n",
              "      <td>64840.747981</td>\n",
              "      <td>58120.550</td>\n",
              "      <td>58812.016893</td>\n",
              "      <td>3.458853e+09</td>\n",
              "      <td>77290.526154</td>\n",
              "      <td>36060.385</td>\n",
              "      <td>89538.050267</td>\n",
              "      <td>8.017062e+09</td>\n",
              "      <td>149.328558</td>\n",
              "      <td>0.000</td>\n",
              "      <td>708.547138</td>\n",
              "      <td>5.020390e+05</td>\n",
              "      <td>0.490385</td>\n",
              "      <td>0.0</td>\n",
              "      <td>0.502328</td>\n",
              "      <td>0.252334</td>\n",
              "      <td>-0.114371</td>\n",
              "      <td>-0.076916</td>\n",
              "      <td>0.131650</td>\n",
              "      <td>0.017332</td>\n",
              "      <td>5.095573</td>\n",
              "      <td>5.767168</td>\n",
              "      <td>0.867083</td>\n",
              "      <td>0.751832</td>\n",
              "      <td>4.054063e+05</td>\n",
              "      <td>5.909136e+05</td>\n",
              "      <td>3.781974e+05</td>\n",
              "      <td>1.430333e+11</td>\n",
              "      <td>5.173811</td>\n",
              "      <td>5.771168</td>\n",
              "      <td>0.730108</td>\n",
              "      <td>0.533058</td>\n",
              "    </tr>\n",
              "    <tr>\n",
              "      <th>2018</th>\n",
              "      <td>1.251250</td>\n",
              "      <td>1.240</td>\n",
              "      <td>0.413672</td>\n",
              "      <td>0.171124</td>\n",
              "      <td>4.917009e+05</td>\n",
              "      <td>438689.795</td>\n",
              "      <td>4.915274e+05</td>\n",
              "      <td>2.415992e+11</td>\n",
              "      <td>2.355698e+05</td>\n",
              "      <td>212107.990</td>\n",
              "      <td>2.402232e+05</td>\n",
              "      <td>5.770717e+10</td>\n",
              "      <td>97075.386250</td>\n",
              "      <td>70514.270</td>\n",
              "      <td>104915.112722</td>\n",
              "      <td>1.100718e+10</td>\n",
              "      <td>5034.290000</td>\n",
              "      <td>3961.045</td>\n",
              "      <td>5141.324743</td>\n",
              "      <td>2.643322e+07</td>\n",
              "      <td>1.540214e+05</td>\n",
              "      <td>134179.415</td>\n",
              "      <td>1.464435e+05</td>\n",
              "      <td>2.144570e+10</td>\n",
              "      <td>73045.790000</td>\n",
              "      <td>58098.620</td>\n",
              "      <td>63563.007600</td>\n",
              "      <td>4.040256e+09</td>\n",
              "      <td>79918.625833</td>\n",
              "      <td>49483.725</td>\n",
              "      <td>86049.945438</td>\n",
              "      <td>7.404593e+09</td>\n",
              "      <td>1057.015833</td>\n",
              "      <td>80.000</td>\n",
              "      <td>2056.758446</td>\n",
              "      <td>4.230255e+06</td>\n",
              "      <td>0.500000</td>\n",
              "      <td>0.5</td>\n",
              "      <td>0.510754</td>\n",
              "      <td>0.260870</td>\n",
              "      <td>-0.103938</td>\n",
              "      <td>-0.119288</td>\n",
              "      <td>0.142329</td>\n",
              "      <td>0.020258</td>\n",
              "      <td>5.101894</td>\n",
              "      <td>5.138522</td>\n",
              "      <td>0.901239</td>\n",
              "      <td>0.812231</td>\n",
              "      <td>4.257791e+05</td>\n",
              "      <td>3.935707e+05</td>\n",
              "      <td>4.086737e+05</td>\n",
              "      <td>1.670142e+11</td>\n",
              "      <td>5.175596</td>\n",
              "      <td>5.207326</td>\n",
              "      <td>0.756398</td>\n",
              "      <td>0.572138</td>\n",
              "    </tr>\n",
              "  </tbody>\n",
              "</table>\n",
              "<p>216 rows × 56 columns</p>\n",
              "</div>"
            ],
            "text/plain": [
              "                      average_price         ... yield_log          \n",
              "                               mean median  ...       std       var\n",
              "region           year                       ...                    \n",
              "Albany           2015      1.538750  1.520  ...  0.786600  0.618740\n",
              "                 2016      1.533942  1.520  ...  0.833024  0.693930\n",
              "                 2017      1.637830  1.615  ...  0.741531  0.549868\n",
              "                 2018      1.435833  1.460  ...  0.728544  0.530777\n",
              "Atlanta          2015      1.380577  1.170  ...  0.839407  0.704604\n",
              "...                             ...    ...  ...       ...       ...\n",
              "West             2018      1.297083  1.245  ...  0.642508  0.412816\n",
              "WestTexNewMexico 2015      1.259320  0.920  ...  0.805124  0.648224\n",
              "                 2016      1.246635  1.115  ...  0.733916  0.538632\n",
              "                 2017      1.281538  1.150  ...  0.730108  0.533058\n",
              "                 2018      1.251250  1.240  ...  0.756398  0.572138\n",
              "\n",
              "[216 rows x 56 columns]"
            ]
          },
          "metadata": {
            "tags": []
          },
          "execution_count": 2171
        }
      ]
    },
    {
      "cell_type": "markdown",
      "metadata": {
        "id": "8P_rt-Km4l0A"
      },
      "source": [
        "####12. Medianas do volume total para cada região."
      ]
    },
    {
      "cell_type": "code",
      "metadata": {
        "colab": {
          "base_uri": "https://localhost:8080/",
          "height": 0
        },
        "id": "kGh7oQxzDnBp",
        "outputId": "5780f04f-9981-4777-a51e-2aa46480d766"
      },
      "source": [
        "df.groupby('region')['total_volume'].median().sort_values(ascending=False).plot.bar(figsize=(20,10))"
      ],
      "execution_count": 2172,
      "outputs": [
        {
          "output_type": "execute_result",
          "data": {
            "text/plain": [
              "<matplotlib.axes._subplots.AxesSubplot at 0x7f0f550829d0>"
            ]
          },
          "metadata": {
            "tags": []
          },
          "execution_count": 2172
        },
        {
          "output_type": "display_data",
          "data": {
            "image/png": "[encoded data removed]",
            "text/plain": [
              "<Figure size 1440x720 with 1 Axes>"
            ]
          },
          "metadata": {
            "tags": [],
            "needs_background": "light"
          }
        }
      ]
    },
    {
      "cell_type": "markdown",
      "metadata": {
        "id": "yS-AYNwq4ugA"
      },
      "source": [
        "####13. Médias do volume total para cada região."
      ]
    },
    {
      "cell_type": "code",
      "metadata": {
        "colab": {
          "base_uri": "https://localhost:8080/",
          "height": 0
        },
        "id": "wOILh2utHDFI",
        "outputId": "ced4dc24-19a9-4206-954f-86b854d653ca"
      },
      "source": [
        "df.groupby('region')['total_volume'].mean().sort_values(ascending=False).plot.bar(figsize=(20,10))"
      ],
      "execution_count": 2173,
      "outputs": [
        {
          "output_type": "execute_result",
          "data": {
            "text/plain": [
              "<matplotlib.axes._subplots.AxesSubplot at 0x7f0f54f1d750>"
            ]
          },
          "metadata": {
            "tags": []
          },
          "execution_count": 2173
        },
        {
          "output_type": "display_data",
          "data": {
            "image/png": "[encoded data removed]",
            "text/plain": [
              "<Figure size 1440x720 with 1 Axes>"
            ]
          },
          "metadata": {
            "tags": [],
            "needs_background": "light"
          }
        }
      ]
    },
    {
      "cell_type": "markdown",
      "metadata": {
        "id": "kVAkTa2e43X6"
      },
      "source": [
        "####14. Médias do volume total para cada ano."
      ]
    },
    {
      "cell_type": "code",
      "metadata": {
        "colab": {
          "base_uri": "https://localhost:8080/",
          "height": 0
        },
        "id": "7fDBa9YKG5lH",
        "outputId": "9726103e-ee40-403e-b0c3-a6ea2c8103de"
      },
      "source": [
        "df.groupby('year')['total_volume'].mean().sort_values(ascending=False).plot.bar(figsize=(10,5))"
      ],
      "execution_count": 2174,
      "outputs": [
        {
          "output_type": "execute_result",
          "data": {
            "text/plain": [
              "<matplotlib.axes._subplots.AxesSubplot at 0x7f0f54d8a310>"
            ]
          },
          "metadata": {
            "tags": []
          },
          "execution_count": 2174
        },
        {
          "output_type": "display_data",
          "data": {
            "image/png": "[encoded data removed]",
            "text/plain": [
              "<Figure size 720x360 with 1 Axes>"
            ]
          },
          "metadata": {
            "tags": [],
            "needs_background": "light"
          }
        }
      ]
    },
    {
      "cell_type": "markdown",
      "metadata": {
        "id": "9AaWYGTrGqRY"
      },
      "source": [
        "####15. Amplitude interquartílica\n",
        "\n",
        "\n"
      ]
    },
    {
      "cell_type": "code",
      "metadata": {
        "colab": {
          "base_uri": "https://localhost:8080/"
        },
        "id": "dNvg-AJ3GrSm",
        "outputId": "08074a9d-58cc-4795-c69c-41f7f8efcfa8"
      },
      "source": [
        "q1 = df['total_volume'].quantile(q=0.25)\n",
        "q3 = df['total_volume'].quantile(q=0.75)\n",
        "amp = q3 - q1\n",
        "lim_max_prod_est = q3 + (amp * 1.5)\n",
        "lim_min_prod_est = q1 - (amp * 1.5)\n",
        "print(q1, q3, lim_min_prod_est, lim_max_prod_est)"
      ],
      "execution_count": 2175,
      "outputs": [
        {
          "output_type": "stream",
          "text": [
            "10838.58 432962.29 -622346.985 1066147.855\n"
          ],
          "name": "stdout"
        }
      ]
    },
    {
      "cell_type": "markdown",
      "metadata": {
        "id": "OtFKQUTkH_fg"
      },
      "source": [
        "####16. Rendimento das vendas no país"
      ]
    },
    {
      "cell_type": "code",
      "metadata": {
        "colab": {
          "base_uri": "https://localhost:8080/",
          "height": 0
        },
        "id": "-U0gIRFgHfDA",
        "outputId": "b4145491-8aab-48a0-9ea2-b3acccdcc2c9"
      },
      "source": [
        "yield1 = (df['average_price'] * df['total_volume'])\n",
        "sns.boxplot(y = yield1)"
      ],
      "execution_count": 2176,
      "outputs": [
        {
          "output_type": "execute_result",
          "data": {
            "text/plain": [
              "<matplotlib.axes._subplots.AxesSubplot at 0x7f0f54d32f50>"
            ]
          },
          "metadata": {
            "tags": []
          },
          "execution_count": 2176
        },
        {
          "output_type": "display_data",
          "data": {
            "image/png": "[encoded data removed]",
            "text/plain": [
              "<Figure size 432x288 with 1 Axes>"
            ]
          },
          "metadata": {
            "tags": [],
            "needs_background": "light"
          }
        }
      ]
    },
    {
      "cell_type": "markdown",
      "metadata": {
        "id": "4ic1mrk_7hzV"
      },
      "source": [
        "##Estatísticas Bivariadas"
      ]
    },
    {
      "cell_type": "code",
      "metadata": {
        "colab": {
          "base_uri": "https://localhost:8080/",
          "height": 0
        },
        "id": "Hwo_r9247kcn",
        "outputId": "c40cc91b-4817-4a2e-e828-eae5e8c11c5a"
      },
      "source": [
        "df.cov()"
      ],
      "execution_count": 2177,
      "outputs": [
        {
          "output_type": "execute_result",
          "data": {
            "text/html": [
              "<div>\n",
              "<style scoped>\n",
              "    .dataframe tbody tr th:only-of-type {\n",
              "        vertical-align: middle;\n",
              "    }\n",
              "\n",
              "    .dataframe tbody tr th {\n",
              "        vertical-align: top;\n",
              "    }\n",
              "\n",
              "    .dataframe thead th {\n",
              "        text-align: right;\n",
              "    }\n",
              "</style>\n",
              "<table border=\"1\" class=\"dataframe\">\n",
              "  <thead>\n",
              "    <tr style=\"text-align: right;\">\n",
              "      <th></th>\n",
              "      <th>average_price</th>\n",
              "      <th>total_volume</th>\n",
              "      <th>4046</th>\n",
              "      <th>4225</th>\n",
              "      <th>4770</th>\n",
              "      <th>total_bags</th>\n",
              "      <th>small_bags</th>\n",
              "      <th>large_bags</th>\n",
              "      <th>xlarge_bags</th>\n",
              "      <th>type</th>\n",
              "      <th>total_volume_norm</th>\n",
              "      <th>total_volume_log</th>\n",
              "      <th>yield</th>\n",
              "      <th>yield_log</th>\n",
              "    </tr>\n",
              "  </thead>\n",
              "  <tbody>\n",
              "    <tr>\n",
              "      <th>average_price</th>\n",
              "      <td>0.162148</td>\n",
              "      <td>-2.680534e+05</td>\n",
              "      <td>-1.061128e+05</td>\n",
              "      <td>-8.384767e+04</td>\n",
              "      <td>-7.765213e+03</td>\n",
              "      <td>-7.032811e+04</td>\n",
              "      <td>-5.250081e+04</td>\n",
              "      <td>-1.698952e+04</td>\n",
              "      <td>-8.377831e+02</td>\n",
              "      <td>0.123997</td>\n",
              "      <td>-7.761899e-02</td>\n",
              "      <td>-2.340015e-01</td>\n",
              "      <td>-2.420286e+05</td>\n",
              "      <td>-1.842451e-01</td>\n",
              "    </tr>\n",
              "    <tr>\n",
              "      <th>total_volume</th>\n",
              "      <td>-268053.371641</td>\n",
              "      <td>1.192698e+13</td>\n",
              "      <td>4.271988e+12</td>\n",
              "      <td>4.051116e+12</td>\n",
              "      <td>3.237022e+11</td>\n",
              "      <td>3.280170e+12</td>\n",
              "      <td>2.492536e+12</td>\n",
              "      <td>7.419807e+11</td>\n",
              "      <td>4.565372e+10</td>\n",
              "      <td>-401372.405118</td>\n",
              "      <td>3.453640e+06</td>\n",
              "      <td>1.564045e+06</td>\n",
              "      <td>1.255057e+13</td>\n",
              "      <td>1.476756e+06</td>\n",
              "    </tr>\n",
              "    <tr>\n",
              "      <th>4046</th>\n",
              "      <td>-106112.839423</td>\n",
              "      <td>4.271988e+12</td>\n",
              "      <td>1.600197e+12</td>\n",
              "      <td>1.410650e+12</td>\n",
              "      <td>1.132916e+11</td>\n",
              "      <td>1.147850e+12</td>\n",
              "      <td>8.733788e+11</td>\n",
              "      <td>2.588178e+11</td>\n",
              "      <td>1.565299e+10</td>\n",
              "      <td>-142832.915111</td>\n",
              "      <td>1.237020e+06</td>\n",
              "      <td>5.556757e+05</td>\n",
              "      <td>4.465405e+12</td>\n",
              "      <td>5.201997e+05</td>\n",
              "    </tr>\n",
              "    <tr>\n",
              "      <th>4225</th>\n",
              "      <td>-83847.671587</td>\n",
              "      <td>4.051116e+12</td>\n",
              "      <td>1.410650e+12</td>\n",
              "      <td>1.449906e+12</td>\n",
              "      <td>1.148882e+11</td>\n",
              "      <td>1.075672e+12</td>\n",
              "      <td>8.230438e+11</td>\n",
              "      <td>2.379536e+11</td>\n",
              "      <td>1.467464e+10</td>\n",
              "      <td>-139856.025268</td>\n",
              "      <td>1.173063e+06</td>\n",
              "      <td>5.358940e+05</td>\n",
              "      <td>4.258458e+12</td>\n",
              "      <td>5.093187e+05</td>\n",
              "    </tr>\n",
              "    <tr>\n",
              "      <th>4770</th>\n",
              "      <td>-7765.212885</td>\n",
              "      <td>3.237022e+11</td>\n",
              "      <td>1.132916e+11</td>\n",
              "      <td>1.148882e+11</td>\n",
              "      <td>1.154853e+10</td>\n",
              "      <td>8.397392e+10</td>\n",
              "      <td>6.436905e+10</td>\n",
              "      <td>1.831222e+10</td>\n",
              "      <td>1.292654e+09</td>\n",
              "      <td>-11285.503667</td>\n",
              "      <td>9.373297e+04</td>\n",
              "      <td>4.222087e+04</td>\n",
              "      <td>3.299563e+11</td>\n",
              "      <td>3.968011e+04</td>\n",
              "    </tr>\n",
              "    <tr>\n",
              "      <th>total_bags</th>\n",
              "      <td>-70328.114110</td>\n",
              "      <td>3.280170e+12</td>\n",
              "      <td>1.147850e+12</td>\n",
              "      <td>1.075672e+12</td>\n",
              "      <td>8.397392e+10</td>\n",
              "      <td>9.726741e+11</td>\n",
              "      <td>7.317436e+11</td>\n",
              "      <td>2.268970e+11</td>\n",
              "      <td>1.403344e+10</td>\n",
              "      <td>-107399.001348</td>\n",
              "      <td>9.498239e+05</td>\n",
              "      <td>4.302533e+05</td>\n",
              "      <td>3.496749e+12</td>\n",
              "      <td>4.075559e+05</td>\n",
              "    </tr>\n",
              "    <tr>\n",
              "      <th>small_bags</th>\n",
              "      <td>-52500.812494</td>\n",
              "      <td>2.492536e+12</td>\n",
              "      <td>8.733788e+11</td>\n",
              "      <td>8.230438e+11</td>\n",
              "      <td>6.436905e+10</td>\n",
              "      <td>7.317436e+11</td>\n",
              "      <td>5.567824e+11</td>\n",
              "      <td>1.643092e+11</td>\n",
              "      <td>1.065201e+10</td>\n",
              "      <td>-82281.586939</td>\n",
              "      <td>7.217522e+05</td>\n",
              "      <td>3.280537e+05</td>\n",
              "      <td>2.657252e+12</td>\n",
              "      <td>3.111908e+05</td>\n",
              "    </tr>\n",
              "    <tr>\n",
              "      <th>large_bags</th>\n",
              "      <td>-16989.518346</td>\n",
              "      <td>7.419807e+11</td>\n",
              "      <td>2.588178e+11</td>\n",
              "      <td>2.379536e+11</td>\n",
              "      <td>1.831222e+10</td>\n",
              "      <td>2.268970e+11</td>\n",
              "      <td>1.643092e+11</td>\n",
              "      <td>5.951939e+10</td>\n",
              "      <td>3.068395e+09</td>\n",
              "      <td>-23564.969714</td>\n",
              "      <td>2.148520e+05</td>\n",
              "      <td>9.637447e+04</td>\n",
              "      <td>7.892481e+11</td>\n",
              "      <td>9.079965e+04</td>\n",
              "    </tr>\n",
              "    <tr>\n",
              "      <th>xlarge_bags</th>\n",
              "      <td>-837.783149</td>\n",
              "      <td>4.565372e+10</td>\n",
              "      <td>1.565299e+10</td>\n",
              "      <td>1.467464e+10</td>\n",
              "      <td>1.292654e+09</td>\n",
              "      <td>1.403344e+10</td>\n",
              "      <td>1.065201e+10</td>\n",
              "      <td>3.068395e+09</td>\n",
              "      <td>3.130385e+08</td>\n",
              "      <td>-1552.444503</td>\n",
              "      <td>1.321974e+04</td>\n",
              "      <td>5.825130e+03</td>\n",
              "      <td>5.024876e+10</td>\n",
              "      <td>5.565446e+03</td>\n",
              "    </tr>\n",
              "    <tr>\n",
              "      <th>type</th>\n",
              "      <td>0.123997</td>\n",
              "      <td>-4.013724e+05</td>\n",
              "      <td>-1.428329e+05</td>\n",
              "      <td>-1.398560e+05</td>\n",
              "      <td>-1.128550e+04</td>\n",
              "      <td>-1.073990e+05</td>\n",
              "      <td>-8.228159e+04</td>\n",
              "      <td>-2.356497e+04</td>\n",
              "      <td>-1.552445e+03</td>\n",
              "      <td>0.250014</td>\n",
              "      <td>-1.162236e-01</td>\n",
              "      <td>-3.966833e-01</td>\n",
              "      <td>-4.266257e+05</td>\n",
              "      <td>-3.578627e-01</td>\n",
              "    </tr>\n",
              "    <tr>\n",
              "      <th>total_volume_norm</th>\n",
              "      <td>-0.077619</td>\n",
              "      <td>3.453640e+06</td>\n",
              "      <td>1.237020e+06</td>\n",
              "      <td>1.173063e+06</td>\n",
              "      <td>9.373297e+04</td>\n",
              "      <td>9.498239e+05</td>\n",
              "      <td>7.217522e+05</td>\n",
              "      <td>2.148520e+05</td>\n",
              "      <td>1.321974e+04</td>\n",
              "      <td>-0.116224</td>\n",
              "      <td>1.000055e+00</td>\n",
              "      <td>4.528934e-01</td>\n",
              "      <td>3.634211e+06</td>\n",
              "      <td>4.276175e-01</td>\n",
              "    </tr>\n",
              "    <tr>\n",
              "      <th>total_volume_log</th>\n",
              "      <td>-0.234002</td>\n",
              "      <td>1.564045e+06</td>\n",
              "      <td>5.556757e+05</td>\n",
              "      <td>5.358940e+05</td>\n",
              "      <td>4.222087e+04</td>\n",
              "      <td>4.302533e+05</td>\n",
              "      <td>3.280537e+05</td>\n",
              "      <td>9.637447e+04</td>\n",
              "      <td>5.825130e+03</td>\n",
              "      <td>-0.396683</td>\n",
              "      <td>4.528934e-01</td>\n",
              "      <td>9.921535e-01</td>\n",
              "      <td>1.669908e+06</td>\n",
              "      <td>9.179484e-01</td>\n",
              "    </tr>\n",
              "    <tr>\n",
              "      <th>yield</th>\n",
              "      <td>-242028.593916</td>\n",
              "      <td>1.255057e+13</td>\n",
              "      <td>4.465405e+12</td>\n",
              "      <td>4.258458e+12</td>\n",
              "      <td>3.299563e+11</td>\n",
              "      <td>3.496749e+12</td>\n",
              "      <td>2.657252e+12</td>\n",
              "      <td>7.892481e+11</td>\n",
              "      <td>5.024876e+10</td>\n",
              "      <td>-426625.659794</td>\n",
              "      <td>3.634211e+06</td>\n",
              "      <td>1.669908e+06</td>\n",
              "      <td>1.358695e+13</td>\n",
              "      <td>1.593884e+06</td>\n",
              "    </tr>\n",
              "    <tr>\n",
              "      <th>yield_log</th>\n",
              "      <td>-0.184245</td>\n",
              "      <td>1.476756e+06</td>\n",
              "      <td>5.201997e+05</td>\n",
              "      <td>5.093187e+05</td>\n",
              "      <td>3.968011e+04</td>\n",
              "      <td>4.075559e+05</td>\n",
              "      <td>3.111908e+05</td>\n",
              "      <td>9.079965e+04</td>\n",
              "      <td>5.565446e+03</td>\n",
              "      <td>-0.357863</td>\n",
              "      <td>4.276175e-01</td>\n",
              "      <td>9.179484e-01</td>\n",
              "      <td>1.593884e+06</td>\n",
              "      <td>8.595712e-01</td>\n",
              "    </tr>\n",
              "  </tbody>\n",
              "</table>\n",
              "</div>"
            ],
            "text/plain": [
              "                   average_price  total_volume  ...         yield     yield_log\n",
              "average_price           0.162148 -2.680534e+05  ... -2.420286e+05 -1.842451e-01\n",
              "total_volume      -268053.371641  1.192698e+13  ...  1.255057e+13  1.476756e+06\n",
              "4046              -106112.839423  4.271988e+12  ...  4.465405e+12  5.201997e+05\n",
              "4225               -83847.671587  4.051116e+12  ...  4.258458e+12  5.093187e+05\n",
              "4770                -7765.212885  3.237022e+11  ...  3.299563e+11  3.968011e+04\n",
              "total_bags         -70328.114110  3.280170e+12  ...  3.496749e+12  4.075559e+05\n",
              "small_bags         -52500.812494  2.492536e+12  ...  2.657252e+12  3.111908e+05\n",
              "large_bags         -16989.518346  7.419807e+11  ...  7.892481e+11  9.079965e+04\n",
              "xlarge_bags          -837.783149  4.565372e+10  ...  5.024876e+10  5.565446e+03\n",
              "type                    0.123997 -4.013724e+05  ... -4.266257e+05 -3.578627e-01\n",
              "total_volume_norm      -0.077619  3.453640e+06  ...  3.634211e+06  4.276175e-01\n",
              "total_volume_log       -0.234002  1.564045e+06  ...  1.669908e+06  9.179484e-01\n",
              "yield             -242028.593916  1.255057e+13  ...  1.358695e+13  1.593884e+06\n",
              "yield_log              -0.184245  1.476756e+06  ...  1.593884e+06  8.595712e-01\n",
              "\n",
              "[14 rows x 14 columns]"
            ]
          },
          "metadata": {
            "tags": []
          },
          "execution_count": 2177
        }
      ]
    },
    {
      "cell_type": "code",
      "metadata": {
        "colab": {
          "base_uri": "https://localhost:8080/",
          "height": 0
        },
        "id": "ijTeAVRx8XUB",
        "outputId": "e165dc49-99fa-4326-bff1-41a3467dc5e7"
      },
      "source": [
        "df.plot.scatter(x='average_price', y='total_volume')"
      ],
      "execution_count": 2178,
      "outputs": [
        {
          "output_type": "execute_result",
          "data": {
            "text/plain": [
              "<matplotlib.axes._subplots.AxesSubplot at 0x7f0f54ca5790>"
            ]
          },
          "metadata": {
            "tags": []
          },
          "execution_count": 2178
        },
        {
          "output_type": "display_data",
          "data": {
            "image/png": "[encoded data removed]",
            "text/plain": [
              "<Figure size 432x288 with 1 Axes>"
            ]
          },
          "metadata": {
            "tags": [],
            "needs_background": "light"
          }
        }
      ]
    },
    {
      "cell_type": "code",
      "metadata": {
        "colab": {
          "base_uri": "https://localhost:8080/",
          "height": 0
        },
        "id": "88mfc66H9BNW",
        "outputId": "dab5fd51-b510-417e-cf37-727cd5378cf4"
      },
      "source": [
        "df.plot.scatter(x='total_volume', y='small_bags')"
      ],
      "execution_count": 2179,
      "outputs": [
        {
          "output_type": "execute_result",
          "data": {
            "text/plain": [
              "<matplotlib.axes._subplots.AxesSubplot at 0x7f0f54cb2410>"
            ]
          },
          "metadata": {
            "tags": []
          },
          "execution_count": 2179
        },
        {
          "output_type": "display_data",
          "data": {
            "image/png": "[encoded data removed]",
            "text/plain": [
              "<Figure size 432x288 with 1 Axes>"
            ]
          },
          "metadata": {
            "tags": [],
            "needs_background": "light"
          }
        }
      ]
    },
    {
      "cell_type": "code",
      "metadata": {
        "colab": {
          "base_uri": "https://localhost:8080/",
          "height": 0
        },
        "id": "r3XZu7hH9P_8",
        "outputId": "5a34a66a-5f28-42ea-da25-0e221894dbcf"
      },
      "source": [
        "df.plot.scatter(x='total_volume', y='xlarge_bags')"
      ],
      "execution_count": 2180,
      "outputs": [
        {
          "output_type": "execute_result",
          "data": {
            "text/plain": [
              "<matplotlib.axes._subplots.AxesSubplot at 0x7f0f54ca5a90>"
            ]
          },
          "metadata": {
            "tags": []
          },
          "execution_count": 2180
        },
        {
          "output_type": "display_data",
          "data": {
            "image/png": "[encoded data removed]",
            "text/plain": [
              "<Figure size 432x288 with 1 Axes>"
            ]
          },
          "metadata": {
            "tags": [],
            "needs_background": "light"
          }
        }
      ]
    },
    {
      "cell_type": "code",
      "metadata": {
        "colab": {
          "base_uri": "https://localhost:8080/",
          "height": 0
        },
        "id": "jMi-coye95Vf",
        "outputId": "d0018a25-a95e-4c4e-d173-bc8876a8706f"
      },
      "source": [
        "df.plot.scatter(x='small_bags', y='xlarge_bags')"
      ],
      "execution_count": 2181,
      "outputs": [
        {
          "output_type": "execute_result",
          "data": {
            "text/plain": [
              "<matplotlib.axes._subplots.AxesSubplot at 0x7f0f55d58710>"
            ]
          },
          "metadata": {
            "tags": []
          },
          "execution_count": 2181
        },
        {
          "output_type": "display_data",
          "data": {
            "image/png": "[encoded data removed]",
            "text/plain": [
              "<Figure size 432x288 with 1 Axes>"
            ]
          },
          "metadata": {
            "tags": [],
            "needs_background": "light"
          }
        }
      ]
    },
    {
      "cell_type": "code",
      "metadata": {
        "colab": {
          "base_uri": "https://localhost:8080/",
          "height": 0
        },
        "id": "_JYpf4uY9ejN",
        "outputId": "3e86ff77-56f8-4868-e723-abbd911d658a"
      },
      "source": [
        "df.corr(method='pearson')"
      ],
      "execution_count": 2182,
      "outputs": [
        {
          "output_type": "execute_result",
          "data": {
            "text/html": [
              "<div>\n",
              "<style scoped>\n",
              "    .dataframe tbody tr th:only-of-type {\n",
              "        vertical-align: middle;\n",
              "    }\n",
              "\n",
              "    .dataframe tbody tr th {\n",
              "        vertical-align: top;\n",
              "    }\n",
              "\n",
              "    .dataframe thead th {\n",
              "        text-align: right;\n",
              "    }\n",
              "</style>\n",
              "<table border=\"1\" class=\"dataframe\">\n",
              "  <thead>\n",
              "    <tr style=\"text-align: right;\">\n",
              "      <th></th>\n",
              "      <th>average_price</th>\n",
              "      <th>total_volume</th>\n",
              "      <th>4046</th>\n",
              "      <th>4225</th>\n",
              "      <th>4770</th>\n",
              "      <th>total_bags</th>\n",
              "      <th>small_bags</th>\n",
              "      <th>large_bags</th>\n",
              "      <th>xlarge_bags</th>\n",
              "      <th>type</th>\n",
              "      <th>total_volume_norm</th>\n",
              "      <th>total_volume_log</th>\n",
              "      <th>yield</th>\n",
              "      <th>yield_log</th>\n",
              "    </tr>\n",
              "  </thead>\n",
              "  <tbody>\n",
              "    <tr>\n",
              "      <th>average_price</th>\n",
              "      <td>1.000000</td>\n",
              "      <td>-0.192752</td>\n",
              "      <td>-0.208317</td>\n",
              "      <td>-0.172928</td>\n",
              "      <td>-0.179446</td>\n",
              "      <td>-0.177088</td>\n",
              "      <td>-0.174730</td>\n",
              "      <td>-0.172940</td>\n",
              "      <td>-0.117592</td>\n",
              "      <td>0.615845</td>\n",
              "      <td>-0.192752</td>\n",
              "      <td>-0.583409</td>\n",
              "      <td>-0.163061</td>\n",
              "      <td>-0.493513</td>\n",
              "    </tr>\n",
              "    <tr>\n",
              "      <th>total_volume</th>\n",
              "      <td>-0.192752</td>\n",
              "      <td>1.000000</td>\n",
              "      <td>0.977863</td>\n",
              "      <td>0.974181</td>\n",
              "      <td>0.872202</td>\n",
              "      <td>0.963047</td>\n",
              "      <td>0.967238</td>\n",
              "      <td>0.880640</td>\n",
              "      <td>0.747157</td>\n",
              "      <td>-0.232434</td>\n",
              "      <td>1.000000</td>\n",
              "      <td>0.454668</td>\n",
              "      <td>0.985910</td>\n",
              "      <td>0.461214</td>\n",
              "    </tr>\n",
              "    <tr>\n",
              "      <th>4046</th>\n",
              "      <td>-0.208317</td>\n",
              "      <td>0.977863</td>\n",
              "      <td>1.000000</td>\n",
              "      <td>0.926110</td>\n",
              "      <td>0.833389</td>\n",
              "      <td>0.920057</td>\n",
              "      <td>0.925280</td>\n",
              "      <td>0.838645</td>\n",
              "      <td>0.699377</td>\n",
              "      <td>-0.225819</td>\n",
              "      <td>0.977863</td>\n",
              "      <td>0.441007</td>\n",
              "      <td>0.957664</td>\n",
              "      <td>0.443550</td>\n",
              "    </tr>\n",
              "    <tr>\n",
              "      <th>4225</th>\n",
              "      <td>-0.172928</td>\n",
              "      <td>0.974181</td>\n",
              "      <td>0.926110</td>\n",
              "      <td>1.000000</td>\n",
              "      <td>0.887855</td>\n",
              "      <td>0.905787</td>\n",
              "      <td>0.916031</td>\n",
              "      <td>0.810015</td>\n",
              "      <td>0.688809</td>\n",
              "      <td>-0.232289</td>\n",
              "      <td>0.974181</td>\n",
              "      <td>0.446807</td>\n",
              "      <td>0.959448</td>\n",
              "      <td>0.456225</td>\n",
              "    </tr>\n",
              "    <tr>\n",
              "      <th>4770</th>\n",
              "      <td>-0.179446</td>\n",
              "      <td>0.872202</td>\n",
              "      <td>0.833389</td>\n",
              "      <td>0.887855</td>\n",
              "      <td>1.000000</td>\n",
              "      <td>0.792314</td>\n",
              "      <td>0.802733</td>\n",
              "      <td>0.698471</td>\n",
              "      <td>0.679861</td>\n",
              "      <td>-0.210027</td>\n",
              "      <td>0.872202</td>\n",
              "      <td>0.394434</td>\n",
              "      <td>0.832975</td>\n",
              "      <td>0.398262</td>\n",
              "    </tr>\n",
              "    <tr>\n",
              "      <th>total_bags</th>\n",
              "      <td>-0.177088</td>\n",
              "      <td>0.963047</td>\n",
              "      <td>0.920057</td>\n",
              "      <td>0.905787</td>\n",
              "      <td>0.792314</td>\n",
              "      <td>1.000000</td>\n",
              "      <td>0.994335</td>\n",
              "      <td>0.943009</td>\n",
              "      <td>0.804233</td>\n",
              "      <td>-0.217788</td>\n",
              "      <td>0.963047</td>\n",
              "      <td>0.437977</td>\n",
              "      <td>0.961877</td>\n",
              "      <td>0.445721</td>\n",
              "    </tr>\n",
              "    <tr>\n",
              "      <th>small_bags</th>\n",
              "      <td>-0.174730</td>\n",
              "      <td>0.967238</td>\n",
              "      <td>0.925280</td>\n",
              "      <td>0.916031</td>\n",
              "      <td>0.802733</td>\n",
              "      <td>0.994335</td>\n",
              "      <td>1.000000</td>\n",
              "      <td>0.902589</td>\n",
              "      <td>0.806845</td>\n",
              "      <td>-0.220535</td>\n",
              "      <td>0.967238</td>\n",
              "      <td>0.441380</td>\n",
              "      <td>0.966115</td>\n",
              "      <td>0.449825</td>\n",
              "    </tr>\n",
              "    <tr>\n",
              "      <th>large_bags</th>\n",
              "      <td>-0.172940</td>\n",
              "      <td>0.880640</td>\n",
              "      <td>0.838645</td>\n",
              "      <td>0.810015</td>\n",
              "      <td>0.698471</td>\n",
              "      <td>0.943009</td>\n",
              "      <td>0.902589</td>\n",
              "      <td>1.000000</td>\n",
              "      <td>0.710858</td>\n",
              "      <td>-0.193177</td>\n",
              "      <td>0.880640</td>\n",
              "      <td>0.396591</td>\n",
              "      <td>0.877654</td>\n",
              "      <td>0.401434</td>\n",
              "    </tr>\n",
              "    <tr>\n",
              "      <th>xlarge_bags</th>\n",
              "      <td>-0.117592</td>\n",
              "      <td>0.747157</td>\n",
              "      <td>0.699377</td>\n",
              "      <td>0.688809</td>\n",
              "      <td>0.679861</td>\n",
              "      <td>0.804233</td>\n",
              "      <td>0.806845</td>\n",
              "      <td>0.710858</td>\n",
              "      <td>1.000000</td>\n",
              "      <td>-0.175483</td>\n",
              "      <td>0.747157</td>\n",
              "      <td>0.330535</td>\n",
              "      <td>0.770487</td>\n",
              "      <td>0.339281</td>\n",
              "    </tr>\n",
              "    <tr>\n",
              "      <th>type</th>\n",
              "      <td>0.615845</td>\n",
              "      <td>-0.232434</td>\n",
              "      <td>-0.225819</td>\n",
              "      <td>-0.232289</td>\n",
              "      <td>-0.210027</td>\n",
              "      <td>-0.217788</td>\n",
              "      <td>-0.220535</td>\n",
              "      <td>-0.193177</td>\n",
              "      <td>-0.175483</td>\n",
              "      <td>1.000000</td>\n",
              "      <td>-0.232434</td>\n",
              "      <td>-0.796476</td>\n",
              "      <td>-0.231475</td>\n",
              "      <td>-0.771958</td>\n",
              "    </tr>\n",
              "    <tr>\n",
              "      <th>total_volume_norm</th>\n",
              "      <td>-0.192752</td>\n",
              "      <td>1.000000</td>\n",
              "      <td>0.977863</td>\n",
              "      <td>0.974181</td>\n",
              "      <td>0.872202</td>\n",
              "      <td>0.963047</td>\n",
              "      <td>0.967238</td>\n",
              "      <td>0.880640</td>\n",
              "      <td>0.747157</td>\n",
              "      <td>-0.232434</td>\n",
              "      <td>1.000000</td>\n",
              "      <td>0.454668</td>\n",
              "      <td>0.985910</td>\n",
              "      <td>0.461214</td>\n",
              "    </tr>\n",
              "    <tr>\n",
              "      <th>total_volume_log</th>\n",
              "      <td>-0.583409</td>\n",
              "      <td>0.454668</td>\n",
              "      <td>0.441007</td>\n",
              "      <td>0.446807</td>\n",
              "      <td>0.394434</td>\n",
              "      <td>0.437977</td>\n",
              "      <td>0.441380</td>\n",
              "      <td>0.396591</td>\n",
              "      <td>0.330535</td>\n",
              "      <td>-0.796476</td>\n",
              "      <td>0.454668</td>\n",
              "      <td>1.000000</td>\n",
              "      <td>0.454822</td>\n",
              "      <td>0.994003</td>\n",
              "    </tr>\n",
              "    <tr>\n",
              "      <th>yield</th>\n",
              "      <td>-0.163061</td>\n",
              "      <td>0.985910</td>\n",
              "      <td>0.957664</td>\n",
              "      <td>0.959448</td>\n",
              "      <td>0.832975</td>\n",
              "      <td>0.961877</td>\n",
              "      <td>0.966115</td>\n",
              "      <td>0.877654</td>\n",
              "      <td>0.770487</td>\n",
              "      <td>-0.231475</td>\n",
              "      <td>0.985910</td>\n",
              "      <td>0.454822</td>\n",
              "      <td>1.000000</td>\n",
              "      <td>0.466396</td>\n",
              "    </tr>\n",
              "    <tr>\n",
              "      <th>yield_log</th>\n",
              "      <td>-0.493513</td>\n",
              "      <td>0.461214</td>\n",
              "      <td>0.443550</td>\n",
              "      <td>0.456225</td>\n",
              "      <td>0.398262</td>\n",
              "      <td>0.445721</td>\n",
              "      <td>0.449825</td>\n",
              "      <td>0.401434</td>\n",
              "      <td>0.339281</td>\n",
              "      <td>-0.771958</td>\n",
              "      <td>0.461214</td>\n",
              "      <td>0.994003</td>\n",
              "      <td>0.466396</td>\n",
              "      <td>1.000000</td>\n",
              "    </tr>\n",
              "  </tbody>\n",
              "</table>\n",
              "</div>"
            ],
            "text/plain": [
              "                   average_price  total_volume  ...     yield  yield_log\n",
              "average_price           1.000000     -0.192752  ... -0.163061  -0.493513\n",
              "total_volume           -0.192752      1.000000  ...  0.985910   0.461214\n",
              "4046                   -0.208317      0.977863  ...  0.957664   0.443550\n",
              "4225                   -0.172928      0.974181  ...  0.959448   0.456225\n",
              "4770                   -0.179446      0.872202  ...  0.832975   0.398262\n",
              "total_bags             -0.177088      0.963047  ...  0.961877   0.445721\n",
              "small_bags             -0.174730      0.967238  ...  0.966115   0.449825\n",
              "large_bags             -0.172940      0.880640  ...  0.877654   0.401434\n",
              "xlarge_bags            -0.117592      0.747157  ...  0.770487   0.339281\n",
              "type                    0.615845     -0.232434  ... -0.231475  -0.771958\n",
              "total_volume_norm      -0.192752      1.000000  ...  0.985910   0.461214\n",
              "total_volume_log       -0.583409      0.454668  ...  0.454822   0.994003\n",
              "yield                  -0.163061      0.985910  ...  1.000000   0.466396\n",
              "yield_log              -0.493513      0.461214  ...  0.466396   1.000000\n",
              "\n",
              "[14 rows x 14 columns]"
            ]
          },
          "metadata": {
            "tags": []
          },
          "execution_count": 2182
        }
      ]
    },
    {
      "cell_type": "code",
      "metadata": {
        "colab": {
          "base_uri": "https://localhost:8080/",
          "height": 0
        },
        "id": "i2a0MZx89l1S",
        "outputId": "ec7acfb4-9c0c-4cd1-918a-a1a70d5ad326"
      },
      "source": [
        "df.corr(method='spearman')"
      ],
      "execution_count": 2183,
      "outputs": [
        {
          "output_type": "execute_result",
          "data": {
            "text/html": [
              "<div>\n",
              "<style scoped>\n",
              "    .dataframe tbody tr th:only-of-type {\n",
              "        vertical-align: middle;\n",
              "    }\n",
              "\n",
              "    .dataframe tbody tr th {\n",
              "        vertical-align: top;\n",
              "    }\n",
              "\n",
              "    .dataframe thead th {\n",
              "        text-align: right;\n",
              "    }\n",
              "</style>\n",
              "<table border=\"1\" class=\"dataframe\">\n",
              "  <thead>\n",
              "    <tr style=\"text-align: right;\">\n",
              "      <th></th>\n",
              "      <th>average_price</th>\n",
              "      <th>total_volume</th>\n",
              "      <th>4046</th>\n",
              "      <th>4225</th>\n",
              "      <th>4770</th>\n",
              "      <th>total_bags</th>\n",
              "      <th>small_bags</th>\n",
              "      <th>large_bags</th>\n",
              "      <th>xlarge_bags</th>\n",
              "      <th>type</th>\n",
              "      <th>total_volume_norm</th>\n",
              "      <th>total_volume_log</th>\n",
              "      <th>yield</th>\n",
              "      <th>yield_log</th>\n",
              "    </tr>\n",
              "  </thead>\n",
              "  <tbody>\n",
              "    <tr>\n",
              "      <th>average_price</th>\n",
              "      <td>1.000000</td>\n",
              "      <td>-0.612239</td>\n",
              "      <td>-0.596170</td>\n",
              "      <td>-0.513732</td>\n",
              "      <td>-0.532825</td>\n",
              "      <td>-0.596972</td>\n",
              "      <td>-0.536403</td>\n",
              "      <td>-0.511142</td>\n",
              "      <td>-0.427207</td>\n",
              "      <td>0.643803</td>\n",
              "      <td>-0.612239</td>\n",
              "      <td>-0.612239</td>\n",
              "      <td>-0.524806</td>\n",
              "      <td>-0.524806</td>\n",
              "    </tr>\n",
              "    <tr>\n",
              "      <th>total_volume</th>\n",
              "      <td>-0.612239</td>\n",
              "      <td>1.000000</td>\n",
              "      <td>0.902887</td>\n",
              "      <td>0.940025</td>\n",
              "      <td>0.828223</td>\n",
              "      <td>0.952550</td>\n",
              "      <td>0.925874</td>\n",
              "      <td>0.702067</td>\n",
              "      <td>0.659949</td>\n",
              "      <td>-0.808466</td>\n",
              "      <td>1.000000</td>\n",
              "      <td>1.000000</td>\n",
              "      <td>0.993324</td>\n",
              "      <td>0.993324</td>\n",
              "    </tr>\n",
              "    <tr>\n",
              "      <th>4046</th>\n",
              "      <td>-0.596170</td>\n",
              "      <td>0.902887</td>\n",
              "      <td>1.000000</td>\n",
              "      <td>0.793939</td>\n",
              "      <td>0.754838</td>\n",
              "      <td>0.837121</td>\n",
              "      <td>0.822036</td>\n",
              "      <td>0.638535</td>\n",
              "      <td>0.615535</td>\n",
              "      <td>-0.747638</td>\n",
              "      <td>0.902887</td>\n",
              "      <td>0.902887</td>\n",
              "      <td>0.891835</td>\n",
              "      <td>0.891835</td>\n",
              "    </tr>\n",
              "    <tr>\n",
              "      <th>4225</th>\n",
              "      <td>-0.513732</td>\n",
              "      <td>0.940025</td>\n",
              "      <td>0.793939</td>\n",
              "      <td>1.000000</td>\n",
              "      <td>0.819905</td>\n",
              "      <td>0.856946</td>\n",
              "      <td>0.833764</td>\n",
              "      <td>0.635465</td>\n",
              "      <td>0.628893</td>\n",
              "      <td>-0.780646</td>\n",
              "      <td>0.940025</td>\n",
              "      <td>0.940025</td>\n",
              "      <td>0.944082</td>\n",
              "      <td>0.944082</td>\n",
              "    </tr>\n",
              "    <tr>\n",
              "      <th>4770</th>\n",
              "      <td>-0.532825</td>\n",
              "      <td>0.828223</td>\n",
              "      <td>0.754838</td>\n",
              "      <td>0.819905</td>\n",
              "      <td>1.000000</td>\n",
              "      <td>0.779323</td>\n",
              "      <td>0.780185</td>\n",
              "      <td>0.571869</td>\n",
              "      <td>0.652807</td>\n",
              "      <td>-0.778786</td>\n",
              "      <td>0.828223</td>\n",
              "      <td>0.828223</td>\n",
              "      <td>0.820721</td>\n",
              "      <td>0.820721</td>\n",
              "    </tr>\n",
              "    <tr>\n",
              "      <th>total_bags</th>\n",
              "      <td>-0.596972</td>\n",
              "      <td>0.952550</td>\n",
              "      <td>0.837121</td>\n",
              "      <td>0.856946</td>\n",
              "      <td>0.779323</td>\n",
              "      <td>1.000000</td>\n",
              "      <td>0.961018</td>\n",
              "      <td>0.753044</td>\n",
              "      <td>0.652582</td>\n",
              "      <td>-0.754680</td>\n",
              "      <td>0.952550</td>\n",
              "      <td>0.952550</td>\n",
              "      <td>0.945898</td>\n",
              "      <td>0.945898</td>\n",
              "    </tr>\n",
              "    <tr>\n",
              "      <th>small_bags</th>\n",
              "      <td>-0.536403</td>\n",
              "      <td>0.925874</td>\n",
              "      <td>0.822036</td>\n",
              "      <td>0.833764</td>\n",
              "      <td>0.780185</td>\n",
              "      <td>0.961018</td>\n",
              "      <td>1.000000</td>\n",
              "      <td>0.603582</td>\n",
              "      <td>0.641796</td>\n",
              "      <td>-0.755760</td>\n",
              "      <td>0.925874</td>\n",
              "      <td>0.925874</td>\n",
              "      <td>0.926569</td>\n",
              "      <td>0.926569</td>\n",
              "    </tr>\n",
              "    <tr>\n",
              "      <th>large_bags</th>\n",
              "      <td>-0.511142</td>\n",
              "      <td>0.702067</td>\n",
              "      <td>0.638535</td>\n",
              "      <td>0.635465</td>\n",
              "      <td>0.571869</td>\n",
              "      <td>0.753044</td>\n",
              "      <td>0.603582</td>\n",
              "      <td>1.000000</td>\n",
              "      <td>0.500590</td>\n",
              "      <td>-0.525241</td>\n",
              "      <td>0.702067</td>\n",
              "      <td>0.702067</td>\n",
              "      <td>0.685591</td>\n",
              "      <td>0.685591</td>\n",
              "    </tr>\n",
              "    <tr>\n",
              "      <th>xlarge_bags</th>\n",
              "      <td>-0.427207</td>\n",
              "      <td>0.659949</td>\n",
              "      <td>0.615535</td>\n",
              "      <td>0.628893</td>\n",
              "      <td>0.652807</td>\n",
              "      <td>0.652582</td>\n",
              "      <td>0.641796</td>\n",
              "      <td>0.500590</td>\n",
              "      <td>1.000000</td>\n",
              "      <td>-0.672069</td>\n",
              "      <td>0.659949</td>\n",
              "      <td>0.659949</td>\n",
              "      <td>0.653948</td>\n",
              "      <td>0.653948</td>\n",
              "    </tr>\n",
              "    <tr>\n",
              "      <th>type</th>\n",
              "      <td>0.643803</td>\n",
              "      <td>-0.808466</td>\n",
              "      <td>-0.747638</td>\n",
              "      <td>-0.780646</td>\n",
              "      <td>-0.778786</td>\n",
              "      <td>-0.754680</td>\n",
              "      <td>-0.755760</td>\n",
              "      <td>-0.525241</td>\n",
              "      <td>-0.672069</td>\n",
              "      <td>1.000000</td>\n",
              "      <td>-0.808466</td>\n",
              "      <td>-0.808466</td>\n",
              "      <td>-0.788077</td>\n",
              "      <td>-0.788077</td>\n",
              "    </tr>\n",
              "    <tr>\n",
              "      <th>total_volume_norm</th>\n",
              "      <td>-0.612239</td>\n",
              "      <td>1.000000</td>\n",
              "      <td>0.902887</td>\n",
              "      <td>0.940025</td>\n",
              "      <td>0.828223</td>\n",
              "      <td>0.952550</td>\n",
              "      <td>0.925874</td>\n",
              "      <td>0.702067</td>\n",
              "      <td>0.659949</td>\n",
              "      <td>-0.808466</td>\n",
              "      <td>1.000000</td>\n",
              "      <td>1.000000</td>\n",
              "      <td>0.993324</td>\n",
              "      <td>0.993324</td>\n",
              "    </tr>\n",
              "    <tr>\n",
              "      <th>total_volume_log</th>\n",
              "      <td>-0.612239</td>\n",
              "      <td>1.000000</td>\n",
              "      <td>0.902887</td>\n",
              "      <td>0.940025</td>\n",
              "      <td>0.828223</td>\n",
              "      <td>0.952550</td>\n",
              "      <td>0.925874</td>\n",
              "      <td>0.702067</td>\n",
              "      <td>0.659949</td>\n",
              "      <td>-0.808466</td>\n",
              "      <td>1.000000</td>\n",
              "      <td>1.000000</td>\n",
              "      <td>0.993324</td>\n",
              "      <td>0.993324</td>\n",
              "    </tr>\n",
              "    <tr>\n",
              "      <th>yield</th>\n",
              "      <td>-0.524806</td>\n",
              "      <td>0.993324</td>\n",
              "      <td>0.891835</td>\n",
              "      <td>0.944082</td>\n",
              "      <td>0.820721</td>\n",
              "      <td>0.945898</td>\n",
              "      <td>0.926569</td>\n",
              "      <td>0.685591</td>\n",
              "      <td>0.653948</td>\n",
              "      <td>-0.788077</td>\n",
              "      <td>0.993324</td>\n",
              "      <td>0.993324</td>\n",
              "      <td>1.000000</td>\n",
              "      <td>1.000000</td>\n",
              "    </tr>\n",
              "    <tr>\n",
              "      <th>yield_log</th>\n",
              "      <td>-0.524806</td>\n",
              "      <td>0.993324</td>\n",
              "      <td>0.891835</td>\n",
              "      <td>0.944082</td>\n",
              "      <td>0.820721</td>\n",
              "      <td>0.945898</td>\n",
              "      <td>0.926569</td>\n",
              "      <td>0.685591</td>\n",
              "      <td>0.653948</td>\n",
              "      <td>-0.788077</td>\n",
              "      <td>0.993324</td>\n",
              "      <td>0.993324</td>\n",
              "      <td>1.000000</td>\n",
              "      <td>1.000000</td>\n",
              "    </tr>\n",
              "  </tbody>\n",
              "</table>\n",
              "</div>"
            ],
            "text/plain": [
              "                   average_price  total_volume  ...     yield  yield_log\n",
              "average_price           1.000000     -0.612239  ... -0.524806  -0.524806\n",
              "total_volume           -0.612239      1.000000  ...  0.993324   0.993324\n",
              "4046                   -0.596170      0.902887  ...  0.891835   0.891835\n",
              "4225                   -0.513732      0.940025  ...  0.944082   0.944082\n",
              "4770                   -0.532825      0.828223  ...  0.820721   0.820721\n",
              "total_bags             -0.596972      0.952550  ...  0.945898   0.945898\n",
              "small_bags             -0.536403      0.925874  ...  0.926569   0.926569\n",
              "large_bags             -0.511142      0.702067  ...  0.685591   0.685591\n",
              "xlarge_bags            -0.427207      0.659949  ...  0.653948   0.653948\n",
              "type                    0.643803     -0.808466  ... -0.788077  -0.788077\n",
              "total_volume_norm      -0.612239      1.000000  ...  0.993324   0.993324\n",
              "total_volume_log       -0.612239      1.000000  ...  0.993324   0.993324\n",
              "yield                  -0.524806      0.993324  ...  1.000000   1.000000\n",
              "yield_log              -0.524806      0.993324  ...  1.000000   1.000000\n",
              "\n",
              "[14 rows x 14 columns]"
            ]
          },
          "metadata": {
            "tags": []
          },
          "execution_count": 2183
        }
      ]
    },
    {
      "cell_type": "code",
      "metadata": {
        "colab": {
          "base_uri": "https://localhost:8080/",
          "height": 0
        },
        "id": "My-RU_PA9xXB",
        "outputId": "d7e4e1ed-e4ed-4ba0-e163-0d4eca179c1d"
      },
      "source": [
        "df.plot.scatter(x='year', y='total_volume')"
      ],
      "execution_count": 2184,
      "outputs": [
        {
          "output_type": "execute_result",
          "data": {
            "text/plain": [
              "<matplotlib.axes._subplots.AxesSubplot at 0x7f0f5493bad0>"
            ]
          },
          "metadata": {
            "tags": []
          },
          "execution_count": 2184
        },
        {
          "output_type": "display_data",
          "data": {
            "image/png": "[encoded data removed]",
            "text/plain": [
              "<Figure size 432x288 with 1 Axes>"
            ]
          },
          "metadata": {
            "tags": [],
            "needs_background": "light"
          }
        }
      ]
    },
    {
      "cell_type": "markdown",
      "metadata": {
        "id": "iYQv-djt0AFE"
      },
      "source": [
        "##Tentativas de gráficos legais"
      ]
    },
    {
      "cell_type": "code",
      "metadata": {
        "colab": {
          "base_uri": "https://localhost:8080/",
          "height": 286
        },
        "id": "cztaHn_s0C_8",
        "outputId": "9c17320a-defa-4a70-af02-9175a1369c3f"
      },
      "source": [
        "# poucas amostras de 2018 comparado aos outros\n",
        "df['year'].hist()"
      ],
      "execution_count": 2185,
      "outputs": [
        {
          "output_type": "execute_result",
          "data": {
            "text/plain": [
              "<matplotlib.axes._subplots.AxesSubplot at 0x7f0f54852850>"
            ]
          },
          "metadata": {
            "tags": []
          },
          "execution_count": 2185
        },
        {
          "output_type": "display_data",
          "data": {
            "image/png": "[encoded data removed]",
            "text/plain": [
              "<Figure size 432x288 with 1 Axes>"
            ]
          },
          "metadata": {
            "tags": [],
            "needs_background": "light"
          }
        }
      ]
    },
    {
      "cell_type": "code",
      "metadata": {
        "colab": {
          "base_uri": "https://localhost:8080/",
          "height": 353
        },
        "id": "ILPWZP3YBnPP",
        "outputId": "1c5e381a-7b93-4f03-8392-fdf466a49f89"
      },
      "source": [
        "# comparação impossível\n",
        "X = np.arange(10)\n",
        "fig = plt.figure()\n",
        "ax = fig.add_axes([0,0,1,1])\n",
        "ax.bar(X + 0.00, df['4046'][0:10], color = 'b', width = 0.25)\n",
        "ax.bar(X + 0.25, df['4225'][0:10], color = 'g', width = 0.25)\n",
        "ax.bar(X + 0.50, df['4770'][0:10], color = 'r', width = 0.25)"
      ],
      "execution_count": 2186,
      "outputs": [
        {
          "output_type": "execute_result",
          "data": {
            "text/plain": [
              "<BarContainer object of 10 artists>"
            ]
          },
          "metadata": {
            "tags": []
          },
          "execution_count": 2186
        },
        {
          "output_type": "display_data",
          "data": {
            "image/png": "[encoded data removed]",
            "text/plain": [
              "<Figure size 432x288 with 1 Axes>"
            ]
          },
          "metadata": {
            "tags": [],
            "needs_background": "light"
          }
        }
      ]
    },
    {
      "cell_type": "code",
      "metadata": {
        "colab": {
          "base_uri": "https://localhost:8080/",
          "height": 353
        },
        "id": "O6BdIZByBqpP",
        "outputId": "5e557e31-9fc5-4b75-b86c-125aa04ef32b"
      },
      "source": [
        "# comparando os valores iniciais de venda de cada PLU e concluindo que os valores da PLU 4225\n",
        "X = np.arange(10)\n",
        "fig = plt.figure()\n",
        "ax = fig.add_axes([0,0,1,1])\n",
        "ax.bar(X + 0.00, df['4046'][0:10].apply(np.log10), color = 'b', width = 0.25)\n",
        "ax.bar(X + 0.25, df['4225'][0:10].apply(np.log10), color = 'g', width = 0.25)\n",
        "ax.bar(X + 0.50, df['4770'][0:10].apply(np.log10), color = 'r', width = 0.25)"
      ],
      "execution_count": 2187,
      "outputs": [
        {
          "output_type": "execute_result",
          "data": {
            "text/plain": [
              "<BarContainer object of 10 artists>"
            ]
          },
          "metadata": {
            "tags": []
          },
          "execution_count": 2187
        },
        {
          "output_type": "display_data",
          "data": {
            "image/png": "[encoded data removed]",
            "text/plain": [
              "<Figure size 432x288 with 1 Axes>"
            ]
          },
          "metadata": {
            "tags": [],
            "needs_background": "light"
          }
        }
      ]
    },
    {
      "cell_type": "code",
      "metadata": {
        "colab": {
          "base_uri": "https://localhost:8080/",
          "height": 290
        },
        "id": "hPFclp-VEKOe",
        "outputId": "28d17cc4-d763-40b1-8395-6725df7ed6b6"
      },
      "source": [
        "sns.set_style(\"darkgrid\")\n",
        "ax = sns.scatterplot(x=\"4225\", y=\"total_volume\", data=df)"
      ],
      "execution_count": 2188,
      "outputs": [
        {
          "output_type": "display_data",
          "data": {
            "image/png": "[encoded data removed]",
            "text/plain": [
              "<Figure size 432x288 with 1 Axes>"
            ]
          },
          "metadata": {
            "tags": []
          }
        }
      ]
    },
    {
      "cell_type": "code",
      "metadata": {
        "colab": {
          "base_uri": "https://localhost:8080/",
          "height": 481
        },
        "id": "16M1GQbtEy1J",
        "outputId": "214cfb04-20b2-4d00-940a-a25df398139b"
      },
      "source": [
        "fig, (ax1, ax2) = plt.subplots(1, 2, figsize=(16, 6))\n",
        "\n",
        "sns.heatmap(np.round(df.corr(method='pearson'), 2), annot=True, ax=ax1, annot_kws={\"fontsize\": 8})\n",
        "sns.heatmap(np.round(df.corr(method='spearman'), 2), annot=True, ax=ax2, annot_kws={\"fontsize\": 8})\n",
        "\n",
        "ax1.set_title(\"Correlação de Pearson\".upper(), loc=\"left\", fontsize=16)\n",
        "ax2.set_title(\"Correlação de Spearman\".upper(), loc=\"left\", fontsize=16);"
      ],
      "execution_count": 2189,
      "outputs": [
        {
          "output_type": "display_data",
          "data": {
            "image/png": "[encoded data removed]",
            "text/plain": [
              "<Figure size 1152x432 with 4 Axes>"
            ]
          },
          "metadata": {
            "tags": []
          }
        }
      ]
    },
    {
      "cell_type": "code",
      "metadata": {
        "colab": {
          "base_uri": "https://localhost:8080/",
          "height": 308
        },
        "id": "kt2zhTdeFq6o",
        "outputId": "2bfac510-1c85-4875-fa29-fe021f3f978d"
      },
      "source": [
        "sns.regplot(y='total_volume', x='average_price', data=df)"
      ],
      "execution_count": 2190,
      "outputs": [
        {
          "output_type": "execute_result",
          "data": {
            "text/plain": [
              "<matplotlib.axes._subplots.AxesSubplot at 0x7f0f54a51f50>"
            ]
          },
          "metadata": {
            "tags": []
          },
          "execution_count": 2190
        },
        {
          "output_type": "display_data",
          "data": {
            "image/png": "[encoded data removed]",
            "text/plain": [
              "<Figure size 432x288 with 1 Axes>"
            ]
          },
          "metadata": {
            "tags": []
          }
        }
      ]
    },
    {
      "cell_type": "code",
      "metadata": {
        "colab": {
          "base_uri": "https://localhost:8080/",
          "height": 284
        },
        "id": "jjwf9oM6GDwt",
        "outputId": "7aa41859-cb3d-4b65-f3c9-1ce011531785"
      },
      "source": [
        "plt.hist(df[\"average_price\"])\n",
        "\n",
        "plt.axvline()"
      ],
      "execution_count": 2191,
      "outputs": [
        {
          "output_type": "execute_result",
          "data": {
            "text/plain": [
              "<matplotlib.lines.Line2D at 0x7f0f54a89ed0>"
            ]
          },
          "metadata": {
            "tags": []
          },
          "execution_count": 2191
        },
        {
          "output_type": "display_data",
          "data": {
            "image/png": "[encoded data removed]",
            "text/plain": [
              "<Figure size 432x288 with 1 Axes>"
            ]
          },
          "metadata": {
            "tags": []
          }
        }
      ]
    },
    {
      "cell_type": "markdown",
      "metadata": {
        "id": "2nliMoNTB6-9"
      },
      "source": [
        "##Testes de Hipótese\n",
        "1. A venda de avocados foi melhor no verão do que no outono no ano de 2016.\n",
        "2. O preço médio de avocados diminuiu de 2016 para 2017."
      ]
    },
    {
      "cell_type": "code",
      "metadata": {
        "colab": {
          "base_uri": "https://localhost:8080/",
          "height": 299
        },
        "id": "qEzG7FpVB9U4",
        "outputId": "37f812cd-d98c-4210-d522-56b047ff4311"
      },
      "source": [
        "df.head()"
      ],
      "execution_count": 2192,
      "outputs": [
        {
          "output_type": "execute_result",
          "data": {
            "text/html": [
              "<div>\n",
              "<style scoped>\n",
              "    .dataframe tbody tr th:only-of-type {\n",
              "        vertical-align: middle;\n",
              "    }\n",
              "\n",
              "    .dataframe tbody tr th {\n",
              "        vertical-align: top;\n",
              "    }\n",
              "\n",
              "    .dataframe thead th {\n",
              "        text-align: right;\n",
              "    }\n",
              "</style>\n",
              "<table border=\"1\" class=\"dataframe\">\n",
              "  <thead>\n",
              "    <tr style=\"text-align: right;\">\n",
              "      <th></th>\n",
              "      <th>date</th>\n",
              "      <th>average_price</th>\n",
              "      <th>total_volume</th>\n",
              "      <th>4046</th>\n",
              "      <th>4225</th>\n",
              "      <th>4770</th>\n",
              "      <th>total_bags</th>\n",
              "      <th>small_bags</th>\n",
              "      <th>large_bags</th>\n",
              "      <th>xlarge_bags</th>\n",
              "      <th>type</th>\n",
              "      <th>year</th>\n",
              "      <th>region</th>\n",
              "      <th>total_volume_norm</th>\n",
              "      <th>average_price_dist</th>\n",
              "      <th>total_volume_log</th>\n",
              "      <th>yield</th>\n",
              "      <th>yield_log</th>\n",
              "    </tr>\n",
              "  </thead>\n",
              "  <tbody>\n",
              "    <tr>\n",
              "      <th>0</th>\n",
              "      <td>2015-12-27</td>\n",
              "      <td>1.33</td>\n",
              "      <td>64236.62</td>\n",
              "      <td>1036.74</td>\n",
              "      <td>54454.85</td>\n",
              "      <td>48.16</td>\n",
              "      <td>8696.87</td>\n",
              "      <td>8603.62</td>\n",
              "      <td>93.25</td>\n",
              "      <td>0.0</td>\n",
              "      <td>0</td>\n",
              "      <td>2015</td>\n",
              "      <td>Albany</td>\n",
              "      <td>-0.227716</td>\n",
              "      <td>(1.283, 1.564]</td>\n",
              "      <td>4.807783</td>\n",
              "      <td>85434.7046</td>\n",
              "      <td>4.931634</td>\n",
              "    </tr>\n",
              "    <tr>\n",
              "      <th>1</th>\n",
              "      <td>2015-12-20</td>\n",
              "      <td>1.35</td>\n",
              "      <td>54876.98</td>\n",
              "      <td>674.28</td>\n",
              "      <td>44638.81</td>\n",
              "      <td>58.33</td>\n",
              "      <td>9505.56</td>\n",
              "      <td>9408.07</td>\n",
              "      <td>97.49</td>\n",
              "      <td>0.0</td>\n",
              "      <td>0</td>\n",
              "      <td>2015</td>\n",
              "      <td>Albany</td>\n",
              "      <td>-0.230427</td>\n",
              "      <td>(1.283, 1.564]</td>\n",
              "      <td>4.739390</td>\n",
              "      <td>74083.9230</td>\n",
              "      <td>4.869724</td>\n",
              "    </tr>\n",
              "    <tr>\n",
              "      <th>2</th>\n",
              "      <td>2015-12-13</td>\n",
              "      <td>0.93</td>\n",
              "      <td>118220.22</td>\n",
              "      <td>794.70</td>\n",
              "      <td>109149.67</td>\n",
              "      <td>130.50</td>\n",
              "      <td>8145.35</td>\n",
              "      <td>8042.21</td>\n",
              "      <td>103.14</td>\n",
              "      <td>0.0</td>\n",
              "      <td>0</td>\n",
              "      <td>2015</td>\n",
              "      <td>Albany</td>\n",
              "      <td>-0.212085</td>\n",
              "      <td>(0.721, 1.002]</td>\n",
              "      <td>5.072692</td>\n",
              "      <td>109944.8046</td>\n",
              "      <td>5.041175</td>\n",
              "    </tr>\n",
              "    <tr>\n",
              "      <th>3</th>\n",
              "      <td>2015-12-06</td>\n",
              "      <td>1.08</td>\n",
              "      <td>78992.15</td>\n",
              "      <td>1132.00</td>\n",
              "      <td>71976.41</td>\n",
              "      <td>72.58</td>\n",
              "      <td>5811.16</td>\n",
              "      <td>5677.40</td>\n",
              "      <td>133.76</td>\n",
              "      <td>0.0</td>\n",
              "      <td>0</td>\n",
              "      <td>2015</td>\n",
              "      <td>Albany</td>\n",
              "      <td>-0.223444</td>\n",
              "      <td>(1.002, 1.283]</td>\n",
              "      <td>4.897584</td>\n",
              "      <td>85311.5220</td>\n",
              "      <td>4.931008</td>\n",
              "    </tr>\n",
              "    <tr>\n",
              "      <th>4</th>\n",
              "      <td>2015-11-29</td>\n",
              "      <td>1.28</td>\n",
              "      <td>51039.60</td>\n",
              "      <td>941.48</td>\n",
              "      <td>43838.39</td>\n",
              "      <td>75.78</td>\n",
              "      <td>6183.95</td>\n",
              "      <td>5986.26</td>\n",
              "      <td>197.69</td>\n",
              "      <td>0.0</td>\n",
              "      <td>0</td>\n",
              "      <td>2015</td>\n",
              "      <td>Albany</td>\n",
              "      <td>-0.231538</td>\n",
              "      <td>(1.002, 1.283]</td>\n",
              "      <td>4.707907</td>\n",
              "      <td>65330.6880</td>\n",
              "      <td>4.815117</td>\n",
              "    </tr>\n",
              "  </tbody>\n",
              "</table>\n",
              "</div>"
            ],
            "text/plain": [
              "         date  average_price  ...        yield  yield_log\n",
              "0  2015-12-27           1.33  ...   85434.7046   4.931634\n",
              "1  2015-12-20           1.35  ...   74083.9230   4.869724\n",
              "2  2015-12-13           0.93  ...  109944.8046   5.041175\n",
              "3  2015-12-06           1.08  ...   85311.5220   4.931008\n",
              "4  2015-11-29           1.28  ...   65330.6880   4.815117\n",
              "\n",
              "[5 rows x 18 columns]"
            ]
          },
          "metadata": {
            "tags": []
          },
          "execution_count": 2192
        }
      ]
    },
    {
      "cell_type": "code",
      "metadata": {
        "id": "yqaX7ICeC8KW"
      },
      "source": [
        "from statsmodels.stats.weightstats import ztest"
      ],
      "execution_count": 2193,
      "outputs": []
    },
    {
      "cell_type": "markdown",
      "metadata": {
        "id": "G7-ko7VlLNg9"
      },
      "source": [
        "- Estatística 1\n",
        "\n",
        "$\\Large{stats = \\mu_{verao} - \\mu_{outono}}$\n",
        " \n",
        "$\\Large{H_0: stats <= 0}$\n",
        "\n",
        "$\\Large{H_1: stats > 0}$"
      ]
    },
    {
      "cell_type": "code",
      "metadata": {
        "colab": {
          "base_uri": "https://localhost:8080/"
        },
        "id": "15oX3oeELJds",
        "outputId": "98acf50f-b302-4a51-bf7b-5e515eff8cc1"
      },
      "source": [
        "#verão = 21 de junho a 23 de setembro\n",
        "#outono = 22 ou 23 de setembro a 22 de dezembro.\n",
        "verao1 = df[df['date'] >= '2016-06-21']\n",
        "verao2 = df[df['date'] <= '2016-09-22']\n",
        "verao = pd.concat([verao1,verao2])\n",
        "outono1 = df[df['date'] >= '2016-09-23']\n",
        "outono2 = df[df['date'] >= '2016-12-22']\n",
        "outono = pd.concat([outono1,outono2])\n",
        "\n",
        "aproveitamento_verao = verao['total_volume'].reset_index(drop = True)\n",
        "aproveitamento_verao = aproveitamento_verao[aproveitamento_verao < np.quantile(aproveitamento_verao, .95)]\n",
        "aproveitamento_outono = outono['total_volume'].reset_index(drop = True)\n",
        "aproveitamento_outono = aproveitamento_outono[aproveitamento_outono < np.quantile(aproveitamento_outono, .95)]\n",
        "\n",
        "t, pvalue = ztest(aproveitamento_verao, aproveitamento_outono, value=0, alternative=\"larger\")\n",
        "pvalue\n",
        "\n"
      ],
      "execution_count": 2194,
      "outputs": [
        {
          "output_type": "execute_result",
          "data": {
            "text/plain": [
              "0.9753044870531273"
            ]
          },
          "metadata": {
            "tags": []
          },
          "execution_count": 2194
        }
      ]
    },
    {
      "cell_type": "markdown",
      "metadata": {
        "id": "mUTJqzjkSZ9U"
      },
      "source": [
        "Como o P-Value é maior do que 0.05, falhamos em rejeitar a hipótese nula."
      ]
    },
    {
      "cell_type": "markdown",
      "metadata": {
        "id": "l94caUPhS1ou"
      },
      "source": [
        "- Estatística 2\n",
        "\n",
        "$\\Large{stats = \\mu_{2017} - \\mu_{2016}}$\n",
        " \n",
        "$\\Large{H_0: stats <= 0}$\n",
        "\n",
        "$\\Large{H_1: stats > 0}$"
      ]
    },
    {
      "cell_type": "code",
      "metadata": {
        "colab": {
          "base_uri": "https://localhost:8080/"
        },
        "id": "0V53yZW-SbSM",
        "outputId": "9556bc25-964e-4610-a3fa-de5324432824"
      },
      "source": [
        "average_price_2017 = df[df['year'] == 2017].reset_index(drop = True)['average_price']\n",
        "average_price_2017 = average_price_2017[average_price_2017 < np.quantile(average_price_2017, .95)]\n",
        "average_price_2016 = df[df['year'] == 2016].reset_index(drop = True)['average_price']\n",
        "average_price_2016 = average_price_2016[average_price_2016 < np.quantile(average_price_2016, .95)]\n",
        "\n",
        "t, pvalue = ztest(average_price_2016, average_price_2017, value=0, alternative=\"larger\")\n",
        "pvalue"
      ],
      "execution_count": 2196,
      "outputs": [
        {
          "output_type": "execute_result",
          "data": {
            "text/plain": [
              "1.0"
            ]
          },
          "metadata": {
            "tags": []
          },
          "execution_count": 2196
        }
      ]
    },
    {
      "cell_type": "markdown",
      "metadata": {
        "id": "RuhVDFAvUHmF"
      },
      "source": [
        "Como o P-Value é maior do que 0.05, falhamos em rejeitar a hipótese nula."
      ]
    }
  ]
}